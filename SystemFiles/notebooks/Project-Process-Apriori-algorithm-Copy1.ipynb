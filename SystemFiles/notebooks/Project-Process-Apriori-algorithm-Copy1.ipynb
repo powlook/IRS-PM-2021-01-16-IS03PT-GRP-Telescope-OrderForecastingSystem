{
 "cells": [
  {
   "cell_type": "code",
   "execution_count": 1,
   "metadata": {},
   "outputs": [],
   "source": [
    "%run ../src/apriori-lib.py\n",
    "%run ../src/apriori-testing-v8.py"
   ]
  },
  {
   "cell_type": "code",
   "execution_count": 2,
   "metadata": {},
   "outputs": [],
   "source": [
    "# -*- coding: utf-8 -*-\n",
    "\n",
    "import os\n",
    "import numpy as np\n",
    "import pandas as pd\n",
    "from random import sample \n",
    "import matplotlib.pyplot as plt"
   ]
  },
  {
   "cell_type": "code",
   "execution_count": 3,
   "metadata": {},
   "outputs": [
    {
     "name": "stdout",
     "output_type": "stream",
     "text": [
      "119\n"
     ]
    }
   ],
   "source": [
    "# load the pagecategory view events\n",
    "trans = pd.read_csv('../data/order_after_preprocess.csv') \n",
    "# trans.columns = ['user','item']\n",
    "# print(trans.item.nunique()) # show the number of vroots\n",
    "trans.head()\n",
    "\n",
    "trans['line_items_sku'] = trans['line_items.sku'].apply(str)\n",
    "allitems = np.unique(trans.line_items_sku); print (len(allitems)) # get the distinct items title\n"
   ]
  },
  {
   "cell_type": "code",
   "execution_count": 4,
   "metadata": {},
   "outputs": [
    {
     "name": "stdout",
     "output_type": "stream",
     "text": [
      "Series([], Name: line_items.sku, dtype: object)\n"
     ]
    },
    {
     "data": {
      "text/plain": [
       "customer.id\n",
       "6.552711e+09                           [CVL-DCW-BLK, M80-SAD-ASH]\n",
       "6.552712e+09    [PFX-PB-M-BLK-BDL, PFX-PB-M-SLV-BDL, PFX-PB-M-...\n",
       "6.552716e+09                         [M80-CY22-BLK, PFX-PB-M-SLV]\n",
       "6.552716e+09    [M80-VEG-BLK, M80-VHB-BLK, M80-VEG-GRY, M80-VH...\n",
       "6.552716e+09    [M80-EG-BLK, M80-AC-BLK, M80-VHB-BLK, M80-SEB-...\n",
       "                                      ...                        \n",
       "5.053273e+12                                         [M80-2B-BLK]\n",
       "5.053724e+12                                    [M80-FLY-ULT-BLK]\n",
       "5.054049e+12                                    [M80-TOUR-V2-BLK]\n",
       "5.054276e+12                                      [M80-BTY-ASH-S]\n",
       "5.054629e+12                                    [M80-FLY-ULT-BLK]\n",
       "Name: line_items.sku, Length: 3805, dtype: object"
      ]
     },
     "execution_count": 4,
     "metadata": {},
     "output_type": "execute_result"
    }
   ],
   "source": [
    "baskets = trans.groupby('customer.id')['line_items.sku'].apply(list)  # convert transactions into baskets (a series of lists)\n",
    "print(baskets[0:30])\n",
    "baskets"
   ]
  },
  {
   "cell_type": "code",
   "execution_count": 5,
   "metadata": {},
   "outputs": [
    {
     "data": {
      "text/plain": [
       "customer.id\n",
       "6.552711e+09                           [CVL-DCW-BLK, M80-SAD-ASH]\n",
       "6.552712e+09    [PFX-PB-M-BLK-BDL, PFX-PB-M-SLV-BDL, PFX-PB-M-...\n",
       "6.552716e+09                         [M80-CY22-BLK, PFX-PB-M-SLV]\n",
       "6.552716e+09    [M80-VEG-BLK, M80-VHB-BLK, M80-VEG-GRY, M80-VH...\n",
       "6.552716e+09    [M80-EG-BLK, M80-AC-BLK, M80-VHB-BLK, M80-SEB-...\n",
       "                                      ...                        \n",
       "5.040410e+12                     [M80-TICK-V2-BLK, M80-BTY-BLK-L]\n",
       "5.040438e+12                   [PFX-PB-ACC-KIT, PFX-PB-L-BLK-BDL]\n",
       "5.042806e+12                          [M80-STEB-BLK, M80-SEB-ASH]\n",
       "5.047406e+12                     [M80-TICK-V2-GRY, PFX-PB-LT-BLK]\n",
       "5.052595e+12        [PFX-PB-LT-BLK, M80-TICK-V2-BLK, M80-VHB-BLK]\n",
       "Name: line_items.sku, Length: 961, dtype: object"
      ]
     },
     "execution_count": 5,
     "metadata": {},
     "output_type": "execute_result"
    }
   ],
   "source": [
    "min_item_in_baskets = 2\n",
    "indexes = list(baskets.index)\n",
    "for i in indexes:    \n",
    "    if (len(baskets[i]) < min_item_in_baskets):\n",
    "        baskets = baskets.drop(labels=i)\n",
    "        # print(len(baskets[i]), baskets[i], i)\n",
    "baskets"
   ]
  },
  {
   "cell_type": "code",
   "execution_count": 6,
   "metadata": {},
   "outputs": [
    {
     "name": "stdout",
     "output_type": "stream",
     "text": [
      "['M80-TICK-V2-BLK', 'M80-VEG-BLK', 'M80-EG-BLK', 'EFX-FLY-BLK', 'M80-2G-BLK', 'M80-VHB-BLK', 'M80-TOUR-V2-BLK', 'M80-VEB-BLK', 'M80-CLUB-V2-BLK', 'M80-BTY-BLK-L', 'M80-SEG-BLK', 'M80-EB-BLK', 'M80-AD-BLK', 'M80-VAD-BLK', 'M80-2B-BLK', 'M80-BTY-BLK-S', 'M80-SEB-BLK', 'M80-SEG-ASH', 'M80-2A-BLK', 'M80-AC-BLK']\n"
     ]
    },
    {
     "data": {
      "image/png": "[encoded data removed]",
      "text/plain": [
       "<Figure size 432x288 with 1 Axes>"
      ]
     },
     "metadata": {
      "needs_background": "light"
     },
     "output_type": "display_data"
    }
   ],
   "source": [
    "# do some simple data visualisation/data exploration\n",
    "itemfreqcnts = itemcounts(baskets) # count item frequencies\n",
    "sorted(itemfreqcnts.items(), key=lambda kv: kv[1], reverse=True) # reverse sort by frequency\n",
    "\n",
    "# display as histogram\n",
    "rankeditems = [k for k,v in sorted(itemfreqcnts.items(), key=lambda kv: kv[1], reverse=True)]\n",
    "frequencies = [v for k,v in sorted(itemfreqcnts.items(), key=lambda kv: kv[1], reverse=True)]\n",
    "topN=20\n",
    "plt.barh(rankeditems[0:topN], frequencies[0:topN], align='center', alpha=0.5)\n",
    "print(rankeditems[0:topN])"
   ]
  },
  {
   "cell_type": "code",
   "execution_count": 7,
   "metadata": {},
   "outputs": [
    {
     "name": "stdout",
     "output_type": "stream",
     "text": [
      "0\n",
      "0\n",
      "47603\n"
     ]
    }
   ],
   "source": [
    "# build a set of association rules, experiment using different support and confidence parameters\n",
    "freqItemSet, rules = apriori(baskets, minSup=0.2, minConf=0.2); print(len(rules)) #\n",
    "freqItemSet, rules = apriori(baskets, minSup=0.1, minConf=0.1); print(len(rules)) #\n",
    "freqItemSet, rules = apriori(baskets, minSup=0.01, minConf=0.1); print(len(rules)) # "
   ]
  },
  {
   "cell_type": "code",
   "execution_count": 8,
   "metadata": {},
   "outputs": [
    {
     "name": "stdout",
     "output_type": "stream",
     "text": [
      "1.00 \t {'M80-VEG-BLK'} <=\t {'M80-BTY-BLK-L', 'M80-2A-BLK'}\n",
      "1.00 \t {'M80-VEB-BLK'} <=\t {'M80-AC-BLK', 'M80-K61-BLK'}\n",
      "1.00 \t {'M80-VEG-BLK'} <=\t {'M80-EG-BLK', 'M80-SN-BLK'}\n",
      "1.00 \t {'M80-BTY-BLK-L'} <=\t {'M80-VEG-BLK', 'M80-BTY-ASH-S'}\n",
      "1.00 \t {'M80-VEG-BLK'} <=\t {'PFX-PB-S-BLK', 'M80-VHB-BLK'}\n",
      "1.00 \t {'M80-VEG-BLK'} <=\t {'M80-VEG-GRY', 'M80-SEB-ASH'}\n",
      "1.00 \t {'M80-EG-BLK'} <=\t {'M80-SEB-ASH', 'M80-VAD-BLK'}\n",
      "1.00 \t {'M80-VEB-BLK'} <=\t {'M80-2A-BLK', 'M80-VEB-GRY'}\n",
      "1.00 \t {'M80-VEG-BLK'} <=\t {'M80-AC-BLK', 'M80-K61-BLK'}\n",
      "1.00 \t {'M80-EG-BLK'} <=\t {'M80-TICK-V2-GRY', 'M80-BTY-BLK-S'}\n",
      "1.00 \t {'M80-VEB-BLK'} <=\t {'M80-2B-BLK', 'M80-VAD-BLK'}\n",
      "1.00 \t {'M80-VEG-BLK'} <=\t {'M80-CLUB-V2-BLK', 'M80-VEG-GRY'}\n",
      "1.00 \t {'M80-VEG-BLK'} <=\t {'M80-TICK-V2-BLK', 'M80-SEB-ASH'}\n",
      "1.00 \t {'M80-VEG-BLK'} <=\t {'M80-BTY-BLK-S', 'M80-VHB-BLK'}\n",
      "1.00 \t {'M80-VAD-BLK'} <=\t {'M80-BTY-BLK-L', 'M80-2A-BLK'}\n",
      "1.00 \t {'M80-VEG-BLK'} <=\t {'M80-CY24-ASH', 'M80-VHB-BLK'}\n",
      "1.00 \t {'M80-VEB-BLK'} <=\t {'M80-VAD-BLK', 'M80-K61-BLK'}\n",
      "1.00 \t {'M80-2G-BLK'} <=\t {'M80-SEG-ASH', 'M80-K61-BLK'}\n",
      "1.00 \t {'M80-SEG-ASH'} <=\t {'M80-SEB-ASH', 'M80-SAD-ASH'}\n",
      "1.00 \t {'M80-VEG-BLK'} <=\t {'EFX-FLY-BLK', 'M80-SAD-ASH'}\n",
      "1.00 \t {'M80-VEB-BLK'} <=\t {'M80-VEB-GRY', 'M80-K61-BLK'}\n",
      "1.00 \t {'M80-SEG-ASH'} <=\t {'M80-SEB-BLK', 'M80-SAD-ASH'}\n",
      "1.00 \t {'M80-VEB-BLK'} <=\t {'M80-2A-BLK', 'M80-K61-BLK'}\n",
      "1.00 \t {'M80-SEG-ASH'} <=\t {'M80-2B-BLK', 'M80-VAD-BLK'}\n",
      "1.00 \t {'M80-VEG-BLK'} <=\t {'M80-2G-BLK', 'M80-SN-BLK'}\n",
      "1.00 \t {'M80-SEG-ASH'} <=\t {'M80-SAD-BLK', 'M80-2B-BLK'}\n",
      "1.00 \t {'M80-VEG-BLK'} <=\t {'M80-SEG-ASH', 'M80-K61-BLK'}\n",
      "1.00 \t {'M80-VEG-BLK'} <=\t {'M80-EG-BLK', 'M80-K61-BLK'}\n",
      "1.00 \t {'M80-VEG-BLK'} <=\t {'M80-BTY-BLK-L', 'M80-TICK-V2-GRY'}\n",
      "1.00 \t {'M80-EG-BLK'} <=\t {'M80-SEG-ASH', 'M80-EB-BLK'}\n",
      "1.00 \t {'M80-VEG-BLK'} <=\t {'M80-2G-BLK', 'M80-VEB-GRY'}\n",
      "1.00 \t {'M80-VEG-BLK'} <=\t {'M80-VHB-BLK', 'M80-EB-BLK'}\n",
      "1.00 \t {'M80-2B-BLK'} <=\t {'M80-SEB-BLK', 'M80-SAD-ASH'}\n",
      "1.00 \t {'M80-EG-BLK'} <=\t {'M80-2A-BLK', 'M80-EB-BLK'}\n",
      "1.00 \t {'M80-EG-BLK'} <=\t {'M80-SEG-ASH', 'M80-TOUR-V2-BLK'}\n",
      "1.00 \t {'M80-EG-BLK'} <=\t {'M80-2A-BLK', 'M80-SEB-ASH'}\n",
      "1.00 \t {'M80-VEG-BLK'} <=\t {'M80-SEB-ASH', 'M80-2A-BLK'}\n",
      "1.00 \t {'M80-VEG-BLK'} <=\t {'M80-VHB-BLK', 'M80-SN-BLK'}\n",
      "1.00 \t {'M80-VHB-BLK'} <=\t {'M80-BTY-BLK-L', 'M80-TICK-V2-GRY'}\n",
      "1.00 \t {'M80-VEG-BLK'} <=\t {'M80-BTY-ASH-L', 'M80-VHB-BLK'}\n",
      "1.00 \t {'M80-SEG-ASH'} <=\t {'M80-SAD-BLK', 'M80-EG-BLK'}\n",
      "1.00 \t {'M80-VEG-BLK'} <=\t {'M80-2A-BLK', 'M80-K61-BLK'}\n",
      "1.00 \t {'M80-VHB-BLK'} <=\t {'M80-VEG-GRY', 'M80-SEB-ASH'}\n",
      "1.00 \t {'M80-EG-BLK'} <=\t {'M80-SEB-BLK', 'M80-SAD-ASH'}\n",
      "1.00 \t {'M80-VEG-BLK'} <=\t {'M80-2G-BLK', 'M80-BTY-ASH-L'}\n",
      "1.00 \t {'M80-VEG-BLK'} <=\t {'M80-2G-BLK', 'M80-BTY-ASH-S'}\n",
      "1.00 \t {'M80-EG-BLK'} <=\t {'M80-SAD-BLK', 'M80-2B-BLK'}\n",
      "1.00 \t {'M80-VEG-BLK'} <=\t {'M80-SEB-ASH', 'M80-VAD-BLK'}\n",
      "1.00 \t {'M80-SEG-ASH'} <=\t {'M80-SEG-BLK', 'M80-SAD-ASH'}\n",
      "1.00 \t {'M80-VEG-BLK'} <=\t {'M80-2G-BLK', 'M80-SEB-ASH'}\n",
      "53\n"
     ]
    },
    {
     "data": {
      "text/plain": [
       "{'M80-VEG-BLK': 15457,\n",
       " 'M80-VEB-BLK': 6166,\n",
       " 'M80-BTY-BLK-L': 2947,\n",
       " 'M80-EG-BLK': 12707,\n",
       " 'M80-VAD-BLK': 4815,\n",
       " 'M80-2G-BLK': 12807,\n",
       " 'M80-SEG-ASH': 10304,\n",
       " 'M80-2B-BLK': 4051,\n",
       " 'M80-VHB-BLK': 12254,\n",
       " 'M80-SEB-BLK': 3576,\n",
       " 'M80-VEB-GRY': 3484,\n",
       " 'M80-SEB-ASH': 4838,\n",
       " 'M80-SEG-BLK': 4224,\n",
       " 'M80-BTY-BLK-S': 419,\n",
       " 'M80-VEG-GRY': 3178,\n",
       " 'M80-TOUR-V2-BLK': 1221,\n",
       " 'M80-K61-BLK': 3463,\n",
       " 'M80-TICK-V2-BLK': 1464,\n",
       " 'M80-SAD-ASH': 499,\n",
       " 'M80-PRO-V2-BLK': 4,\n",
       " 'M80-AD-BLK': 284,\n",
       " 'M80-BTY-ASH-L': 108,\n",
       " 'M80-2A-BLK': 1690,\n",
       " 'M80-CLUB-V2-BLK': 737,\n",
       " 'M80-TICK-V2-GRY': 50,\n",
       " 'M80-AC-BLK': 857,\n",
       " 'EFX-FLY-BLK': 1467,\n",
       " 'M80-EB-BLK': 202,\n",
       " 'M80-WAR-BLK': 11,\n",
       " 'M80-CY22-ASH': 4,\n",
       " 'M80-DLT-BLK': 5,\n",
       " 'M80-SAD-BLK': 28,\n",
       " 'PFX-PB-ACC-KIT': 1,\n",
       " 'M80-WAR-GRY': 1,\n",
       " 'M80-CY22-BLK': 32,\n",
       " 'M80-BTY-ASH-S': 26,\n",
       " 'PFX-PB-L-BLK': 1,\n",
       " 'PFX-PB-LT-BLK': 14,\n",
       " 'PFX-PB-M-BLK': 5,\n",
       " 'M80-SN-BLK': 10,\n",
       " 'M80-ST-ASH': 1,\n",
       " 'M80-SS-BLK': 2,\n",
       " 'M80-CY24-BLK': 3,\n",
       " 'M80-DLT-GRY': 1,\n",
       " 'PFX-PB-S-BLK': 4,\n",
       " 'PFX-PB-S-SLV': 1,\n",
       " 'M80-CY24-ASH': 4,\n",
       " 'PFX-PB-L-SLV': 1,\n",
       " 'PFX-PB-M-BLK-BDL': 1,\n",
       " 'M80-AP-BLK': 1,\n",
       " 'PFX-PB-LT-SLV': 1,\n",
       " 'PFX-PB-M-SLV': 1,\n",
       " 'M80-STEG-BLK': 2}"
      ]
     },
     "execution_count": 8,
     "metadata": {},
     "output_type": "execute_result"
    }
   ],
   "source": [
    "# examine the top rules and determine the number of unique items that the rules can recommend (target)\n",
    "# print(rules[0:10])\n",
    "showrules(rules, N=50)\n",
    "ruleRHSitems = RHSitems(rules); print(len(ruleRHSitems))\n",
    "ruleRHSitems # show each unqiue targeted item and number of rules that recommend that item"
   ]
  },
  {
   "cell_type": "code",
   "execution_count": 9,
   "metadata": {},
   "outputs": [
    {
     "data": {
      "text/plain": [
       "136881"
      ]
     },
     "execution_count": 9,
     "metadata": {},
     "output_type": "execute_result"
    }
   ],
   "source": [
    "# to test the rules we first divide the baskets into training and test sets and then rebuild the ruleset\n",
    "testsize = int(len(baskets)*0.1); testsize # set the size of the test set\n",
    "testids  = sample(list(baskets.index),testsize)\n",
    "trainids = list(set(baskets.index) - set(testids))\n",
    "trainbaskets = baskets[trainids]\n",
    "testbaskets  = baskets[testids]\n",
    "\n",
    "# rebuild the ruleset using the training baskest only\n",
    "freqItemSet, rules = apriori(trainbaskets, minSup=0.01, minConf=0.1); len(rules) "
   ]
  },
  {
   "cell_type": "code",
   "execution_count": 10,
   "metadata": {},
   "outputs": [
    {
     "name": "stdout",
     "output_type": "stream",
     "text": [
      "['EFX-FLY-BLK', 'CVL-DCW-BLK', 'CVL-PPW-BLK']\n"
     ]
    },
    {
     "data": {
      "text/plain": [
       "[('M80-VEG-BLK', 0.2777777777777778),\n",
       " ('M80-2G-BLK', 0.23148148148148148),\n",
       " ('M80-VHB-BLK', 0.21296296296296297),\n",
       " ('M80-TICK-V2-BLK', 0.2037037037037037),\n",
       " ('M80-EG-BLK', 0.19444444444444445),\n",
       " ('M80-CLUB-V2-BLK', 0.17592592592592593),\n",
       " ('M80-SEG-BLK', 0.1574074074074074),\n",
       " ('M80-2B-BLK', 0.1574074074074074),\n",
       " ('M80-VEB-BLK', 0.1574074074074074),\n",
       " ('M80-BTY-BLK-L', 0.1574074074074074)]"
      ]
     },
     "execution_count": 10,
     "metadata": {},
     "output_type": "execute_result"
    }
   ],
   "source": [
    "# make recommendations for one basket (e.g. for one user at basket checkout time)\n",
    "testbasket = testbaskets.iloc[1]; print(testbasket)\n",
    "execrules_anymatch(testbasket, rules) # allows any subset of the testbasket to match a rule LHS"
   ]
  },
  {
   "cell_type": "code",
   "execution_count": 11,
   "metadata": {},
   "outputs": [
    {
     "name": "stdout",
     "output_type": "stream",
     "text": [
      "#holdbacks= 248 recitems= 724 hits= 68 (9.39%) randrecitems= 724 randhits= 2 (0.28%) rulelift=34.00\n"
     ]
    }
   ],
   "source": [
    "_ = rulehits_holdout_lift(testbaskets, rules, allitems, topN=3, tpb=5)"
   ]
  },
  {
   "cell_type": "code",
   "execution_count": 12,
   "metadata": {},
   "outputs": [
    {
     "name": "stdout",
     "output_type": "stream",
     "text": [
      "#holdbacks= 248 recitems= 1189 hits= 78 (6.56%) randrecitems= 1189 randhits= 10 (0.84%) rulelift=7.80\n"
     ]
    }
   ],
   "source": [
    "_ = rulehits_holdout_lift(testbaskets, rules, allitems, topN=5, tpb=5)"
   ]
  },
  {
   "cell_type": "code",
   "execution_count": 13,
   "metadata": {},
   "outputs": [
    {
     "name": "stdout",
     "output_type": "stream",
     "text": [
      "#holdbacks= 248 recitems= 1626 hits= 88 (5.41%) randrecitems= 1626 randhits= 9 (0.55%) rulelift=9.78\n"
     ]
    }
   ],
   "source": [
    "_ = rulehits_holdout_lift(testbaskets, rules, allitems, topN=7, tpb=5)"
   ]
  },
  {
   "cell_type": "code",
   "execution_count": 14,
   "metadata": {},
   "outputs": [
    {
     "name": "stdout",
     "output_type": "stream",
     "text": [
      "#holdbacks= 270 recitems= 790 hits= 69 (8.73%) randrecitems= 790 randhits= 4 (0.51%) rulelift=17.25\n"
     ]
    }
   ],
   "source": [
    "_ = rulehits_holdout_lift(testbaskets, rules, allitems, topN=3, tpb=7)"
   ]
  },
  {
   "cell_type": "code",
   "execution_count": 15,
   "metadata": {},
   "outputs": [
    {
     "name": "stdout",
     "output_type": "stream",
     "text": [
      "#holdbacks= 248 recitems= 724 hits= 68 (9.39%) randrecitems= 724 randhits= 3 (0.41%) rulelift=22.67\n"
     ]
    }
   ],
   "source": [
    "_ = rulehits_holdout_lift(testbaskets, rules, allitems, topN=3, tpb=5)"
   ]
  },
  {
   "cell_type": "code",
   "execution_count": null,
   "metadata": {},
   "outputs": [],
   "source": []
  }
 ],
 "metadata": {
  "kernelspec": {
   "display_name": "Python 3",
   "language": "python",
   "name": "python3"
  },
  "language_info": {
   "codemirror_mode": {
    "name": "ipython",
    "version": 3
   },
   "file_extension": ".py",
   "mimetype": "text/x-python",
   "name": "python",
   "nbconvert_exporter": "python",
   "pygments_lexer": "ipython3",
   "version": "3.7.5"
  }
 },
 "nbformat": 4,
 "nbformat_minor": 2
}
