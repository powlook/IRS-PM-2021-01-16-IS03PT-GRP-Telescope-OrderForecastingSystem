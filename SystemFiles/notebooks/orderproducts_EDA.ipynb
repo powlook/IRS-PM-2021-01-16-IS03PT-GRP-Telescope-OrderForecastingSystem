{
 "cells": [
  {
   "cell_type": "code",
   "execution_count": 1,
   "metadata": {
    "ExecuteTime": {
     "end_time": "2021-03-16T11:27:54.077258Z",
     "start_time": "2021-03-16T11:27:53.163242Z"
    }
   },
   "outputs": [],
   "source": [
    "import pandas as pd\n",
    "import numpy as np\n",
    "from datetime import datetime, date\n",
    "import matplotlib.pyplot as plt\n",
    "import seaborn as sns"
   ]
  },
  {
   "cell_type": "code",
   "execution_count": 2,
   "metadata": {
    "ExecuteTime": {
     "end_time": "2021-03-16T11:27:54.777062Z",
     "start_time": "2021-03-16T11:27:54.729848Z"
    }
   },
   "outputs": [],
   "source": [
    "orderproducts = pd.read_csv('../data/orderproducts.csv', parse_dates=[1,11], infer_datetime_format=True)"
   ]
  },
  {
   "cell_type": "code",
   "execution_count": 3,
   "metadata": {
    "ExecuteTime": {
     "end_time": "2021-03-16T11:27:55.264879Z",
     "start_time": "2021-03-16T11:27:55.256844Z"
    }
   },
   "outputs": [],
   "source": [
    "products = pd.read_csv('../data/products.csv')"
   ]
  },
  {
   "cell_type": "code",
   "execution_count": 4,
   "metadata": {
    "ExecuteTime": {
     "end_time": "2021-03-16T11:27:56.069503Z",
     "start_time": "2021-03-16T11:27:56.058509Z"
    }
   },
   "outputs": [
    {
     "name": "stdout",
     "output_type": "stream",
     "text": [
      "<class 'pandas.core.frame.DataFrame'>\n",
      "RangeIndex: 7560 entries, 0 to 7559\n",
      "Data columns (total 12 columns):\n",
      " #   Column              Non-Null Count  Dtype              \n",
      "---  ------              --------------  -----              \n",
      " 0   order_id            7560 non-null   int64              \n",
      " 1   order_created_at    7560 non-null   datetime64[ns, UTC]\n",
      " 2   order_total_price   3791 non-null   float64            \n",
      " 3   order_status        7189 non-null   object             \n",
      " 4   order_discounts     7560 non-null   object             \n",
      " 5   product_title       7560 non-null   object             \n",
      " 6   product_sku         7551 non-null   object             \n",
      " 7   product_quantity    7560 non-null   int64              \n",
      " 8   product_discount    7560 non-null   float64            \n",
      " 9   product_category    7152 non-null   object             \n",
      " 10  product_deparments  0 non-null      float64            \n",
      " 11  product_created_at  7152 non-null   datetime64[ns, UTC]\n",
      "dtypes: datetime64[ns, UTC](2), float64(3), int64(2), object(5)\n",
      "memory usage: 708.9+ KB\n"
     ]
    }
   ],
   "source": [
    "orderproducts.info()"
   ]
  },
  {
   "cell_type": "code",
   "execution_count": 5,
   "metadata": {
    "ExecuteTime": {
     "end_time": "2021-03-16T11:28:00.470895Z",
     "start_time": "2021-03-16T11:28:00.446863Z"
    },
    "scrolled": false
   },
   "outputs": [
    {
     "data": {
      "text/html": [
       "<div>\n",
       "<style scoped>\n",
       "    .dataframe tbody tr th:only-of-type {\n",
       "        vertical-align: middle;\n",
       "    }\n",
       "\n",
       "    .dataframe tbody tr th {\n",
       "        vertical-align: top;\n",
       "    }\n",
       "\n",
       "    .dataframe thead th {\n",
       "        text-align: right;\n",
       "    }\n",
       "</style>\n",
       "<table border=\"1\" class=\"dataframe\">\n",
       "  <thead>\n",
       "    <tr style=\"text-align: right;\">\n",
       "      <th></th>\n",
       "      <th>order_id</th>\n",
       "      <th>order_created_at</th>\n",
       "      <th>order_total_price</th>\n",
       "      <th>order_status</th>\n",
       "      <th>order_discounts</th>\n",
       "      <th>product_title</th>\n",
       "      <th>product_sku</th>\n",
       "      <th>product_quantity</th>\n",
       "      <th>product_discount</th>\n",
       "      <th>product_category</th>\n",
       "      <th>product_deparments</th>\n",
       "      <th>product_created_at</th>\n",
       "    </tr>\n",
       "  </thead>\n",
       "  <tbody>\n",
       "    <tr>\n",
       "      <th>0</th>\n",
       "      <td>20570</td>\n",
       "      <td>2018-01-01 17:24:47+00:00</td>\n",
       "      <td>449.97</td>\n",
       "      <td>fulfilled</td>\n",
       "      <td>yes</td>\n",
       "      <td>Vertigo™ Semi-Hollow</td>\n",
       "      <td>M80-VHB-BLK</td>\n",
       "      <td>1</td>\n",
       "      <td>0.00</td>\n",
       "      <td>Electric Guitar Cases &amp; Gig Bags</td>\n",
       "      <td>NaN</td>\n",
       "      <td>2017-10-26 02:57:14+00:00</td>\n",
       "    </tr>\n",
       "    <tr>\n",
       "      <th>1</th>\n",
       "      <td>20570</td>\n",
       "      <td>2018-01-01 17:24:47+00:00</td>\n",
       "      <td>449.97</td>\n",
       "      <td>fulfilled</td>\n",
       "      <td>yes</td>\n",
       "      <td>The Tick™ 2.0 Black</td>\n",
       "      <td>M80-TICK-V2-BLK</td>\n",
       "      <td>1</td>\n",
       "      <td>0.00</td>\n",
       "      <td>Pedals &amp; Pedalboards Cases &amp; Gig Bags</td>\n",
       "      <td>NaN</td>\n",
       "      <td>2017-10-26 02:57:14+00:00</td>\n",
       "    </tr>\n",
       "    <tr>\n",
       "      <th>2</th>\n",
       "      <td>20570</td>\n",
       "      <td>2018-01-01 17:24:47+00:00</td>\n",
       "      <td>449.97</td>\n",
       "      <td>fulfilled</td>\n",
       "      <td>yes</td>\n",
       "      <td>Pedalboard Lite (Silver)</td>\n",
       "      <td>PFX-PB-LT-SLV</td>\n",
       "      <td>1</td>\n",
       "      <td>0.00</td>\n",
       "      <td>Pedalboards</td>\n",
       "      <td>NaN</td>\n",
       "      <td>2017-10-26 02:57:14+00:00</td>\n",
       "    </tr>\n",
       "    <tr>\n",
       "      <th>3</th>\n",
       "      <td>20556</td>\n",
       "      <td>2018-01-02 10:56:19+00:00</td>\n",
       "      <td>249.99</td>\n",
       "      <td>fulfilled</td>\n",
       "      <td>yes</td>\n",
       "      <td>Vertigo™ Semi-Hollow</td>\n",
       "      <td>M80-VHB-BLK</td>\n",
       "      <td>1</td>\n",
       "      <td>0.00</td>\n",
       "      <td>Electric Guitar Cases &amp; Gig Bags</td>\n",
       "      <td>NaN</td>\n",
       "      <td>2017-10-26 02:57:14+00:00</td>\n",
       "    </tr>\n",
       "    <tr>\n",
       "      <th>4</th>\n",
       "      <td>20554</td>\n",
       "      <td>2018-01-02 11:45:26+00:00</td>\n",
       "      <td>NaN</td>\n",
       "      <td>fulfilled</td>\n",
       "      <td>no</td>\n",
       "      <td>The FlyBy</td>\n",
       "      <td>EFX-FLY-BLK</td>\n",
       "      <td>1</td>\n",
       "      <td>229.99</td>\n",
       "      <td>DJ Equipment Cases &amp; Gig Bags</td>\n",
       "      <td>NaN</td>\n",
       "      <td>2017-10-26 02:57:14+00:00</td>\n",
       "    </tr>\n",
       "  </tbody>\n",
       "</table>\n",
       "</div>"
      ],
      "text/plain": [
       "   order_id          order_created_at  order_total_price order_status  \\\n",
       "0     20570 2018-01-01 17:24:47+00:00             449.97    fulfilled   \n",
       "1     20570 2018-01-01 17:24:47+00:00             449.97    fulfilled   \n",
       "2     20570 2018-01-01 17:24:47+00:00             449.97    fulfilled   \n",
       "3     20556 2018-01-02 10:56:19+00:00             249.99    fulfilled   \n",
       "4     20554 2018-01-02 11:45:26+00:00                NaN    fulfilled   \n",
       "\n",
       "  order_discounts             product_title      product_sku  \\\n",
       "0             yes      Vertigo™ Semi-Hollow      M80-VHB-BLK   \n",
       "1             yes       The Tick™ 2.0 Black  M80-TICK-V2-BLK   \n",
       "2             yes  Pedalboard Lite (Silver)    PFX-PB-LT-SLV   \n",
       "3             yes      Vertigo™ Semi-Hollow      M80-VHB-BLK   \n",
       "4              no                 The FlyBy      EFX-FLY-BLK   \n",
       "\n",
       "   product_quantity  product_discount                       product_category  \\\n",
       "0                 1              0.00       Electric Guitar Cases & Gig Bags   \n",
       "1                 1              0.00  Pedals & Pedalboards Cases & Gig Bags   \n",
       "2                 1              0.00                            Pedalboards   \n",
       "3                 1              0.00       Electric Guitar Cases & Gig Bags   \n",
       "4                 1            229.99          DJ Equipment Cases & Gig Bags   \n",
       "\n",
       "   product_deparments        product_created_at  \n",
       "0                 NaN 2017-10-26 02:57:14+00:00  \n",
       "1                 NaN 2017-10-26 02:57:14+00:00  \n",
       "2                 NaN 2017-10-26 02:57:14+00:00  \n",
       "3                 NaN 2017-10-26 02:57:14+00:00  \n",
       "4                 NaN 2017-10-26 02:57:14+00:00  "
      ]
     },
     "execution_count": 5,
     "metadata": {},
     "output_type": "execute_result"
    }
   ],
   "source": [
    "orderproducts.head()"
   ]
  },
  {
   "cell_type": "code",
   "execution_count": 6,
   "metadata": {
    "ExecuteTime": {
     "end_time": "2021-03-16T11:28:01.528537Z",
     "start_time": "2021-03-16T11:28:01.510535Z"
    }
   },
   "outputs": [
    {
     "data": {
      "text/html": [
       "<div>\n",
       "<style scoped>\n",
       "    .dataframe tbody tr th:only-of-type {\n",
       "        vertical-align: middle;\n",
       "    }\n",
       "\n",
       "    .dataframe tbody tr th {\n",
       "        vertical-align: top;\n",
       "    }\n",
       "\n",
       "    .dataframe thead th {\n",
       "        text-align: right;\n",
       "    }\n",
       "</style>\n",
       "<table border=\"1\" class=\"dataframe\">\n",
       "  <thead>\n",
       "    <tr style=\"text-align: right;\">\n",
       "      <th></th>\n",
       "      <th>id</th>\n",
       "      <th>sku</th>\n",
       "      <th>price_usd</th>\n",
       "      <th>category</th>\n",
       "      <th>tags</th>\n",
       "      <th>created_at</th>\n",
       "    </tr>\n",
       "  </thead>\n",
       "  <tbody>\n",
       "    <tr>\n",
       "      <th>0</th>\n",
       "      <td>33184</td>\n",
       "      <td>M80-AD-BLK</td>\n",
       "      <td>229.99</td>\n",
       "      <td>Acoustic Guitar Cases &amp; Gig Bags</td>\n",
       "      <td>Cases &amp; Gig Bags</td>\n",
       "      <td>2017-10-26T02:57:14.000Z</td>\n",
       "    </tr>\n",
       "    <tr>\n",
       "      <th>1</th>\n",
       "      <td>33186</td>\n",
       "      <td>M80-VEG-BLK</td>\n",
       "      <td>249.99</td>\n",
       "      <td>Electric Guitar Cases &amp; Gig Bags</td>\n",
       "      <td>Cases &amp; Gig Bags</td>\n",
       "      <td>2017-10-26T02:57:14.000Z</td>\n",
       "    </tr>\n",
       "    <tr>\n",
       "      <th>2</th>\n",
       "      <td>33187</td>\n",
       "      <td>M80-EG-BLK</td>\n",
       "      <td>229.99</td>\n",
       "      <td>Electric Guitar Cases &amp; Gig Bags</td>\n",
       "      <td>Cases &amp; Gig Bags</td>\n",
       "      <td>2017-10-26T02:57:14.000Z</td>\n",
       "    </tr>\n",
       "    <tr>\n",
       "      <th>3</th>\n",
       "      <td>34589</td>\n",
       "      <td>M80-VEG-GRY</td>\n",
       "      <td>249.99</td>\n",
       "      <td>Electric Guitar Cases &amp; Gig Bags</td>\n",
       "      <td>Cases &amp; Gig Bags</td>\n",
       "      <td>2017-10-26T02:57:14.000Z</td>\n",
       "    </tr>\n",
       "    <tr>\n",
       "      <th>4</th>\n",
       "      <td>34590</td>\n",
       "      <td>M80-VEB-BLK</td>\n",
       "      <td>249.99</td>\n",
       "      <td>Bass Guitar Cases &amp; Gig Bags</td>\n",
       "      <td>Cases &amp; Gig Bags</td>\n",
       "      <td>2017-10-26T02:57:14.000Z</td>\n",
       "    </tr>\n",
       "  </tbody>\n",
       "</table>\n",
       "</div>"
      ],
      "text/plain": [
       "      id          sku  price_usd                          category  \\\n",
       "0  33184   M80-AD-BLK     229.99  Acoustic Guitar Cases & Gig Bags   \n",
       "1  33186  M80-VEG-BLK     249.99  Electric Guitar Cases & Gig Bags   \n",
       "2  33187   M80-EG-BLK     229.99  Electric Guitar Cases & Gig Bags   \n",
       "3  34589  M80-VEG-GRY     249.99  Electric Guitar Cases & Gig Bags   \n",
       "4  34590  M80-VEB-BLK     249.99      Bass Guitar Cases & Gig Bags   \n",
       "\n",
       "               tags                created_at  \n",
       "0  Cases & Gig Bags  2017-10-26T02:57:14.000Z  \n",
       "1  Cases & Gig Bags  2017-10-26T02:57:14.000Z  \n",
       "2  Cases & Gig Bags  2017-10-26T02:57:14.000Z  \n",
       "3  Cases & Gig Bags  2017-10-26T02:57:14.000Z  \n",
       "4  Cases & Gig Bags  2017-10-26T02:57:14.000Z  "
      ]
     },
     "execution_count": 6,
     "metadata": {},
     "output_type": "execute_result"
    }
   ],
   "source": [
    "products.head()"
   ]
  },
  {
   "cell_type": "markdown",
   "metadata": {},
   "source": [
    "### Data Engineering"
   ]
  },
  {
   "cell_type": "code",
   "execution_count": 7,
   "metadata": {
    "ExecuteTime": {
     "end_time": "2021-03-16T11:28:02.635548Z",
     "start_time": "2021-03-16T11:28:02.606559Z"
    }
   },
   "outputs": [],
   "source": [
    "# Create date field, remove time details\n",
    "orderproducts['order_date'] = [x.date() for x in orderproducts['order_created_at']]  # remove time, display only date\n",
    "orderproducts['order_date'] = pd.to_datetime(orderproducts['order_date'])"
   ]
  },
  {
   "cell_type": "code",
   "execution_count": 8,
   "metadata": {
    "ExecuteTime": {
     "end_time": "2021-03-16T11:28:07.458530Z",
     "start_time": "2021-03-16T11:28:07.436528Z"
    }
   },
   "outputs": [],
   "source": [
    "# Create weekdays column : Monday = 1, Tuesday = 2,..... Sunday = 7\n",
    "orderproducts['weekdays'] = [x.isoweekday() for x in orderproducts['order_created_at']]"
   ]
  },
  {
   "cell_type": "code",
   "execution_count": 9,
   "metadata": {
    "ExecuteTime": {
     "end_time": "2021-03-16T11:28:07.994299Z",
     "start_time": "2021-03-16T11:28:07.976330Z"
    }
   },
   "outputs": [],
   "source": [
    "# Create holidays column feature : June, Nov, Dec : School holidays, the rest : Non Holidays\n",
    "orderproducts['sch_holidays'] = ['Sch Holidays' if x.month in [6,11,12] else 'Non Holidays' for x in orderproducts['order_date'] ]"
   ]
  },
  {
   "cell_type": "code",
   "execution_count": 10,
   "metadata": {
    "ExecuteTime": {
     "end_time": "2021-03-16T11:28:12.466911Z",
     "start_time": "2021-03-16T11:28:09.287687Z"
    }
   },
   "outputs": [],
   "source": [
    "# Extract the product price for individual item in the list\n",
    "arr, emp = [], []\n",
    "for i, row  in orderproducts.iterrows():\n",
    "    if row.product_sku in list(products.sku):\n",
    "        arr.append(float(products.loc[products['sku'] == row.product_sku, 'price_usd']))\n",
    "    else:\n",
    "        emp.append(row.product_sku)\n",
    "        arr.append(0)\n",
    "orderproducts['product_price'] = pd.DataFrame(arr)"
   ]
  },
  {
   "cell_type": "code",
   "execution_count": 11,
   "metadata": {
    "ExecuteTime": {
     "end_time": "2021-03-16T11:28:12.537690Z",
     "start_time": "2021-03-16T11:28:12.533685Z"
    }
   },
   "outputs": [
    {
     "name": "stdout",
     "output_type": "stream",
     "text": [
      "408\n"
     ]
    }
   ],
   "source": [
    "print(len(emp))"
   ]
  },
  {
   "cell_type": "markdown",
   "metadata": {
    "ExecuteTime": {
     "end_time": "2021-03-11T05:02:27.430664Z",
     "start_time": "2021-03-11T05:02:27.427661Z"
    }
   },
   "source": [
    "#### There are 408 items whose products are not in the product category list"
   ]
  },
  {
   "cell_type": "code",
   "execution_count": 12,
   "metadata": {
    "ExecuteTime": {
     "end_time": "2021-03-16T11:28:16.229327Z",
     "start_time": "2021-03-16T11:28:16.216320Z"
    }
   },
   "outputs": [
    {
     "name": "stdout",
     "output_type": "stream",
     "text": [
      "<class 'pandas.core.frame.DataFrame'>\n",
      "RangeIndex: 7560 entries, 0 to 7559\n",
      "Data columns (total 16 columns):\n",
      " #   Column              Non-Null Count  Dtype              \n",
      "---  ------              --------------  -----              \n",
      " 0   order_id            7560 non-null   int64              \n",
      " 1   order_created_at    7560 non-null   datetime64[ns, UTC]\n",
      " 2   order_total_price   3791 non-null   float64            \n",
      " 3   order_status        7189 non-null   object             \n",
      " 4   order_discounts     7560 non-null   object             \n",
      " 5   product_title       7560 non-null   object             \n",
      " 6   product_sku         7551 non-null   object             \n",
      " 7   product_quantity    7560 non-null   int64              \n",
      " 8   product_discount    7560 non-null   float64            \n",
      " 9   product_category    7152 non-null   object             \n",
      " 10  product_deparments  0 non-null      float64            \n",
      " 11  product_created_at  7152 non-null   datetime64[ns, UTC]\n",
      " 12  order_date          7560 non-null   datetime64[ns]     \n",
      " 13  weekdays            7560 non-null   int64              \n",
      " 14  sch_holidays        7560 non-null   object             \n",
      " 15  product_price       7560 non-null   float64            \n",
      "dtypes: datetime64[ns, UTC](2), datetime64[ns](1), float64(4), int64(3), object(6)\n",
      "memory usage: 945.1+ KB\n"
     ]
    }
   ],
   "source": [
    "orderproducts.info()"
   ]
  },
  {
   "cell_type": "code",
   "execution_count": 13,
   "metadata": {
    "ExecuteTime": {
     "end_time": "2021-03-16T11:28:22.062903Z",
     "start_time": "2021-03-16T11:28:22.056895Z"
    }
   },
   "outputs": [
    {
     "data": {
      "text/plain": [
       "Index(['order_id', 'order_created_at', 'order_total_price', 'order_status',\n",
       "       'order_discounts', 'product_title', 'product_sku', 'product_quantity',\n",
       "       'product_discount', 'product_category', 'product_deparments',\n",
       "       'product_created_at', 'order_date', 'weekdays', 'sch_holidays',\n",
       "       'product_price'],\n",
       "      dtype='object')"
      ]
     },
     "execution_count": 13,
     "metadata": {},
     "output_type": "execute_result"
    }
   ],
   "source": [
    "orderproducts.columns"
   ]
  },
  {
   "cell_type": "code",
   "execution_count": 14,
   "metadata": {
    "ExecuteTime": {
     "end_time": "2021-03-16T11:28:23.132203Z",
     "start_time": "2021-03-16T11:28:23.127226Z"
    }
   },
   "outputs": [],
   "source": [
    "orderproducts = orderproducts[['order_id', 'order_date', 'order_total_price', 'product_price', 'order_discounts',\n",
    "                               'product_discount', 'order_status', 'product_title', 'product_sku', 'product_quantity',\n",
    "                               'product_category', 'weekdays', 'sch_holidays']]"
   ]
  },
  {
   "cell_type": "code",
   "execution_count": 15,
   "metadata": {
    "ExecuteTime": {
     "end_time": "2021-03-16T10:19:38.930012Z",
     "start_time": "2021-03-16T10:19:38.835750Z"
    }
   },
   "outputs": [],
   "source": [
    "# Save file to be use for regresssion testing later\n",
    "orderproducts.to_csv('../data/orderproducts_v2.csv', index=False)"
   ]
  },
  {
   "cell_type": "code",
   "execution_count": 15,
   "metadata": {
    "ExecuteTime": {
     "end_time": "2021-03-16T11:28:36.986554Z",
     "start_time": "2021-03-16T11:28:36.978540Z"
    }
   },
   "outputs": [],
   "source": [
    "product_sku = orderproducts.groupby(['product_sku'])['product_quantity'].agg(['sum']).sort_values('sum', ascending=False).reset_index()"
   ]
  },
  {
   "cell_type": "code",
   "execution_count": 16,
   "metadata": {
    "ExecuteTime": {
     "end_time": "2021-03-16T11:28:37.754945Z",
     "start_time": "2021-03-16T11:28:37.750939Z"
    }
   },
   "outputs": [],
   "source": [
    "top_20 = list(product_sku['product_sku'].values)[0:20]"
   ]
  },
  {
   "cell_type": "code",
   "execution_count": 17,
   "metadata": {
    "ExecuteTime": {
     "end_time": "2021-03-16T11:28:39.891459Z",
     "start_time": "2021-03-16T11:28:39.885414Z"
    }
   },
   "outputs": [],
   "source": [
    "# filter orders where product_sku is in top 20 list\n",
    " df = orderproducts[orderproducts['product_sku'].isin(top_20)]"
   ]
  },
  {
   "cell_type": "code",
   "execution_count": 18,
   "metadata": {
    "ExecuteTime": {
     "end_time": "2021-03-16T11:31:07.333427Z",
     "start_time": "2021-03-16T11:31:07.269394Z"
    }
   },
   "outputs": [],
   "source": [
    "df.to_csv('../data/orderproducts_top20.csv', index=False)"
   ]
  },
  {
   "cell_type": "code",
   "execution_count": 19,
   "metadata": {
    "ExecuteTime": {
     "end_time": "2021-03-16T11:42:35.911057Z",
     "start_time": "2021-03-16T11:42:35.907054Z"
    }
   },
   "outputs": [],
   "source": [
    "df.set_index('order_date', inplace=True)"
   ]
  },
  {
   "cell_type": "code",
   "execution_count": 20,
   "metadata": {
    "ExecuteTime": {
     "end_time": "2021-03-16T11:42:36.729227Z",
     "start_time": "2021-03-16T11:42:36.719226Z"
    }
   },
   "outputs": [
    {
     "name": "stdout",
     "output_type": "stream",
     "text": [
      "<class 'pandas.core.frame.DataFrame'>\n",
      "DatetimeIndex: 4321 entries, 2018-01-01 to 2021-03-08\n",
      "Data columns (total 12 columns):\n",
      " #   Column             Non-Null Count  Dtype  \n",
      "---  ------             --------------  -----  \n",
      " 0   order_id           4321 non-null   int64  \n",
      " 1   order_total_price  1904 non-null   float64\n",
      " 2   product_price      4321 non-null   float64\n",
      " 3   order_discounts    4321 non-null   object \n",
      " 4   product_discount   4321 non-null   float64\n",
      " 5   order_status       4138 non-null   object \n",
      " 6   product_title      4321 non-null   object \n",
      " 7   product_sku        4321 non-null   object \n",
      " 8   product_quantity   4321 non-null   int64  \n",
      " 9   product_category   4321 non-null   object \n",
      " 10  weekdays           4321 non-null   int64  \n",
      " 11  sch_holidays       4321 non-null   object \n",
      "dtypes: float64(3), int64(3), object(6)\n",
      "memory usage: 438.9+ KB\n"
     ]
    }
   ],
   "source": [
    "df.info()"
   ]
  },
  {
   "cell_type": "code",
   "execution_count": 21,
   "metadata": {
    "ExecuteTime": {
     "end_time": "2021-03-16T11:42:40.758475Z",
     "start_time": "2021-03-16T11:42:40.741445Z"
    }
   },
   "outputs": [
    {
     "data": {
      "text/html": [
       "<div>\n",
       "<style scoped>\n",
       "    .dataframe tbody tr th:only-of-type {\n",
       "        vertical-align: middle;\n",
       "    }\n",
       "\n",
       "    .dataframe tbody tr th {\n",
       "        vertical-align: top;\n",
       "    }\n",
       "\n",
       "    .dataframe thead th {\n",
       "        text-align: right;\n",
       "    }\n",
       "</style>\n",
       "<table border=\"1\" class=\"dataframe\">\n",
       "  <thead>\n",
       "    <tr style=\"text-align: right;\">\n",
       "      <th></th>\n",
       "      <th>order_id</th>\n",
       "      <th>order_total_price</th>\n",
       "      <th>product_price</th>\n",
       "      <th>order_discounts</th>\n",
       "      <th>product_discount</th>\n",
       "      <th>order_status</th>\n",
       "      <th>product_title</th>\n",
       "      <th>product_sku</th>\n",
       "      <th>product_quantity</th>\n",
       "      <th>product_category</th>\n",
       "      <th>weekdays</th>\n",
       "      <th>sch_holidays</th>\n",
       "    </tr>\n",
       "    <tr>\n",
       "      <th>order_date</th>\n",
       "      <th></th>\n",
       "      <th></th>\n",
       "      <th></th>\n",
       "      <th></th>\n",
       "      <th></th>\n",
       "      <th></th>\n",
       "      <th></th>\n",
       "      <th></th>\n",
       "      <th></th>\n",
       "      <th></th>\n",
       "      <th></th>\n",
       "      <th></th>\n",
       "    </tr>\n",
       "  </thead>\n",
       "  <tbody>\n",
       "    <tr>\n",
       "      <th>2018-01-01</th>\n",
       "      <td>20570</td>\n",
       "      <td>449.97</td>\n",
       "      <td>249.99</td>\n",
       "      <td>yes</td>\n",
       "      <td>0.00</td>\n",
       "      <td>fulfilled</td>\n",
       "      <td>Vertigo™ Semi-Hollow</td>\n",
       "      <td>M80-VHB-BLK</td>\n",
       "      <td>1</td>\n",
       "      <td>Electric Guitar Cases &amp; Gig Bags</td>\n",
       "      <td>1</td>\n",
       "      <td>Non Holidays</td>\n",
       "    </tr>\n",
       "    <tr>\n",
       "      <th>2018-01-01</th>\n",
       "      <td>20570</td>\n",
       "      <td>449.97</td>\n",
       "      <td>89.99</td>\n",
       "      <td>yes</td>\n",
       "      <td>0.00</td>\n",
       "      <td>fulfilled</td>\n",
       "      <td>The Tick™ 2.0 Black</td>\n",
       "      <td>M80-TICK-V2-BLK</td>\n",
       "      <td>1</td>\n",
       "      <td>Pedals &amp; Pedalboards Cases &amp; Gig Bags</td>\n",
       "      <td>1</td>\n",
       "      <td>Non Holidays</td>\n",
       "    </tr>\n",
       "    <tr>\n",
       "      <th>2018-01-02</th>\n",
       "      <td>20556</td>\n",
       "      <td>249.99</td>\n",
       "      <td>249.99</td>\n",
       "      <td>yes</td>\n",
       "      <td>0.00</td>\n",
       "      <td>fulfilled</td>\n",
       "      <td>Vertigo™ Semi-Hollow</td>\n",
       "      <td>M80-VHB-BLK</td>\n",
       "      <td>1</td>\n",
       "      <td>Electric Guitar Cases &amp; Gig Bags</td>\n",
       "      <td>2</td>\n",
       "      <td>Non Holidays</td>\n",
       "    </tr>\n",
       "    <tr>\n",
       "      <th>2018-01-02</th>\n",
       "      <td>20554</td>\n",
       "      <td>NaN</td>\n",
       "      <td>229.99</td>\n",
       "      <td>no</td>\n",
       "      <td>229.99</td>\n",
       "      <td>fulfilled</td>\n",
       "      <td>The FlyBy</td>\n",
       "      <td>EFX-FLY-BLK</td>\n",
       "      <td>1</td>\n",
       "      <td>DJ Equipment Cases &amp; Gig Bags</td>\n",
       "      <td>2</td>\n",
       "      <td>Non Holidays</td>\n",
       "    </tr>\n",
       "    <tr>\n",
       "      <th>2018-01-01</th>\n",
       "      <td>20573</td>\n",
       "      <td>249.99</td>\n",
       "      <td>249.99</td>\n",
       "      <td>yes</td>\n",
       "      <td>0.00</td>\n",
       "      <td>fulfilled</td>\n",
       "      <td>Vertigo™ Electric Guitar</td>\n",
       "      <td>M80-VEG-BLK</td>\n",
       "      <td>1</td>\n",
       "      <td>Electric Guitar Cases &amp; Gig Bags</td>\n",
       "      <td>1</td>\n",
       "      <td>Non Holidays</td>\n",
       "    </tr>\n",
       "    <tr>\n",
       "      <th>2017-12-31</th>\n",
       "      <td>20575</td>\n",
       "      <td>172.67</td>\n",
       "      <td>229.99</td>\n",
       "      <td>no</td>\n",
       "      <td>0.00</td>\n",
       "      <td>fulfilled</td>\n",
       "      <td>The FlyBy</td>\n",
       "      <td>EFX-FLY-BLK</td>\n",
       "      <td>1</td>\n",
       "      <td>DJ Equipment Cases &amp; Gig Bags</td>\n",
       "      <td>7</td>\n",
       "      <td>Sch Holidays</td>\n",
       "    </tr>\n",
       "    <tr>\n",
       "      <th>2018-01-02</th>\n",
       "      <td>20551</td>\n",
       "      <td>NaN</td>\n",
       "      <td>229.99</td>\n",
       "      <td>no</td>\n",
       "      <td>229.99</td>\n",
       "      <td>fulfilled</td>\n",
       "      <td>Acoustic (Dreadnought / Standard)</td>\n",
       "      <td>M80-AD-BLK</td>\n",
       "      <td>1</td>\n",
       "      <td>Acoustic Guitar Cases &amp; Gig Bags</td>\n",
       "      <td>2</td>\n",
       "      <td>Non Holidays</td>\n",
       "    </tr>\n",
       "    <tr>\n",
       "      <th>2018-01-02</th>\n",
       "      <td>20555</td>\n",
       "      <td>229.99</td>\n",
       "      <td>229.99</td>\n",
       "      <td>yes</td>\n",
       "      <td>0.00</td>\n",
       "      <td>fulfilled</td>\n",
       "      <td>The FlyBy</td>\n",
       "      <td>EFX-FLY-BLK</td>\n",
       "      <td>1</td>\n",
       "      <td>DJ Equipment Cases &amp; Gig Bags</td>\n",
       "      <td>2</td>\n",
       "      <td>Non Holidays</td>\n",
       "    </tr>\n",
       "    <tr>\n",
       "      <th>2018-01-03</th>\n",
       "      <td>20543</td>\n",
       "      <td>229.99</td>\n",
       "      <td>229.99</td>\n",
       "      <td>yes</td>\n",
       "      <td>0.00</td>\n",
       "      <td>fulfilled</td>\n",
       "      <td>The FlyBy</td>\n",
       "      <td>EFX-FLY-BLK</td>\n",
       "      <td>1</td>\n",
       "      <td>DJ Equipment Cases &amp; Gig Bags</td>\n",
       "      <td>3</td>\n",
       "      <td>Non Holidays</td>\n",
       "    </tr>\n",
       "    <tr>\n",
       "      <th>2018-01-03</th>\n",
       "      <td>20541</td>\n",
       "      <td>NaN</td>\n",
       "      <td>249.99</td>\n",
       "      <td>no</td>\n",
       "      <td>249.99</td>\n",
       "      <td>fulfilled</td>\n",
       "      <td>Vertigo™ Electric Guitar</td>\n",
       "      <td>M80-VEG-BLK</td>\n",
       "      <td>1</td>\n",
       "      <td>Electric Guitar Cases &amp; Gig Bags</td>\n",
       "      <td>3</td>\n",
       "      <td>Non Holidays</td>\n",
       "    </tr>\n",
       "  </tbody>\n",
       "</table>\n",
       "</div>"
      ],
      "text/plain": [
       "            order_id  order_total_price  product_price order_discounts  \\\n",
       "order_date                                                               \n",
       "2018-01-01     20570             449.97         249.99             yes   \n",
       "2018-01-01     20570             449.97          89.99             yes   \n",
       "2018-01-02     20556             249.99         249.99             yes   \n",
       "2018-01-02     20554                NaN         229.99              no   \n",
       "2018-01-01     20573             249.99         249.99             yes   \n",
       "2017-12-31     20575             172.67         229.99              no   \n",
       "2018-01-02     20551                NaN         229.99              no   \n",
       "2018-01-02     20555             229.99         229.99             yes   \n",
       "2018-01-03     20543             229.99         229.99             yes   \n",
       "2018-01-03     20541                NaN         249.99              no   \n",
       "\n",
       "            product_discount order_status                      product_title  \\\n",
       "order_date                                                                     \n",
       "2018-01-01              0.00    fulfilled               Vertigo™ Semi-Hollow   \n",
       "2018-01-01              0.00    fulfilled                The Tick™ 2.0 Black   \n",
       "2018-01-02              0.00    fulfilled               Vertigo™ Semi-Hollow   \n",
       "2018-01-02            229.99    fulfilled                          The FlyBy   \n",
       "2018-01-01              0.00    fulfilled           Vertigo™ Electric Guitar   \n",
       "2017-12-31              0.00    fulfilled                          The FlyBy   \n",
       "2018-01-02            229.99    fulfilled  Acoustic (Dreadnought / Standard)   \n",
       "2018-01-02              0.00    fulfilled                          The FlyBy   \n",
       "2018-01-03              0.00    fulfilled                          The FlyBy   \n",
       "2018-01-03            249.99    fulfilled           Vertigo™ Electric Guitar   \n",
       "\n",
       "                product_sku  product_quantity  \\\n",
       "order_date                                      \n",
       "2018-01-01      M80-VHB-BLK                 1   \n",
       "2018-01-01  M80-TICK-V2-BLK                 1   \n",
       "2018-01-02      M80-VHB-BLK                 1   \n",
       "2018-01-02      EFX-FLY-BLK                 1   \n",
       "2018-01-01      M80-VEG-BLK                 1   \n",
       "2017-12-31      EFX-FLY-BLK                 1   \n",
       "2018-01-02       M80-AD-BLK                 1   \n",
       "2018-01-02      EFX-FLY-BLK                 1   \n",
       "2018-01-03      EFX-FLY-BLK                 1   \n",
       "2018-01-03      M80-VEG-BLK                 1   \n",
       "\n",
       "                                 product_category  weekdays  sch_holidays  \n",
       "order_date                                                                 \n",
       "2018-01-01       Electric Guitar Cases & Gig Bags         1  Non Holidays  \n",
       "2018-01-01  Pedals & Pedalboards Cases & Gig Bags         1  Non Holidays  \n",
       "2018-01-02       Electric Guitar Cases & Gig Bags         2  Non Holidays  \n",
       "2018-01-02          DJ Equipment Cases & Gig Bags         2  Non Holidays  \n",
       "2018-01-01       Electric Guitar Cases & Gig Bags         1  Non Holidays  \n",
       "2017-12-31          DJ Equipment Cases & Gig Bags         7  Sch Holidays  \n",
       "2018-01-02       Acoustic Guitar Cases & Gig Bags         2  Non Holidays  \n",
       "2018-01-02          DJ Equipment Cases & Gig Bags         2  Non Holidays  \n",
       "2018-01-03          DJ Equipment Cases & Gig Bags         3  Non Holidays  \n",
       "2018-01-03       Electric Guitar Cases & Gig Bags         3  Non Holidays  "
      ]
     },
     "execution_count": 21,
     "metadata": {},
     "output_type": "execute_result"
    }
   ],
   "source": [
    "df.head(10)"
   ]
  },
  {
   "cell_type": "code",
   "execution_count": null,
   "metadata": {
    "ExecuteTime": {
     "end_time": "2021-03-16T09:47:29.354337Z",
     "start_time": "2021-03-16T09:47:29.349334Z"
    }
   },
   "outputs": [],
   "source": [
    "df = df.loc['2018':'2021']"
   ]
  },
  {
   "cell_type": "code",
   "execution_count": 22,
   "metadata": {
    "ExecuteTime": {
     "end_time": "2021-03-16T10:20:10.849120Z",
     "start_time": "2021-03-16T10:20:10.782124Z"
    }
   },
   "outputs": [
    {
     "data": {
      "text/html": [
       "<div>\n",
       "<style scoped>\n",
       "    .dataframe tbody tr th:only-of-type {\n",
       "        vertical-align: middle;\n",
       "    }\n",
       "\n",
       "    .dataframe tbody tr th {\n",
       "        vertical-align: top;\n",
       "    }\n",
       "\n",
       "    .dataframe thead th {\n",
       "        text-align: right;\n",
       "    }\n",
       "</style>\n",
       "<table border=\"1\" class=\"dataframe\">\n",
       "  <thead>\n",
       "    <tr style=\"text-align: right;\">\n",
       "      <th>product_sku</th>\n",
       "      <th>EFX-FLY-BLK</th>\n",
       "      <th>M80-2B-BLK</th>\n",
       "      <th>M80-2G-BLK</th>\n",
       "      <th>M80-AC-BLK</th>\n",
       "      <th>M80-AD-BLK</th>\n",
       "      <th>M80-BTY-BLK-L</th>\n",
       "      <th>M80-BTY-BLK-S</th>\n",
       "      <th>M80-EB-BLK</th>\n",
       "      <th>M80-EG-BLK</th>\n",
       "      <th>M80-SEB-BLK</th>\n",
       "      <th>M80-SEG-ASH</th>\n",
       "      <th>M80-SEG-BLK</th>\n",
       "      <th>M80-TICK-V2-BLK</th>\n",
       "      <th>M80-TOUR-V2-BLK</th>\n",
       "      <th>M80-VAD-BLK</th>\n",
       "      <th>M80-VEB-BLK</th>\n",
       "      <th>M80-VEB-GRY</th>\n",
       "      <th>M80-VEG-BLK</th>\n",
       "      <th>M80-VEG-GRY</th>\n",
       "      <th>M80-VHB-BLK</th>\n",
       "    </tr>\n",
       "    <tr>\n",
       "      <th>row_0</th>\n",
       "      <th></th>\n",
       "      <th></th>\n",
       "      <th></th>\n",
       "      <th></th>\n",
       "      <th></th>\n",
       "      <th></th>\n",
       "      <th></th>\n",
       "      <th></th>\n",
       "      <th></th>\n",
       "      <th></th>\n",
       "      <th></th>\n",
       "      <th></th>\n",
       "      <th></th>\n",
       "      <th></th>\n",
       "      <th></th>\n",
       "      <th></th>\n",
       "      <th></th>\n",
       "      <th></th>\n",
       "      <th></th>\n",
       "      <th></th>\n",
       "    </tr>\n",
       "  </thead>\n",
       "  <tbody>\n",
       "    <tr>\n",
       "      <th>2017-12-31</th>\n",
       "      <td>1</td>\n",
       "      <td>0</td>\n",
       "      <td>0</td>\n",
       "      <td>0</td>\n",
       "      <td>0</td>\n",
       "      <td>0</td>\n",
       "      <td>0</td>\n",
       "      <td>0</td>\n",
       "      <td>0</td>\n",
       "      <td>0</td>\n",
       "      <td>0</td>\n",
       "      <td>0</td>\n",
       "      <td>0</td>\n",
       "      <td>0</td>\n",
       "      <td>0</td>\n",
       "      <td>0</td>\n",
       "      <td>0</td>\n",
       "      <td>0</td>\n",
       "      <td>0</td>\n",
       "      <td>0</td>\n",
       "    </tr>\n",
       "    <tr>\n",
       "      <th>2018-12-31</th>\n",
       "      <td>281</td>\n",
       "      <td>105</td>\n",
       "      <td>173</td>\n",
       "      <td>98</td>\n",
       "      <td>124</td>\n",
       "      <td>121</td>\n",
       "      <td>88</td>\n",
       "      <td>132</td>\n",
       "      <td>173</td>\n",
       "      <td>116</td>\n",
       "      <td>104</td>\n",
       "      <td>110</td>\n",
       "      <td>202</td>\n",
       "      <td>164</td>\n",
       "      <td>111</td>\n",
       "      <td>171</td>\n",
       "      <td>98</td>\n",
       "      <td>235</td>\n",
       "      <td>94</td>\n",
       "      <td>163</td>\n",
       "    </tr>\n",
       "    <tr>\n",
       "      <th>2019-12-31</th>\n",
       "      <td>122</td>\n",
       "      <td>34</td>\n",
       "      <td>60</td>\n",
       "      <td>34</td>\n",
       "      <td>37</td>\n",
       "      <td>28</td>\n",
       "      <td>27</td>\n",
       "      <td>34</td>\n",
       "      <td>78</td>\n",
       "      <td>13</td>\n",
       "      <td>17</td>\n",
       "      <td>20</td>\n",
       "      <td>119</td>\n",
       "      <td>30</td>\n",
       "      <td>36</td>\n",
       "      <td>28</td>\n",
       "      <td>35</td>\n",
       "      <td>72</td>\n",
       "      <td>32</td>\n",
       "      <td>34</td>\n",
       "    </tr>\n",
       "    <tr>\n",
       "      <th>2020-12-31</th>\n",
       "      <td>46</td>\n",
       "      <td>27</td>\n",
       "      <td>33</td>\n",
       "      <td>20</td>\n",
       "      <td>30</td>\n",
       "      <td>15</td>\n",
       "      <td>18</td>\n",
       "      <td>11</td>\n",
       "      <td>23</td>\n",
       "      <td>10</td>\n",
       "      <td>7</td>\n",
       "      <td>20</td>\n",
       "      <td>44</td>\n",
       "      <td>9</td>\n",
       "      <td>34</td>\n",
       "      <td>32</td>\n",
       "      <td>24</td>\n",
       "      <td>43</td>\n",
       "      <td>21</td>\n",
       "      <td>17</td>\n",
       "    </tr>\n",
       "    <tr>\n",
       "      <th>2021-12-31</th>\n",
       "      <td>9</td>\n",
       "      <td>2</td>\n",
       "      <td>10</td>\n",
       "      <td>1</td>\n",
       "      <td>4</td>\n",
       "      <td>4</td>\n",
       "      <td>2</td>\n",
       "      <td>5</td>\n",
       "      <td>3</td>\n",
       "      <td>3</td>\n",
       "      <td>2</td>\n",
       "      <td>2</td>\n",
       "      <td>8</td>\n",
       "      <td>3</td>\n",
       "      <td>3</td>\n",
       "      <td>6</td>\n",
       "      <td>1</td>\n",
       "      <td>6</td>\n",
       "      <td>5</td>\n",
       "      <td>4</td>\n",
       "    </tr>\n",
       "  </tbody>\n",
       "</table>\n",
       "</div>"
      ],
      "text/plain": [
       "product_sku  EFX-FLY-BLK  M80-2B-BLK  M80-2G-BLK  M80-AC-BLK  M80-AD-BLK  \\\n",
       "row_0                                                                      \n",
       "2017-12-31             1           0           0           0           0   \n",
       "2018-12-31           281         105         173          98         124   \n",
       "2019-12-31           122          34          60          34          37   \n",
       "2020-12-31            46          27          33          20          30   \n",
       "2021-12-31             9           2          10           1           4   \n",
       "\n",
       "product_sku  M80-BTY-BLK-L  M80-BTY-BLK-S  M80-EB-BLK  M80-EG-BLK  \\\n",
       "row_0                                                               \n",
       "2017-12-31               0              0           0           0   \n",
       "2018-12-31             121             88         132         173   \n",
       "2019-12-31              28             27          34          78   \n",
       "2020-12-31              15             18          11          23   \n",
       "2021-12-31               4              2           5           3   \n",
       "\n",
       "product_sku  M80-SEB-BLK  M80-SEG-ASH  M80-SEG-BLK  M80-TICK-V2-BLK  \\\n",
       "row_0                                                                 \n",
       "2017-12-31             0            0            0                0   \n",
       "2018-12-31           116          104          110              202   \n",
       "2019-12-31            13           17           20              119   \n",
       "2020-12-31            10            7           20               44   \n",
       "2021-12-31             3            2            2                8   \n",
       "\n",
       "product_sku  M80-TOUR-V2-BLK  M80-VAD-BLK  M80-VEB-BLK  M80-VEB-GRY  \\\n",
       "row_0                                                                 \n",
       "2017-12-31                 0            0            0            0   \n",
       "2018-12-31               164          111          171           98   \n",
       "2019-12-31                30           36           28           35   \n",
       "2020-12-31                 9           34           32           24   \n",
       "2021-12-31                 3            3            6            1   \n",
       "\n",
       "product_sku  M80-VEG-BLK  M80-VEG-GRY  M80-VHB-BLK  \n",
       "row_0                                               \n",
       "2017-12-31             0            0            0  \n",
       "2018-12-31           235           94          163  \n",
       "2019-12-31            72           32           34  \n",
       "2020-12-31            43           21           17  \n",
       "2021-12-31             6            5            4  "
      ]
     },
     "execution_count": 22,
     "metadata": {},
     "output_type": "execute_result"
    }
   ],
   "source": [
    "pd.crosstab(df.index, df['product_sku']).resample('Y').sum()"
   ]
  },
  {
   "cell_type": "markdown",
   "metadata": {
    "ExecuteTime": {
     "end_time": "2021-03-16T10:26:08.269582Z",
     "start_time": "2021-03-16T10:26:08.266581Z"
    }
   },
   "source": [
    "#### Plotting across product skus"
   ]
  },
  {
   "cell_type": "code",
   "execution_count": 23,
   "metadata": {
    "ExecuteTime": {
     "end_time": "2021-03-16T10:21:46.217163Z",
     "start_time": "2021-03-16T10:21:46.177131Z"
    }
   },
   "outputs": [],
   "source": [
    "prod_yearly = pd.crosstab(df.index, df['product_sku']).resample('Y').sum()"
   ]
  },
  {
   "cell_type": "code",
   "execution_count": 24,
   "metadata": {
    "ExecuteTime": {
     "end_time": "2021-03-16T10:22:10.988000Z",
     "start_time": "2021-03-16T10:22:10.727035Z"
    },
    "scrolled": true
   },
   "outputs": [
    {
     "data": {
      "image/png": "[encoded data removed]",
      "text/plain": [
       "<Figure size 1080x360 with 1 Axes>"
      ]
     },
     "metadata": {
      "needs_background": "light"
     },
     "output_type": "display_data"
    }
   ],
   "source": [
    "plt.figure(figsize=(15,5))\n",
    "y_pos = np.arange(len(prod_yearly.columns))\n",
    "plt.bar(y_pos+0,    prod_yearly.iloc[1,:].values, width=0.25, color = 'lightblue')\n",
    "plt.bar(y_pos+0.25, prod_yearly.iloc[2,:].values, width=0.25, color = 'orange')\n",
    "plt.bar(y_pos+0.50, prod_yearly.iloc[3,:].values, width=0.25, color = 'green')\n",
    "plt.legend([\"2018\", \"2019\", \"2020\"], loc=\"upper left\")\n",
    "plt.title('Sales of individual product sku from 2018 - 2020')\n",
    "plt.xticks(y_pos, prod_yearly.columns)\n",
    "plt.xticks(rotation=90)\n",
    "plt.show()"
   ]
  },
  {
   "cell_type": "markdown",
   "metadata": {
    "ExecuteTime": {
     "end_time": "2021-03-16T10:26:57.287205Z",
     "start_time": "2021-03-16T10:26:57.284199Z"
    }
   },
   "source": [
    "#### Plotting across months for the top 20 product skus"
   ]
  },
  {
   "cell_type": "code",
   "execution_count": 25,
   "metadata": {
    "ExecuteTime": {
     "end_time": "2021-03-16T10:22:37.183434Z",
     "start_time": "2021-03-16T10:22:37.141153Z"
    }
   },
   "outputs": [],
   "source": [
    "prod_monthly = pd.crosstab(df.index, df['product_sku']).resample('M').sum()"
   ]
  },
  {
   "cell_type": "code",
   "execution_count": 26,
   "metadata": {
    "ExecuteTime": {
     "end_time": "2021-03-16T10:22:38.970346Z",
     "start_time": "2021-03-16T10:22:38.966317Z"
    }
   },
   "outputs": [],
   "source": [
    "x_labels = list(prod_monthly.index.strftime('%Y-%m').values)"
   ]
  },
  {
   "cell_type": "code",
   "execution_count": 29,
   "metadata": {
    "ExecuteTime": {
     "end_time": "2021-03-16T10:23:22.872778Z",
     "start_time": "2021-03-16T10:23:22.424747Z"
    }
   },
   "outputs": [
    {
     "data": {
      "image/png": "[encoded data removed]",
      "text/plain": [
       "<Figure size 1080x720 with 1 Axes>"
      ]
     },
     "metadata": {
      "needs_background": "light"
     },
     "output_type": "display_data"
    }
   ],
   "source": [
    "plt.figure(figsize=(15,10))\n",
    "for prod in list(prod_monthly.columns):\n",
    "    plt.plot(x_labels, prod_monthly[prod], label=prod)\n",
    "plt.title('Sales of individual product sku from 2018 - 2020')\n",
    "plt.xticks(np.arange(len(x_labels)),x_labels, rotation=90)\n",
    "plt.legend(loc='upper right')\n",
    "plt.show()"
   ]
  },
  {
   "cell_type": "code",
   "execution_count": 30,
   "metadata": {
    "ExecuteTime": {
     "end_time": "2021-03-16T10:24:28.024407Z",
     "start_time": "2021-03-16T10:24:28.020409Z"
    }
   },
   "outputs": [],
   "source": [
    "### There are seasonal trends like in Apr, June, Sep and Dec where sales tend to peak"
   ]
  },
  {
   "cell_type": "code",
   "execution_count": null,
   "metadata": {},
   "outputs": [],
   "source": []
  }
 ],
 "metadata": {
  "kernelspec": {
   "display_name": "Python 3.8.1 64-bit ('powlook': conda)",
   "language": "python",
   "name": "python38164bitpowlookconda86803d4abdff44bfa4563fc8b9c6c6ad"
  },
  "language_info": {
   "codemirror_mode": {
    "name": "ipython",
    "version": 3
   },
   "file_extension": ".py",
   "mimetype": "text/x-python",
   "name": "python",
   "nbconvert_exporter": "python",
   "pygments_lexer": "ipython3",
   "version": "3.6.10"
  },
  "varInspector": {
   "cols": {
    "lenName": 16,
    "lenType": 16,
    "lenVar": 40
   },
   "kernels_config": {
    "python": {
     "delete_cmd_postfix": "",
     "delete_cmd_prefix": "del ",
     "library": "var_list.py",
     "varRefreshCmd": "print(var_dic_list())"
    },
    "r": {
     "delete_cmd_postfix": ") ",
     "delete_cmd_prefix": "rm(",
     "library": "var_list.r",
     "varRefreshCmd": "cat(var_dic_list()) "
    }
   },
   "types_to_exclude": [
    "module",
    "function",
    "builtin_function_or_method",
    "instance",
    "_Feature"
   ],
   "window_display": false
  }
 },
 "nbformat": 4,
 "nbformat_minor": 2
}
