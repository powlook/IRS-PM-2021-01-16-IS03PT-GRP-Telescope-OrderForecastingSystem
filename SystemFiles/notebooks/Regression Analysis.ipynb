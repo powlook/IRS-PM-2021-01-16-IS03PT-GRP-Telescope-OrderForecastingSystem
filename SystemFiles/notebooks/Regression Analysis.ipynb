{
 "cells": [
  {
   "cell_type": "markdown",
   "metadata": {
    "ExecuteTime": {
     "end_time": "2021-03-16T10:58:42.389862Z",
     "start_time": "2021-03-16T10:58:42.387839Z"
    }
   },
   "source": [
    "### Import libraries"
   ]
  },
  {
   "cell_type": "code",
   "execution_count": 1,
   "metadata": {
    "ExecuteTime": {
     "end_time": "2021-03-16T11:31:25.122819Z",
     "start_time": "2021-03-16T11:31:24.148823Z"
    }
   },
   "outputs": [
    {
     "name": "stderr",
     "output_type": "stream",
     "text": [
      "C:\\Anaconda3\\envs\\powlook\\lib\\site-packages\\sklearn\\utils\\deprecation.py:144: FutureWarning: The sklearn.decomposition.pca module is  deprecated in version 0.22 and will be removed in version 0.24. The corresponding classes / functions should instead be imported from sklearn.decomposition. Anything that cannot be imported from sklearn.decomposition is now part of the private API.\n",
      "  warnings.warn(message, FutureWarning)\n"
     ]
    }
   ],
   "source": [
    "import numpy as np\n",
    "import pandas as pd\n",
    "import matplotlib.pyplot as plt\n",
    "from sklearn.model_selection import train_test_split\n",
    "from sklearn.neighbors import KNeighborsClassifier\n",
    "from sklearn.neighbors import KNeighborsClassifier\n",
    "from sklearn.compose import ColumnTransformer\n",
    "from sklearn.pipeline import Pipeline\n",
    "from sklearn.impute import SimpleImputer\n",
    "from sklearn.decomposition import pca\n",
    "from sklearn.preprocessing import LabelEncoder, OneHotEncoder, OrdinalEncoder, StandardScaler, MinMaxScaler"
   ]
  },
  {
   "cell_type": "markdown",
   "metadata": {
    "ExecuteTime": {
     "end_time": "2021-03-16T10:59:13.799104Z",
     "start_time": "2021-03-16T10:59:13.796113Z"
    }
   },
   "source": [
    "### Import data"
   ]
  },
  {
   "cell_type": "code",
   "execution_count": 5,
   "metadata": {
    "ExecuteTime": {
     "end_time": "2021-03-16T11:32:00.173503Z",
     "start_time": "2021-03-16T11:32:00.154501Z"
    }
   },
   "outputs": [],
   "source": [
    "data = pd.read_csv('../data/orderproducts_top20.csv', parse_dates=[1], infer_datetime_format=True)"
   ]
  },
  {
   "cell_type": "code",
   "execution_count": 6,
   "metadata": {
    "ExecuteTime": {
     "end_time": "2021-03-16T11:32:00.764340Z",
     "start_time": "2021-03-16T11:32:00.751330Z"
    }
   },
   "outputs": [
    {
     "name": "stdout",
     "output_type": "stream",
     "text": [
      "<class 'pandas.core.frame.DataFrame'>\n",
      "RangeIndex: 4321 entries, 0 to 4320\n",
      "Data columns (total 13 columns):\n",
      " #   Column             Non-Null Count  Dtype         \n",
      "---  ------             --------------  -----         \n",
      " 0   order_id           4321 non-null   int64         \n",
      " 1   order_date         4321 non-null   datetime64[ns]\n",
      " 2   order_total_price  1904 non-null   float64       \n",
      " 3   product_price      4321 non-null   float64       \n",
      " 4   order_discounts    4321 non-null   object        \n",
      " 5   product_discount   4321 non-null   float64       \n",
      " 6   order_status       4138 non-null   object        \n",
      " 7   product_title      4321 non-null   object        \n",
      " 8   product_sku        4321 non-null   object        \n",
      " 9   product_quantity   4321 non-null   int64         \n",
      " 10  product_category   4321 non-null   object        \n",
      " 11  weekdays           4321 non-null   int64         \n",
      " 12  sch_holidays       4321 non-null   object        \n",
      "dtypes: datetime64[ns](1), float64(3), int64(3), object(6)\n",
      "memory usage: 439.0+ KB\n"
     ]
    }
   ],
   "source": [
    "data.info()"
   ]
  },
  {
   "cell_type": "code",
   "execution_count": 7,
   "metadata": {
    "ExecuteTime": {
     "end_time": "2021-03-16T11:32:05.843380Z",
     "start_time": "2021-03-16T11:32:05.817378Z"
    }
   },
   "outputs": [],
   "source": [
    "data['month'] = [x.month for x in data['order_date']]\n",
    "data['week'] = [x.week for x in data['order_date']]"
   ]
  },
  {
   "cell_type": "code",
   "execution_count": 8,
   "metadata": {
    "ExecuteTime": {
     "end_time": "2021-03-16T11:32:07.367319Z",
     "start_time": "2021-03-16T11:32:07.358320Z"
    }
   },
   "outputs": [],
   "source": [
    "data['prod_disc'] = ['no' if x==0.00 else 'yes' for x in data['product_discount']]\n",
    "data['order_fulfilled'] = ['yes' if x=='fulfilled' else 'no' for x in data['order_status']]"
   ]
  },
  {
   "cell_type": "code",
   "execution_count": 9,
   "metadata": {
    "ExecuteTime": {
     "end_time": "2021-03-16T11:32:08.789743Z",
     "start_time": "2021-03-16T11:32:08.784740Z"
    }
   },
   "outputs": [
    {
     "data": {
      "text/plain": [
       "Index(['order_id', 'order_date', 'order_total_price', 'product_price',\n",
       "       'order_discounts', 'product_discount', 'order_status', 'product_title',\n",
       "       'product_sku', 'product_quantity', 'product_category', 'weekdays',\n",
       "       'sch_holidays', 'month', 'week', 'prod_disc', 'order_fulfilled'],\n",
       "      dtype='object')"
      ]
     },
     "execution_count": 9,
     "metadata": {},
     "output_type": "execute_result"
    }
   ],
   "source": [
    "data.columns"
   ]
  },
  {
   "cell_type": "code",
   "execution_count": 10,
   "metadata": {
    "ExecuteTime": {
     "end_time": "2021-03-16T11:32:13.545790Z",
     "start_time": "2021-03-16T11:32:13.538790Z"
    }
   },
   "outputs": [],
   "source": [
    "df = data[['month', 'week','weekdays', 'sch_holidays', \n",
    "           'product_price', 'prod_disc', 'order_fulfilled',\n",
    "           'product_sku', 'product_quantity'\n",
    "         ]]"
   ]
  },
  {
   "cell_type": "code",
   "execution_count": 11,
   "metadata": {
    "ExecuteTime": {
     "end_time": "2021-03-16T11:32:14.292742Z",
     "start_time": "2021-03-16T11:32:14.272740Z"
    },
    "scrolled": true
   },
   "outputs": [
    {
     "data": {
      "text/html": [
       "<div>\n",
       "<style scoped>\n",
       "    .dataframe tbody tr th:only-of-type {\n",
       "        vertical-align: middle;\n",
       "    }\n",
       "\n",
       "    .dataframe tbody tr th {\n",
       "        vertical-align: top;\n",
       "    }\n",
       "\n",
       "    .dataframe thead th {\n",
       "        text-align: right;\n",
       "    }\n",
       "</style>\n",
       "<table border=\"1\" class=\"dataframe\">\n",
       "  <thead>\n",
       "    <tr style=\"text-align: right;\">\n",
       "      <th></th>\n",
       "      <th>month</th>\n",
       "      <th>week</th>\n",
       "      <th>weekdays</th>\n",
       "      <th>sch_holidays</th>\n",
       "      <th>product_price</th>\n",
       "      <th>prod_disc</th>\n",
       "      <th>order_fulfilled</th>\n",
       "      <th>product_sku</th>\n",
       "      <th>product_quantity</th>\n",
       "    </tr>\n",
       "  </thead>\n",
       "  <tbody>\n",
       "    <tr>\n",
       "      <th>0</th>\n",
       "      <td>1</td>\n",
       "      <td>1</td>\n",
       "      <td>1</td>\n",
       "      <td>Non Holidays</td>\n",
       "      <td>249.99</td>\n",
       "      <td>no</td>\n",
       "      <td>yes</td>\n",
       "      <td>M80-VHB-BLK</td>\n",
       "      <td>1</td>\n",
       "    </tr>\n",
       "    <tr>\n",
       "      <th>1</th>\n",
       "      <td>1</td>\n",
       "      <td>1</td>\n",
       "      <td>1</td>\n",
       "      <td>Non Holidays</td>\n",
       "      <td>89.99</td>\n",
       "      <td>no</td>\n",
       "      <td>yes</td>\n",
       "      <td>M80-TICK-V2-BLK</td>\n",
       "      <td>1</td>\n",
       "    </tr>\n",
       "    <tr>\n",
       "      <th>2</th>\n",
       "      <td>1</td>\n",
       "      <td>1</td>\n",
       "      <td>2</td>\n",
       "      <td>Non Holidays</td>\n",
       "      <td>249.99</td>\n",
       "      <td>no</td>\n",
       "      <td>yes</td>\n",
       "      <td>M80-VHB-BLK</td>\n",
       "      <td>1</td>\n",
       "    </tr>\n",
       "    <tr>\n",
       "      <th>3</th>\n",
       "      <td>1</td>\n",
       "      <td>1</td>\n",
       "      <td>2</td>\n",
       "      <td>Non Holidays</td>\n",
       "      <td>229.99</td>\n",
       "      <td>yes</td>\n",
       "      <td>yes</td>\n",
       "      <td>EFX-FLY-BLK</td>\n",
       "      <td>1</td>\n",
       "    </tr>\n",
       "    <tr>\n",
       "      <th>4</th>\n",
       "      <td>1</td>\n",
       "      <td>1</td>\n",
       "      <td>1</td>\n",
       "      <td>Non Holidays</td>\n",
       "      <td>249.99</td>\n",
       "      <td>no</td>\n",
       "      <td>yes</td>\n",
       "      <td>M80-VEG-BLK</td>\n",
       "      <td>1</td>\n",
       "    </tr>\n",
       "    <tr>\n",
       "      <th>...</th>\n",
       "      <td>...</td>\n",
       "      <td>...</td>\n",
       "      <td>...</td>\n",
       "      <td>...</td>\n",
       "      <td>...</td>\n",
       "      <td>...</td>\n",
       "      <td>...</td>\n",
       "      <td>...</td>\n",
       "      <td>...</td>\n",
       "    </tr>\n",
       "    <tr>\n",
       "      <th>4316</th>\n",
       "      <td>3</td>\n",
       "      <td>9</td>\n",
       "      <td>5</td>\n",
       "      <td>Non Holidays</td>\n",
       "      <td>89.99</td>\n",
       "      <td>no</td>\n",
       "      <td>yes</td>\n",
       "      <td>M80-TICK-V2-BLK</td>\n",
       "      <td>1</td>\n",
       "    </tr>\n",
       "    <tr>\n",
       "      <th>4317</th>\n",
       "      <td>3</td>\n",
       "      <td>9</td>\n",
       "      <td>7</td>\n",
       "      <td>Non Holidays</td>\n",
       "      <td>249.99</td>\n",
       "      <td>no</td>\n",
       "      <td>yes</td>\n",
       "      <td>M80-VEG-BLK</td>\n",
       "      <td>1</td>\n",
       "    </tr>\n",
       "    <tr>\n",
       "      <th>4318</th>\n",
       "      <td>3</td>\n",
       "      <td>9</td>\n",
       "      <td>2</td>\n",
       "      <td>Non Holidays</td>\n",
       "      <td>249.99</td>\n",
       "      <td>no</td>\n",
       "      <td>yes</td>\n",
       "      <td>M80-VEB-BLK</td>\n",
       "      <td>1</td>\n",
       "    </tr>\n",
       "    <tr>\n",
       "      <th>4319</th>\n",
       "      <td>3</td>\n",
       "      <td>9</td>\n",
       "      <td>3</td>\n",
       "      <td>Non Holidays</td>\n",
       "      <td>169.99</td>\n",
       "      <td>no</td>\n",
       "      <td>yes</td>\n",
       "      <td>M80-TOUR-V2-BLK</td>\n",
       "      <td>1</td>\n",
       "    </tr>\n",
       "    <tr>\n",
       "      <th>4320</th>\n",
       "      <td>3</td>\n",
       "      <td>10</td>\n",
       "      <td>1</td>\n",
       "      <td>Non Holidays</td>\n",
       "      <td>229.99</td>\n",
       "      <td>yes</td>\n",
       "      <td>no</td>\n",
       "      <td>EFX-FLY-BLK</td>\n",
       "      <td>1</td>\n",
       "    </tr>\n",
       "  </tbody>\n",
       "</table>\n",
       "<p>4321 rows × 9 columns</p>\n",
       "</div>"
      ],
      "text/plain": [
       "      month  week  weekdays  sch_holidays  product_price prod_disc  \\\n",
       "0         1     1         1  Non Holidays         249.99        no   \n",
       "1         1     1         1  Non Holidays          89.99        no   \n",
       "2         1     1         2  Non Holidays         249.99        no   \n",
       "3         1     1         2  Non Holidays         229.99       yes   \n",
       "4         1     1         1  Non Holidays         249.99        no   \n",
       "...     ...   ...       ...           ...            ...       ...   \n",
       "4316      3     9         5  Non Holidays          89.99        no   \n",
       "4317      3     9         7  Non Holidays         249.99        no   \n",
       "4318      3     9         2  Non Holidays         249.99        no   \n",
       "4319      3     9         3  Non Holidays         169.99        no   \n",
       "4320      3    10         1  Non Holidays         229.99       yes   \n",
       "\n",
       "     order_fulfilled      product_sku  product_quantity  \n",
       "0                yes      M80-VHB-BLK                 1  \n",
       "1                yes  M80-TICK-V2-BLK                 1  \n",
       "2                yes      M80-VHB-BLK                 1  \n",
       "3                yes      EFX-FLY-BLK                 1  \n",
       "4                yes      M80-VEG-BLK                 1  \n",
       "...              ...              ...               ...  \n",
       "4316             yes  M80-TICK-V2-BLK                 1  \n",
       "4317             yes      M80-VEG-BLK                 1  \n",
       "4318             yes      M80-VEB-BLK                 1  \n",
       "4319             yes  M80-TOUR-V2-BLK                 1  \n",
       "4320              no      EFX-FLY-BLK                 1  \n",
       "\n",
       "[4321 rows x 9 columns]"
      ]
     },
     "execution_count": 11,
     "metadata": {},
     "output_type": "execute_result"
    }
   ],
   "source": [
    "df"
   ]
  },
  {
   "cell_type": "code",
   "execution_count": 12,
   "metadata": {
    "ExecuteTime": {
     "end_time": "2021-03-16T11:32:22.836758Z",
     "start_time": "2021-03-16T11:32:22.828788Z"
    }
   },
   "outputs": [
    {
     "name": "stdout",
     "output_type": "stream",
     "text": [
      "<class 'pandas.core.frame.DataFrame'>\n",
      "RangeIndex: 4321 entries, 0 to 4320\n",
      "Data columns (total 9 columns):\n",
      " #   Column            Non-Null Count  Dtype  \n",
      "---  ------            --------------  -----  \n",
      " 0   month             4321 non-null   int64  \n",
      " 1   week              4321 non-null   int64  \n",
      " 2   weekdays          4321 non-null   int64  \n",
      " 3   sch_holidays      4321 non-null   object \n",
      " 4   product_price     4321 non-null   float64\n",
      " 5   prod_disc         4321 non-null   object \n",
      " 6   order_fulfilled   4321 non-null   object \n",
      " 7   product_sku       4321 non-null   object \n",
      " 8   product_quantity  4321 non-null   int64  \n",
      "dtypes: float64(1), int64(4), object(4)\n",
      "memory usage: 303.9+ KB\n"
     ]
    }
   ],
   "source": [
    "df.info()"
   ]
  },
  {
   "cell_type": "code",
   "execution_count": 19,
   "metadata": {
    "ExecuteTime": {
     "end_time": "2021-03-16T11:38:55.716337Z",
     "start_time": "2021-03-16T11:38:55.677309Z"
    }
   },
   "outputs": [
    {
     "name": "stderr",
     "output_type": "stream",
     "text": [
      "C:\\Anaconda3\\envs\\powlook\\lib\\site-packages\\ipykernel_launcher.py:1: FutureWarning: Indexing with multiple keys (implicitly converted to a tuple of keys) will be deprecated, use a list instead.\n",
      "  \"\"\"Entry point for launching an IPython kernel.\n"
     ]
    },
    {
     "data": {
      "text/html": [
       "<div>\n",
       "<style scoped>\n",
       "    .dataframe tbody tr th:only-of-type {\n",
       "        vertical-align: middle;\n",
       "    }\n",
       "\n",
       "    .dataframe tbody tr th {\n",
       "        vertical-align: top;\n",
       "    }\n",
       "\n",
       "    .dataframe thead th {\n",
       "        text-align: right;\n",
       "    }\n",
       "</style>\n",
       "<table border=\"1\" class=\"dataframe\">\n",
       "  <thead>\n",
       "    <tr style=\"text-align: right;\">\n",
       "      <th></th>\n",
       "      <th>product_sku</th>\n",
       "      <th>prod_disc</th>\n",
       "      <th>order_fulfilled</th>\n",
       "    </tr>\n",
       "    <tr>\n",
       "      <th>month</th>\n",
       "      <th></th>\n",
       "      <th></th>\n",
       "      <th></th>\n",
       "    </tr>\n",
       "  </thead>\n",
       "  <tbody>\n",
       "    <tr>\n",
       "      <th>1</th>\n",
       "      <td>M80-VHB-BLKM80-TICK-V2-BLKM80-VHB-BLKEFX-FLY-B...</td>\n",
       "      <td>nononoyesnoyesnonoyesnoyesyesnoyesnonoyesnonoy...</td>\n",
       "      <td>yesyesyesyesyesyesyesyesyesyesyesyesyesyesyesy...</td>\n",
       "    </tr>\n",
       "    <tr>\n",
       "      <th>2</th>\n",
       "      <td>M80-2G-BLKM80-SEG-BLKM80-SEG-ASHM80-VEB-GRYM80...</td>\n",
       "      <td>yesnononononononononononononoyesnonoyesnononon...</td>\n",
       "      <td>yesyesyesyesyesyesyesyesyesyesyesyesyesyesyesy...</td>\n",
       "    </tr>\n",
       "    <tr>\n",
       "      <th>3</th>\n",
       "      <td>M80-AD-BLKM80-BTY-BLK-LM80-BTY-BLK-LEFX-FLY-BL...</td>\n",
       "      <td>yesnonoyesyesyesnonononoyesnoyesnonoyesnononoy...</td>\n",
       "      <td>yesyesyesyesyesyesyesnoyesyesyesyesyesyesyesye...</td>\n",
       "    </tr>\n",
       "    <tr>\n",
       "      <th>4</th>\n",
       "      <td>EFX-FLY-BLKM80-EB-BLKEFX-FLY-BLKM80-SEG-BLKM80...</td>\n",
       "      <td>yesnoyesyesnonoyesyesyesyesyesyesnoyesyesyesno...</td>\n",
       "      <td>yesyesyesyesyesyesyesyesyesyesyesyesnonoyesyes...</td>\n",
       "    </tr>\n",
       "    <tr>\n",
       "      <th>5</th>\n",
       "      <td>M80-AD-BLKM80-TOUR-V2-BLKEFX-FLY-BLKM80-VEB-BL...</td>\n",
       "      <td>nononononononononononoyesyesnonoyesyesnononoye...</td>\n",
       "      <td>yesyesyesyesyesyesyesnoyesyesyesyesyesyesyesye...</td>\n",
       "    </tr>\n",
       "    <tr>\n",
       "      <th>6</th>\n",
       "      <td>M80-EB-BLKM80-VEG-GRYEFX-FLY-BLKM80-2B-BLKM80-...</td>\n",
       "      <td>nonononononoyesnononoyesnonononoyesyesnoyesyes...</td>\n",
       "      <td>yesyesyesyesyesyesyesyesyesnoyesyesyesyesyesye...</td>\n",
       "    </tr>\n",
       "    <tr>\n",
       "      <th>7</th>\n",
       "      <td>M80-VEG-GRYM80-TICK-V2-BLKM80-BTY-BLK-LM80-2G-...</td>\n",
       "      <td>nononoyesyesnonononoyesyesnonoyesyesnoyesyesno...</td>\n",
       "      <td>yesyesyesyesyesyesyesyesyesyesyesyesyesyesyesy...</td>\n",
       "    </tr>\n",
       "    <tr>\n",
       "      <th>8</th>\n",
       "      <td>M80-VHB-BLKM80-TICK-V2-BLKEFX-FLY-BLKM80-VHB-B...</td>\n",
       "      <td>noyesnonononononoyesnononoyesyesnononoyesyesno...</td>\n",
       "      <td>yesyesyesyesyesyesyesyesyesyesyesyesyesyesyesy...</td>\n",
       "    </tr>\n",
       "    <tr>\n",
       "      <th>9</th>\n",
       "      <td>EFX-FLY-BLKM80-TICK-V2-BLKM80-BTY-BLK-LEFX-FLY...</td>\n",
       "      <td>yesnonononoyesyesnonoyesyesyesyesnoyesnononono...</td>\n",
       "      <td>yesyesyesyesyesyesyesyesyesyesyesyesyesyesyesy...</td>\n",
       "    </tr>\n",
       "    <tr>\n",
       "      <th>10</th>\n",
       "      <td>EFX-FLY-BLKM80-VAD-BLKM80-EG-BLKM80-SEB-BLKM80...</td>\n",
       "      <td>nonoyesnononoyesyesnononononononononononononon...</td>\n",
       "      <td>yesyesyesyesyesyesyesyesyesyesyesyesyesyesyesy...</td>\n",
       "    </tr>\n",
       "    <tr>\n",
       "      <th>11</th>\n",
       "      <td>M80-EG-BLKM80-2G-BLKEFX-FLY-BLKM80-TICK-V2-BLK...</td>\n",
       "      <td>yesnonononoyesnononononoyesnonoyesnonononoyesn...</td>\n",
       "      <td>yesyesyesyesyesyesyesyesyesyesyesyesyesyesyesy...</td>\n",
       "    </tr>\n",
       "    <tr>\n",
       "      <th>12</th>\n",
       "      <td>EFX-FLY-BLKM80-AD-BLKM80-SEB-BLKEFX-FLY-BLKM80...</td>\n",
       "      <td>nononononononononoyesnonoyesnononoyesyesyesnoy...</td>\n",
       "      <td>yesyesyesyesyesyesyesyesyesyesyesyesyesyesyesy...</td>\n",
       "    </tr>\n",
       "  </tbody>\n",
       "</table>\n",
       "</div>"
      ],
      "text/plain": [
       "                                             product_sku  \\\n",
       "month                                                      \n",
       "1      M80-VHB-BLKM80-TICK-V2-BLKM80-VHB-BLKEFX-FLY-B...   \n",
       "2      M80-2G-BLKM80-SEG-BLKM80-SEG-ASHM80-VEB-GRYM80...   \n",
       "3      M80-AD-BLKM80-BTY-BLK-LM80-BTY-BLK-LEFX-FLY-BL...   \n",
       "4      EFX-FLY-BLKM80-EB-BLKEFX-FLY-BLKM80-SEG-BLKM80...   \n",
       "5      M80-AD-BLKM80-TOUR-V2-BLKEFX-FLY-BLKM80-VEB-BL...   \n",
       "6      M80-EB-BLKM80-VEG-GRYEFX-FLY-BLKM80-2B-BLKM80-...   \n",
       "7      M80-VEG-GRYM80-TICK-V2-BLKM80-BTY-BLK-LM80-2G-...   \n",
       "8      M80-VHB-BLKM80-TICK-V2-BLKEFX-FLY-BLKM80-VHB-B...   \n",
       "9      EFX-FLY-BLKM80-TICK-V2-BLKM80-BTY-BLK-LEFX-FLY...   \n",
       "10     EFX-FLY-BLKM80-VAD-BLKM80-EG-BLKM80-SEB-BLKM80...   \n",
       "11     M80-EG-BLKM80-2G-BLKEFX-FLY-BLKM80-TICK-V2-BLK...   \n",
       "12     EFX-FLY-BLKM80-AD-BLKM80-SEB-BLKEFX-FLY-BLKM80...   \n",
       "\n",
       "                                               prod_disc  \\\n",
       "month                                                      \n",
       "1      nononoyesnoyesnonoyesnoyesyesnoyesnonoyesnonoy...   \n",
       "2      yesnononononononononononononoyesnonoyesnononon...   \n",
       "3      yesnonoyesyesyesnonononoyesnoyesnonoyesnononoy...   \n",
       "4      yesnoyesyesnonoyesyesyesyesyesyesnoyesyesyesno...   \n",
       "5      nononononononononononoyesyesnonoyesyesnononoye...   \n",
       "6      nonononononoyesnononoyesnonononoyesyesnoyesyes...   \n",
       "7      nononoyesyesnonononoyesyesnonoyesyesnoyesyesno...   \n",
       "8      noyesnonononononoyesnononoyesyesnononoyesyesno...   \n",
       "9      yesnonononoyesyesnonoyesyesyesyesnoyesnononono...   \n",
       "10     nonoyesnononoyesyesnononononononononononononon...   \n",
       "11     yesnonononoyesnononononoyesnonoyesnonononoyesn...   \n",
       "12     nononononononononoyesnonoyesnononoyesyesyesnoy...   \n",
       "\n",
       "                                         order_fulfilled  \n",
       "month                                                     \n",
       "1      yesyesyesyesyesyesyesyesyesyesyesyesyesyesyesy...  \n",
       "2      yesyesyesyesyesyesyesyesyesyesyesyesyesyesyesy...  \n",
       "3      yesyesyesyesyesyesyesnoyesyesyesyesyesyesyesye...  \n",
       "4      yesyesyesyesyesyesyesyesyesyesyesyesnonoyesyes...  \n",
       "5      yesyesyesyesyesyesyesnoyesyesyesyesyesyesyesye...  \n",
       "6      yesyesyesyesyesyesyesyesyesnoyesyesyesyesyesye...  \n",
       "7      yesyesyesyesyesyesyesyesyesyesyesyesyesyesyesy...  \n",
       "8      yesyesyesyesyesyesyesyesyesyesyesyesyesyesyesy...  \n",
       "9      yesyesyesyesyesyesyesyesyesyesyesyesyesyesyesy...  \n",
       "10     yesyesyesyesyesyesyesyesyesyesyesyesyesyesyesy...  \n",
       "11     yesyesyesyesyesyesyesyesyesyesyesyesyesyesyesy...  \n",
       "12     yesyesyesyesyesyesyesyesyesyesyesyesyesyesyesy...  "
      ]
     },
     "execution_count": 19,
     "metadata": {},
     "output_type": "execute_result"
    }
   ],
   "source": [
    "df.groupby('month')['product_sku','prod_disc','order_fulfilled'].sum()"
   ]
  },
  {
   "cell_type": "markdown",
   "metadata": {
    "ExecuteTime": {
     "end_time": "2021-03-16T10:59:29.847914Z",
     "start_time": "2021-03-16T10:59:29.844939Z"
    }
   },
   "source": [
    "### Data Pre-processing"
   ]
  },
  {
   "cell_type": "code",
   "execution_count": 13,
   "metadata": {
    "ExecuteTime": {
     "end_time": "2021-03-16T11:32:26.507787Z",
     "start_time": "2021-03-16T11:32:26.502789Z"
    }
   },
   "outputs": [],
   "source": [
    "X = df.drop(['product_quantity'], axis=1)\n",
    "Y = df['product_quantity']"
   ]
  },
  {
   "cell_type": "code",
   "execution_count": 14,
   "metadata": {
    "ExecuteTime": {
     "end_time": "2021-03-16T11:32:27.003044Z",
     "start_time": "2021-03-16T11:32:26.987045Z"
    }
   },
   "outputs": [
    {
     "data": {
      "text/html": [
       "<div>\n",
       "<style scoped>\n",
       "    .dataframe tbody tr th:only-of-type {\n",
       "        vertical-align: middle;\n",
       "    }\n",
       "\n",
       "    .dataframe tbody tr th {\n",
       "        vertical-align: top;\n",
       "    }\n",
       "\n",
       "    .dataframe thead th {\n",
       "        text-align: right;\n",
       "    }\n",
       "</style>\n",
       "<table border=\"1\" class=\"dataframe\">\n",
       "  <thead>\n",
       "    <tr style=\"text-align: right;\">\n",
       "      <th></th>\n",
       "      <th>month</th>\n",
       "      <th>week</th>\n",
       "      <th>weekdays</th>\n",
       "      <th>sch_holidays</th>\n",
       "      <th>product_price</th>\n",
       "      <th>prod_disc</th>\n",
       "      <th>order_fulfilled</th>\n",
       "      <th>product_sku</th>\n",
       "    </tr>\n",
       "  </thead>\n",
       "  <tbody>\n",
       "    <tr>\n",
       "      <th>0</th>\n",
       "      <td>1</td>\n",
       "      <td>1</td>\n",
       "      <td>1</td>\n",
       "      <td>Non Holidays</td>\n",
       "      <td>249.99</td>\n",
       "      <td>no</td>\n",
       "      <td>yes</td>\n",
       "      <td>M80-VHB-BLK</td>\n",
       "    </tr>\n",
       "    <tr>\n",
       "      <th>1</th>\n",
       "      <td>1</td>\n",
       "      <td>1</td>\n",
       "      <td>1</td>\n",
       "      <td>Non Holidays</td>\n",
       "      <td>89.99</td>\n",
       "      <td>no</td>\n",
       "      <td>yes</td>\n",
       "      <td>M80-TICK-V2-BLK</td>\n",
       "    </tr>\n",
       "    <tr>\n",
       "      <th>2</th>\n",
       "      <td>1</td>\n",
       "      <td>1</td>\n",
       "      <td>2</td>\n",
       "      <td>Non Holidays</td>\n",
       "      <td>249.99</td>\n",
       "      <td>no</td>\n",
       "      <td>yes</td>\n",
       "      <td>M80-VHB-BLK</td>\n",
       "    </tr>\n",
       "    <tr>\n",
       "      <th>3</th>\n",
       "      <td>1</td>\n",
       "      <td>1</td>\n",
       "      <td>2</td>\n",
       "      <td>Non Holidays</td>\n",
       "      <td>229.99</td>\n",
       "      <td>yes</td>\n",
       "      <td>yes</td>\n",
       "      <td>EFX-FLY-BLK</td>\n",
       "    </tr>\n",
       "    <tr>\n",
       "      <th>4</th>\n",
       "      <td>1</td>\n",
       "      <td>1</td>\n",
       "      <td>1</td>\n",
       "      <td>Non Holidays</td>\n",
       "      <td>249.99</td>\n",
       "      <td>no</td>\n",
       "      <td>yes</td>\n",
       "      <td>M80-VEG-BLK</td>\n",
       "    </tr>\n",
       "    <tr>\n",
       "      <th>...</th>\n",
       "      <td>...</td>\n",
       "      <td>...</td>\n",
       "      <td>...</td>\n",
       "      <td>...</td>\n",
       "      <td>...</td>\n",
       "      <td>...</td>\n",
       "      <td>...</td>\n",
       "      <td>...</td>\n",
       "    </tr>\n",
       "    <tr>\n",
       "      <th>4316</th>\n",
       "      <td>3</td>\n",
       "      <td>9</td>\n",
       "      <td>5</td>\n",
       "      <td>Non Holidays</td>\n",
       "      <td>89.99</td>\n",
       "      <td>no</td>\n",
       "      <td>yes</td>\n",
       "      <td>M80-TICK-V2-BLK</td>\n",
       "    </tr>\n",
       "    <tr>\n",
       "      <th>4317</th>\n",
       "      <td>3</td>\n",
       "      <td>9</td>\n",
       "      <td>7</td>\n",
       "      <td>Non Holidays</td>\n",
       "      <td>249.99</td>\n",
       "      <td>no</td>\n",
       "      <td>yes</td>\n",
       "      <td>M80-VEG-BLK</td>\n",
       "    </tr>\n",
       "    <tr>\n",
       "      <th>4318</th>\n",
       "      <td>3</td>\n",
       "      <td>9</td>\n",
       "      <td>2</td>\n",
       "      <td>Non Holidays</td>\n",
       "      <td>249.99</td>\n",
       "      <td>no</td>\n",
       "      <td>yes</td>\n",
       "      <td>M80-VEB-BLK</td>\n",
       "    </tr>\n",
       "    <tr>\n",
       "      <th>4319</th>\n",
       "      <td>3</td>\n",
       "      <td>9</td>\n",
       "      <td>3</td>\n",
       "      <td>Non Holidays</td>\n",
       "      <td>169.99</td>\n",
       "      <td>no</td>\n",
       "      <td>yes</td>\n",
       "      <td>M80-TOUR-V2-BLK</td>\n",
       "    </tr>\n",
       "    <tr>\n",
       "      <th>4320</th>\n",
       "      <td>3</td>\n",
       "      <td>10</td>\n",
       "      <td>1</td>\n",
       "      <td>Non Holidays</td>\n",
       "      <td>229.99</td>\n",
       "      <td>yes</td>\n",
       "      <td>no</td>\n",
       "      <td>EFX-FLY-BLK</td>\n",
       "    </tr>\n",
       "  </tbody>\n",
       "</table>\n",
       "<p>4321 rows × 8 columns</p>\n",
       "</div>"
      ],
      "text/plain": [
       "      month  week  weekdays  sch_holidays  product_price prod_disc  \\\n",
       "0         1     1         1  Non Holidays         249.99        no   \n",
       "1         1     1         1  Non Holidays          89.99        no   \n",
       "2         1     1         2  Non Holidays         249.99        no   \n",
       "3         1     1         2  Non Holidays         229.99       yes   \n",
       "4         1     1         1  Non Holidays         249.99        no   \n",
       "...     ...   ...       ...           ...            ...       ...   \n",
       "4316      3     9         5  Non Holidays          89.99        no   \n",
       "4317      3     9         7  Non Holidays         249.99        no   \n",
       "4318      3     9         2  Non Holidays         249.99        no   \n",
       "4319      3     9         3  Non Holidays         169.99        no   \n",
       "4320      3    10         1  Non Holidays         229.99       yes   \n",
       "\n",
       "     order_fulfilled      product_sku  \n",
       "0                yes      M80-VHB-BLK  \n",
       "1                yes  M80-TICK-V2-BLK  \n",
       "2                yes      M80-VHB-BLK  \n",
       "3                yes      EFX-FLY-BLK  \n",
       "4                yes      M80-VEG-BLK  \n",
       "...              ...              ...  \n",
       "4316             yes  M80-TICK-V2-BLK  \n",
       "4317             yes      M80-VEG-BLK  \n",
       "4318             yes      M80-VEB-BLK  \n",
       "4319             yes  M80-TOUR-V2-BLK  \n",
       "4320              no      EFX-FLY-BLK  \n",
       "\n",
       "[4321 rows x 8 columns]"
      ]
     },
     "execution_count": 14,
     "metadata": {},
     "output_type": "execute_result"
    }
   ],
   "source": [
    "X"
   ]
  },
  {
   "cell_type": "code",
   "execution_count": 17,
   "metadata": {
    "ExecuteTime": {
     "end_time": "2021-03-16T11:33:36.990994Z",
     "start_time": "2021-03-16T11:33:36.985954Z"
    }
   },
   "outputs": [
    {
     "data": {
      "text/plain": [
       "<bound method IndexOpsMixin.value_counts of 0       1\n",
       "1       1\n",
       "2       1\n",
       "3       1\n",
       "4       1\n",
       "       ..\n",
       "4316    1\n",
       "4317    1\n",
       "4318    1\n",
       "4319    1\n",
       "4320    1\n",
       "Name: product_quantity, Length: 4321, dtype: int64>"
      ]
     },
     "execution_count": 17,
     "metadata": {},
     "output_type": "execute_result"
    }
   ],
   "source": [
    "Y.value_counts"
   ]
  },
  {
   "cell_type": "code",
   "execution_count": 16,
   "metadata": {
    "ExecuteTime": {
     "end_time": "2021-03-16T11:33:09.652859Z",
     "start_time": "2021-03-16T11:33:09.622854Z"
    }
   },
   "outputs": [
    {
     "ename": "ValueError",
     "evalue": "The least populated class in y has only 1 member, which is too few. The minimum number of groups for any class cannot be less than 2.",
     "output_type": "error",
     "traceback": [
      "\u001b[1;31m---------------------------------------------------------------------------\u001b[0m",
      "\u001b[1;31mValueError\u001b[0m                                Traceback (most recent call last)",
      "\u001b[1;32m<ipython-input-16-57280ba6e2b6>\u001b[0m in \u001b[0;36m<module>\u001b[1;34m\u001b[0m\n\u001b[0;32m     10\u001b[0m X_train, X_test, y_train, y_test = train_test_split(X, Y, test_size=1/5, \\\n\u001b[0;32m     11\u001b[0m                                                     \u001b[0mrandom_state\u001b[0m\u001b[1;33m=\u001b[0m\u001b[1;36m1\u001b[0m\u001b[1;33m,\u001b[0m\u001b[1;33m\u001b[0m\u001b[1;33m\u001b[0m\u001b[0m\n\u001b[1;32m---> 12\u001b[1;33m                                                     stratify=Y)\n\u001b[0m\u001b[0;32m     13\u001b[0m \u001b[1;33m\u001b[0m\u001b[0m\n\u001b[0;32m     14\u001b[0m \u001b[1;31m# Preprocessing for numerical data\u001b[0m\u001b[1;33m\u001b[0m\u001b[1;33m\u001b[0m\u001b[1;33m\u001b[0m\u001b[0m\n",
      "\u001b[1;32mC:\\Anaconda3\\envs\\powlook\\lib\\site-packages\\sklearn\\model_selection\\_split.py\u001b[0m in \u001b[0;36mtrain_test_split\u001b[1;34m(*arrays, **options)\u001b[0m\n\u001b[0;32m   2141\u001b[0m                      random_state=random_state)\n\u001b[0;32m   2142\u001b[0m \u001b[1;33m\u001b[0m\u001b[0m\n\u001b[1;32m-> 2143\u001b[1;33m         \u001b[0mtrain\u001b[0m\u001b[1;33m,\u001b[0m \u001b[0mtest\u001b[0m \u001b[1;33m=\u001b[0m \u001b[0mnext\u001b[0m\u001b[1;33m(\u001b[0m\u001b[0mcv\u001b[0m\u001b[1;33m.\u001b[0m\u001b[0msplit\u001b[0m\u001b[1;33m(\u001b[0m\u001b[0mX\u001b[0m\u001b[1;33m=\u001b[0m\u001b[0marrays\u001b[0m\u001b[1;33m[\u001b[0m\u001b[1;36m0\u001b[0m\u001b[1;33m]\u001b[0m\u001b[1;33m,\u001b[0m \u001b[0my\u001b[0m\u001b[1;33m=\u001b[0m\u001b[0mstratify\u001b[0m\u001b[1;33m)\u001b[0m\u001b[1;33m)\u001b[0m\u001b[1;33m\u001b[0m\u001b[1;33m\u001b[0m\u001b[0m\n\u001b[0m\u001b[0;32m   2144\u001b[0m \u001b[1;33m\u001b[0m\u001b[0m\n\u001b[0;32m   2145\u001b[0m     return list(chain.from_iterable((_safe_indexing(a, train),\n",
      "\u001b[1;32mC:\\Anaconda3\\envs\\powlook\\lib\\site-packages\\sklearn\\model_selection\\_split.py\u001b[0m in \u001b[0;36msplit\u001b[1;34m(self, X, y, groups)\u001b[0m\n\u001b[0;32m   1327\u001b[0m         \"\"\"\n\u001b[0;32m   1328\u001b[0m         \u001b[0mX\u001b[0m\u001b[1;33m,\u001b[0m \u001b[0my\u001b[0m\u001b[1;33m,\u001b[0m \u001b[0mgroups\u001b[0m \u001b[1;33m=\u001b[0m \u001b[0mindexable\u001b[0m\u001b[1;33m(\u001b[0m\u001b[0mX\u001b[0m\u001b[1;33m,\u001b[0m \u001b[0my\u001b[0m\u001b[1;33m,\u001b[0m \u001b[0mgroups\u001b[0m\u001b[1;33m)\u001b[0m\u001b[1;33m\u001b[0m\u001b[1;33m\u001b[0m\u001b[0m\n\u001b[1;32m-> 1329\u001b[1;33m         \u001b[1;32mfor\u001b[0m \u001b[0mtrain\u001b[0m\u001b[1;33m,\u001b[0m \u001b[0mtest\u001b[0m \u001b[1;32min\u001b[0m \u001b[0mself\u001b[0m\u001b[1;33m.\u001b[0m\u001b[0m_iter_indices\u001b[0m\u001b[1;33m(\u001b[0m\u001b[0mX\u001b[0m\u001b[1;33m,\u001b[0m \u001b[0my\u001b[0m\u001b[1;33m,\u001b[0m \u001b[0mgroups\u001b[0m\u001b[1;33m)\u001b[0m\u001b[1;33m:\u001b[0m\u001b[1;33m\u001b[0m\u001b[1;33m\u001b[0m\u001b[0m\n\u001b[0m\u001b[0;32m   1330\u001b[0m             \u001b[1;32myield\u001b[0m \u001b[0mtrain\u001b[0m\u001b[1;33m,\u001b[0m \u001b[0mtest\u001b[0m\u001b[1;33m\u001b[0m\u001b[1;33m\u001b[0m\u001b[0m\n\u001b[0;32m   1331\u001b[0m \u001b[1;33m\u001b[0m\u001b[0m\n",
      "\u001b[1;32mC:\\Anaconda3\\envs\\powlook\\lib\\site-packages\\sklearn\\model_selection\\_split.py\u001b[0m in \u001b[0;36m_iter_indices\u001b[1;34m(self, X, y, groups)\u001b[0m\n\u001b[0;32m   1657\u001b[0m         \u001b[0mclass_counts\u001b[0m \u001b[1;33m=\u001b[0m \u001b[0mnp\u001b[0m\u001b[1;33m.\u001b[0m\u001b[0mbincount\u001b[0m\u001b[1;33m(\u001b[0m\u001b[0my_indices\u001b[0m\u001b[1;33m)\u001b[0m\u001b[1;33m\u001b[0m\u001b[1;33m\u001b[0m\u001b[0m\n\u001b[0;32m   1658\u001b[0m         \u001b[1;32mif\u001b[0m \u001b[0mnp\u001b[0m\u001b[1;33m.\u001b[0m\u001b[0mmin\u001b[0m\u001b[1;33m(\u001b[0m\u001b[0mclass_counts\u001b[0m\u001b[1;33m)\u001b[0m \u001b[1;33m<\u001b[0m \u001b[1;36m2\u001b[0m\u001b[1;33m:\u001b[0m\u001b[1;33m\u001b[0m\u001b[1;33m\u001b[0m\u001b[0m\n\u001b[1;32m-> 1659\u001b[1;33m             raise ValueError(\"The least populated class in y has only 1\"\n\u001b[0m\u001b[0;32m   1660\u001b[0m                              \u001b[1;34m\" member, which is too few. The minimum\"\u001b[0m\u001b[1;33m\u001b[0m\u001b[1;33m\u001b[0m\u001b[0m\n\u001b[0;32m   1661\u001b[0m                              \u001b[1;34m\" number of groups for any class cannot\"\u001b[0m\u001b[1;33m\u001b[0m\u001b[1;33m\u001b[0m\u001b[0m\n",
      "\u001b[1;31mValueError\u001b[0m: The least populated class in y has only 1 member, which is too few. The minimum number of groups for any class cannot be less than 2."
     ]
    }
   ],
   "source": [
    "# Build a preprocessing step for numeric features\n",
    "numerical_cols = ['product_price']\n",
    "\n",
    "# Build a preprocessing step for nominal features\n",
    "nominal_cols = ['month', 'week', 'weekdays', 'sch_holidays', 'prod_disc', 'order_fulfilled', 'product_sku']\n",
    "for col in nominal_cols: \n",
    "    X[col] = X[col].astype('category')\n",
    "\n",
    "# Test/train split the data\n",
    "X_train, X_test, y_train, y_test = train_test_split(X, Y, test_size=1/5, \\\n",
    "                                                    random_state=1,\n",
    "                                                    stratify=Y)\n",
    "    \n",
    "# Preprocessing for numerical data\n",
    "## StandardScaler removes the mean and standardise it to between -1 to 1\n",
    "numerical_transformer = Pipeline(steps=[\n",
    "    ('imputer', SimpleImputer(strategy='mean')),\n",
    "    ('Scaler' , StandardScaler())                      \n",
    "    ])  \n",
    "\n",
    "# Preprocessing for nominal data\n",
    "nominal_transformer = Pipeline(steps=[\n",
    "    ('imputer', SimpleImputer(strategy='most_frequent')),\n",
    "    ('onehot', OneHotEncoder(handle_unknown='ignore'))\n",
    "    ])\n",
    "\n",
    "preprocessor = ColumnTransformer(\n",
    "    transformers=[\n",
    "        ('nom', nominal_transformer, nominal_cols),\n",
    "        ('num', numerical_transformer, numerical_cols)\n",
    "        ])  \n",
    "    \n",
    "# Transform the Training and Test sets to numpy arrays\n",
    "X_train = preprocessor.fit_transform(X_train)\n",
    "X_test  = preprocessor.transform(X_test)\n",
    "features = list(preprocessor.transformers_[0][1]['onehot'].get_feature_names(nominal_cols)) + numerical_cols     "
   ]
  },
  {
   "cell_type": "code",
   "execution_count": null,
   "metadata": {},
   "outputs": [],
   "source": []
  },
  {
   "cell_type": "code",
   "execution_count": null,
   "metadata": {},
   "outputs": [],
   "source": []
  },
  {
   "cell_type": "code",
   "execution_count": null,
   "metadata": {},
   "outputs": [],
   "source": []
  },
  {
   "cell_type": "code",
   "execution_count": null,
   "metadata": {},
   "outputs": [],
   "source": []
  },
  {
   "cell_type": "code",
   "execution_count": null,
   "metadata": {},
   "outputs": [],
   "source": []
  }
 ],
 "metadata": {
  "kernelspec": {
   "display_name": "Python 3.8.1 64-bit ('powlook': conda)",
   "language": "python",
   "name": "python38164bitpowlookconda86803d4abdff44bfa4563fc8b9c6c6ad"
  },
  "language_info": {
   "codemirror_mode": {
    "name": "ipython",
    "version": 3
   },
   "file_extension": ".py",
   "mimetype": "text/x-python",
   "name": "python",
   "nbconvert_exporter": "python",
   "pygments_lexer": "ipython3",
   "version": "3.6.10"
  },
  "varInspector": {
   "cols": {
    "lenName": 16,
    "lenType": 16,
    "lenVar": 40
   },
   "kernels_config": {
    "python": {
     "delete_cmd_postfix": "",
     "delete_cmd_prefix": "del ",
     "library": "var_list.py",
     "varRefreshCmd": "print(var_dic_list())"
    },
    "r": {
     "delete_cmd_postfix": ") ",
     "delete_cmd_prefix": "rm(",
     "library": "var_list.r",
     "varRefreshCmd": "cat(var_dic_list()) "
    }
   },
   "types_to_exclude": [
    "module",
    "function",
    "builtin_function_or_method",
    "instance",
    "_Feature"
   ],
   "window_display": false
  }
 },
 "nbformat": 4,
 "nbformat_minor": 2
}
