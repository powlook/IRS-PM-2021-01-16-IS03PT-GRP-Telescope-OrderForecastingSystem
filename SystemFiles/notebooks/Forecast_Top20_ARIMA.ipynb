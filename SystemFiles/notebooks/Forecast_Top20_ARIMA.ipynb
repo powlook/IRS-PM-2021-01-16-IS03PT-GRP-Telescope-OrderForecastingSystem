{
 "cells": [
  {
   "cell_type": "markdown",
   "metadata": {},
   "source": [
    "#### Forecasting top20 items from orderproducts\n"
   ]
  },
  {
   "cell_type": "code",
   "execution_count": 1,
   "metadata": {
    "ExecuteTime": {
     "end_time": "2021-03-31T03:50:53.619401Z",
     "start_time": "2021-03-31T03:50:52.662400Z"
    }
   },
   "outputs": [
    {
     "data": {
      "text/html": [
       "<div>\n",
       "<style scoped>\n",
       "    .dataframe tbody tr th:only-of-type {\n",
       "        vertical-align: middle;\n",
       "    }\n",
       "\n",
       "    .dataframe tbody tr th {\n",
       "        vertical-align: top;\n",
       "    }\n",
       "\n",
       "    .dataframe thead th {\n",
       "        text-align: right;\n",
       "    }\n",
       "</style>\n",
       "<table border=\"1\" class=\"dataframe\">\n",
       "  <thead>\n",
       "    <tr style=\"text-align: right;\">\n",
       "      <th></th>\n",
       "      <th>order_id</th>\n",
       "      <th>order_date</th>\n",
       "      <th>order_total_price</th>\n",
       "      <th>product_price</th>\n",
       "      <th>order_discounts</th>\n",
       "      <th>product_discount</th>\n",
       "      <th>order_status</th>\n",
       "      <th>product_title</th>\n",
       "      <th>product_sku</th>\n",
       "      <th>product_quantity</th>\n",
       "      <th>product_category</th>\n",
       "      <th>weekdays</th>\n",
       "      <th>sch_holidays</th>\n",
       "    </tr>\n",
       "  </thead>\n",
       "  <tbody>\n",
       "    <tr>\n",
       "      <th>0</th>\n",
       "      <td>20570</td>\n",
       "      <td>2018-01-01</td>\n",
       "      <td>449.97</td>\n",
       "      <td>249.99</td>\n",
       "      <td>yes</td>\n",
       "      <td>0.00</td>\n",
       "      <td>fulfilled</td>\n",
       "      <td>Vertigo™ Semi-Hollow</td>\n",
       "      <td>M80-VHB-BLK</td>\n",
       "      <td>1</td>\n",
       "      <td>Electric Guitar Cases &amp; Gig Bags</td>\n",
       "      <td>1</td>\n",
       "      <td>Non Holidays</td>\n",
       "    </tr>\n",
       "    <tr>\n",
       "      <th>1</th>\n",
       "      <td>20570</td>\n",
       "      <td>2018-01-01</td>\n",
       "      <td>449.97</td>\n",
       "      <td>89.99</td>\n",
       "      <td>yes</td>\n",
       "      <td>0.00</td>\n",
       "      <td>fulfilled</td>\n",
       "      <td>The Tick™ 2.0 Black</td>\n",
       "      <td>M80-TICK-V2-BLK</td>\n",
       "      <td>1</td>\n",
       "      <td>Pedals &amp; Pedalboards Cases &amp; Gig Bags</td>\n",
       "      <td>1</td>\n",
       "      <td>Non Holidays</td>\n",
       "    </tr>\n",
       "    <tr>\n",
       "      <th>2</th>\n",
       "      <td>20556</td>\n",
       "      <td>2018-01-02</td>\n",
       "      <td>249.99</td>\n",
       "      <td>249.99</td>\n",
       "      <td>yes</td>\n",
       "      <td>0.00</td>\n",
       "      <td>fulfilled</td>\n",
       "      <td>Vertigo™ Semi-Hollow</td>\n",
       "      <td>M80-VHB-BLK</td>\n",
       "      <td>1</td>\n",
       "      <td>Electric Guitar Cases &amp; Gig Bags</td>\n",
       "      <td>2</td>\n",
       "      <td>Non Holidays</td>\n",
       "    </tr>\n",
       "    <tr>\n",
       "      <th>3</th>\n",
       "      <td>20554</td>\n",
       "      <td>2018-01-02</td>\n",
       "      <td>NaN</td>\n",
       "      <td>229.99</td>\n",
       "      <td>no</td>\n",
       "      <td>229.99</td>\n",
       "      <td>fulfilled</td>\n",
       "      <td>The FlyBy</td>\n",
       "      <td>EFX-FLY-BLK</td>\n",
       "      <td>1</td>\n",
       "      <td>DJ Equipment Cases &amp; Gig Bags</td>\n",
       "      <td>2</td>\n",
       "      <td>Non Holidays</td>\n",
       "    </tr>\n",
       "    <tr>\n",
       "      <th>4</th>\n",
       "      <td>20573</td>\n",
       "      <td>2018-01-01</td>\n",
       "      <td>249.99</td>\n",
       "      <td>249.99</td>\n",
       "      <td>yes</td>\n",
       "      <td>0.00</td>\n",
       "      <td>fulfilled</td>\n",
       "      <td>Vertigo™ Electric Guitar</td>\n",
       "      <td>M80-VEG-BLK</td>\n",
       "      <td>1</td>\n",
       "      <td>Electric Guitar Cases &amp; Gig Bags</td>\n",
       "      <td>1</td>\n",
       "      <td>Non Holidays</td>\n",
       "    </tr>\n",
       "  </tbody>\n",
       "</table>\n",
       "</div>"
      ],
      "text/plain": [
       "   order_id order_date  order_total_price  product_price order_discounts  \\\n",
       "0     20570 2018-01-01             449.97         249.99             yes   \n",
       "1     20570 2018-01-01             449.97          89.99             yes   \n",
       "2     20556 2018-01-02             249.99         249.99             yes   \n",
       "3     20554 2018-01-02                NaN         229.99              no   \n",
       "4     20573 2018-01-01             249.99         249.99             yes   \n",
       "\n",
       "   product_discount order_status             product_title      product_sku  \\\n",
       "0              0.00    fulfilled      Vertigo™ Semi-Hollow      M80-VHB-BLK   \n",
       "1              0.00    fulfilled       The Tick™ 2.0 Black  M80-TICK-V2-BLK   \n",
       "2              0.00    fulfilled      Vertigo™ Semi-Hollow      M80-VHB-BLK   \n",
       "3            229.99    fulfilled                 The FlyBy      EFX-FLY-BLK   \n",
       "4              0.00    fulfilled  Vertigo™ Electric Guitar      M80-VEG-BLK   \n",
       "\n",
       "   product_quantity                       product_category  weekdays  \\\n",
       "0                 1       Electric Guitar Cases & Gig Bags         1   \n",
       "1                 1  Pedals & Pedalboards Cases & Gig Bags         1   \n",
       "2                 1       Electric Guitar Cases & Gig Bags         2   \n",
       "3                 1          DJ Equipment Cases & Gig Bags         2   \n",
       "4                 1       Electric Guitar Cases & Gig Bags         1   \n",
       "\n",
       "   sch_holidays  \n",
       "0  Non Holidays  \n",
       "1  Non Holidays  \n",
       "2  Non Holidays  \n",
       "3  Non Holidays  \n",
       "4  Non Holidays  "
      ]
     },
     "execution_count": 1,
     "metadata": {},
     "output_type": "execute_result"
    }
   ],
   "source": [
    "%matplotlib inline\n",
    "import pandas as pd\n",
    "import matplotlib.pyplot as plt\n",
    "from math import sqrt\n",
    "from tsa_utils import *\n",
    "df = pd.read_csv('../data/orderproducts_top20.csv', parse_dates=[1], infer_datetime_format=True)\n",
    "df.head()"
   ]
  },
  {
   "cell_type": "code",
   "execution_count": 2,
   "metadata": {
    "ExecuteTime": {
     "end_time": "2021-03-31T03:50:57.430161Z",
     "start_time": "2021-03-31T03:50:57.383731Z"
    }
   },
   "outputs": [],
   "source": [
    "prod_monthly = pd.crosstab(df['order_date'], df['product_sku']).resample('M').sum()\n",
    "prod_monthly = prod_monthly['2018-01':'2021-02']"
   ]
  },
  {
   "cell_type": "code",
   "execution_count": 3,
   "metadata": {
    "ExecuteTime": {
     "end_time": "2021-03-31T03:51:00.878602Z",
     "start_time": "2021-03-31T03:51:00.875588Z"
    }
   },
   "outputs": [],
   "source": [
    "items = prod_monthly.columns"
   ]
  },
  {
   "cell_type": "markdown",
   "metadata": {
    "ExecuteTime": {
     "end_time": "2021-03-29T09:41:53.361986Z",
     "start_time": "2021-03-29T09:41:53.358978Z"
    }
   },
   "source": [
    "#### Test time series on one item"
   ]
  },
  {
   "cell_type": "code",
   "execution_count": 4,
   "metadata": {
    "ExecuteTime": {
     "end_time": "2021-03-31T03:51:11.669387Z",
     "start_time": "2021-03-31T03:51:11.665374Z"
    }
   },
   "outputs": [],
   "source": [
    "data = prod_monthly['2018':'2020']['EFX-FLY-BLK']"
   ]
  },
  {
   "cell_type": "code",
   "execution_count": 5,
   "metadata": {
    "ExecuteTime": {
     "end_time": "2021-03-31T03:51:18.328157Z",
     "start_time": "2021-03-31T03:51:18.309122Z"
    }
   },
   "outputs": [],
   "source": [
    "from statsmodels.tsa.seasonal import seasonal_decompose\n",
    "result = seasonal_decompose(data, model='additive')"
   ]
  },
  {
   "cell_type": "code",
   "execution_count": 6,
   "metadata": {
    "ExecuteTime": {
     "end_time": "2021-03-31T03:51:19.663468Z",
     "start_time": "2021-03-31T03:51:19.197465Z"
    }
   },
   "outputs": [
    {
     "data": {
      "image/png": "[encoded data removed]",
      "text/plain": [
       "<Figure size 864x360 with 4 Axes>"
      ]
     },
     "metadata": {
      "needs_background": "light"
     },
     "output_type": "display_data"
    }
   ],
   "source": [
    "# using subplot function and creating plot one\n",
    "plt.figure(figsize=(12,5))\n",
    "\n",
    "# row 2, column 1, count 1\n",
    "plt.subplot(2, 2, 1)\n",
    "plt.plot(result.observed, 'r')\n",
    "plt.title('Observed')\n",
    "plt.xlabel('Year-Month')\n",
    "plt.ylabel('Count')\n",
    "  \n",
    "# using subplot function and creating plot two\n",
    "# row 2, column 1, count 2\n",
    "plt.subplot(2, 2, 2)\n",
    "plt.plot(result.trend, 'g')\n",
    "plt.title('Trend')\n",
    "plt.xlabel('Year-Month')\n",
    "plt.ylabel('Count')\n",
    "\n",
    "# using subplot function and creating plot two\n",
    "# row 2, column 1, count 2\n",
    "plt.subplot(2, 2, 3)\n",
    "plt.plot(result.seasonal, 'b')\n",
    "plt.title('Seasonal')\n",
    "plt.xlabel('Year-Month')\n",
    "plt.ylabel('Count')\n",
    "\n",
    "# using subplot function and creating plot two\n",
    "# row 2, column 1, count 2\n",
    "plt.subplot(2, 2, 4)\n",
    "plt.plot(result.resid, 'b')\n",
    "plt.title('Residual')\n",
    "plt.xlabel('Year-Month')\n",
    "plt.ylabel('Count')\n",
    "\n",
    "plt.tight_layout()\n",
    "plt.show()"
   ]
  },
  {
   "cell_type": "code",
   "execution_count": 7,
   "metadata": {
    "ExecuteTime": {
     "end_time": "2021-03-29T07:33:44.438042Z",
     "start_time": "2021-03-29T07:33:44.435077Z"
    }
   },
   "outputs": [],
   "source": [
    "### Plotting the AR curve"
   ]
  },
  {
   "cell_type": "markdown",
   "metadata": {},
   "source": [
    "**he AIC measures how well a model fits the data while taking into account the overall complexity of the model. A model that fits the data very well while using lots of features will be assigned a larger AIC score than a model that uses fewer features to achieve the same goodness-of-fit. Therefore, we are interested in finding the model that yields the lowest AIC value."
   ]
  },
  {
   "cell_type": "code",
   "execution_count": 7,
   "metadata": {
    "ExecuteTime": {
     "end_time": "2021-03-31T03:51:25.101454Z",
     "start_time": "2021-03-31T03:51:23.616451Z"
    }
   },
   "outputs": [
    {
     "name": "stdout",
     "output_type": "stream",
     "text": [
      "Performing stepwise search to minimize aic\n",
      " ARIMA(1,1,1)(0,1,1)[12]             : AIC=167.134, Time=0.09 sec\n",
      " ARIMA(0,1,0)(0,1,0)[12]             : AIC=166.319, Time=0.01 sec\n",
      " ARIMA(1,1,0)(1,1,0)[12]             : AIC=165.435, Time=0.04 sec\n",
      " ARIMA(0,1,1)(0,1,1)[12]             : AIC=165.164, Time=0.06 sec\n",
      " ARIMA(0,1,1)(0,1,0)[12]             : AIC=163.954, Time=0.02 sec\n",
      " ARIMA(0,1,1)(1,1,0)[12]             : AIC=165.164, Time=0.04 sec\n",
      " ARIMA(0,1,1)(1,1,1)[12]             : AIC=167.164, Time=0.07 sec\n",
      " ARIMA(1,1,1)(0,1,0)[12]             : AIC=165.938, Time=0.04 sec\n",
      " ARIMA(0,1,2)(0,1,0)[12]             : AIC=165.869, Time=0.04 sec\n",
      " ARIMA(1,1,0)(0,1,0)[12]             : AIC=164.449, Time=0.03 sec\n",
      " ARIMA(1,1,2)(0,1,0)[12]             : AIC=inf, Time=0.08 sec\n",
      " ARIMA(0,1,1)(0,1,0)[12] intercept   : AIC=165.952, Time=0.03 sec\n",
      "\n",
      "Best model:  ARIMA(0,1,1)(0,1,0)[12]          \n",
      "Total fit time: 0.557 seconds\n",
      "aic = 163.95356575099117\n"
     ]
    }
   ],
   "source": [
    "from pmdarima.arima import auto_arima\n",
    "\n",
    "# Select the best model using auto_arima\n",
    "stepwise_model = auto_arima(data, start_p=1, start_q=1,\n",
    "                           max_p=3, max_q=3, m=12,\n",
    "                           start_P=0, seasonal=True,\n",
    "                           d=1, D=1, trace=True,\n",
    "                           error_action='ignore',  \n",
    "                           suppress_warnings=True, \n",
    "                           stepwise=True)\n",
    "print('aic =', stepwise_model.aic())"
   ]
  },
  {
   "cell_type": "markdown",
   "metadata": {},
   "source": [
    "#### Train Test Split\n",
    "Use the best model derived above"
   ]
  },
  {
   "cell_type": "code",
   "execution_count": 14,
   "metadata": {
    "ExecuteTime": {
     "end_time": "2021-03-31T08:07:12.499238Z",
     "start_time": "2021-03-31T08:07:12.462262Z"
    }
   },
   "outputs": [
    {
     "data": {
      "text/plain": [
       "ARIMA(maxiter=50, method='lbfgs', order=(0, 1, 1), out_of_sample_size=0,\n",
       "      scoring='mse', scoring_args={}, seasonal_order=(0, 1, 0, 12),\n",
       "      start_params=None, suppress_warnings=True, trend=None,\n",
       "      with_intercept=False)"
      ]
     },
     "execution_count": 14,
     "metadata": {},
     "output_type": "execute_result"
    }
   ],
   "source": [
    "train = data.loc['2018':'2019']  # 24 months\n",
    "test  = data.loc['2020']  # 12 months\n",
    "\n",
    "stepwise_model.fit(train)"
   ]
  },
  {
   "cell_type": "code",
   "execution_count": 8,
   "metadata": {
    "ExecuteTime": {
     "end_time": "2021-03-31T03:51:34.011787Z",
     "start_time": "2021-03-31T03:51:33.969775Z"
    }
   },
   "outputs": [],
   "source": [
    "future_forecast = stepwise_model.predict(n_periods=12)\n",
    "future_forecast = pd.DataFrame(future_forecast,index = test.index,columns=['Prediction'])\n",
    "\n",
    "# set forecast to 0 if forecast is < 0 and rounding up the numbers from floating to integer\n",
    "future_forecast['Pred_Adj'] = [ 0 if x < 0 else round(x) for x in future_forecast['Prediction']]"
   ]
  },
  {
   "cell_type": "code",
   "execution_count": 9,
   "metadata": {
    "ExecuteTime": {
     "end_time": "2021-03-31T03:51:36.532249Z",
     "start_time": "2021-03-31T03:51:36.283283Z"
    }
   },
   "outputs": [
    {
     "data": {
      "image/png": "[encoded data removed]",
      "text/plain": [
       "<Figure size 1080x360 with 2 Axes>"
      ]
     },
     "metadata": {
      "needs_background": "light"
     },
     "output_type": "display_data"
    }
   ],
   "source": [
    "temp = pd.concat([test,future_forecast], axis=1)\n",
    "plt.figure(figsize=(15,5))\n",
    "\n",
    "plt.subplot(1, 2, 1)  # row 1, column 1, count 1\n",
    "plt.plot(temp)\n",
    "plt.xticks(rotation=90)\n",
    "plt.legend(temp.columns, loc='upper right')\n",
    "\n",
    "plt.subplot(1, 2, 2) # row 1, column 2, count 1\n",
    "plt.plot(pd.concat([data,future_forecast],axis=1))\n",
    "plt.xticks(rotation=90)\n",
    "\n",
    "plt.show()"
   ]
  },
  {
   "cell_type": "code",
   "execution_count": 22,
   "metadata": {
    "ExecuteTime": {
     "end_time": "2021-03-29T07:41:36.606136Z",
     "start_time": "2021-03-29T07:41:36.603167Z"
    }
   },
   "outputs": [],
   "source": [
    "#### Forecasting the last 3 months of the period for all the top 20 items"
   ]
  },
  {
   "cell_type": "code",
   "execution_count": 26,
   "metadata": {
    "ExecuteTime": {
     "end_time": "2021-03-31T09:31:05.598525Z",
     "start_time": "2021-03-31T09:30:35.927487Z"
    }
   },
   "outputs": [
    {
     "name": "stdout",
     "output_type": "stream",
     "text": [
      "     test  predict             item\n",
      "m+1     2        9      EFX-FLY-BLK\n",
      "m+2     2        0      EFX-FLY-BLK\n",
      "m+3     2        2      EFX-FLY-BLK\n",
      "m+1     3        3       M80-2B-BLK\n",
      "m+2     1        0       M80-2B-BLK\n",
      "m+3     1        3       M80-2B-BLK\n",
      "m+1     5        3       M80-2G-BLK\n",
      "m+2     5        0       M80-2G-BLK\n",
      "m+3     4        2       M80-2G-BLK\n",
      "m+1     7        0       M80-AC-BLK\n",
      "m+2     0        0       M80-AC-BLK\n",
      "m+3     0        0       M80-AC-BLK\n",
      "m+1     1        5       M80-AD-BLK\n",
      "m+2     3        6       M80-AD-BLK\n",
      "m+3     1        4       M80-AD-BLK\n",
      "m+1     0        3    M80-BTY-BLK-L\n",
      "m+2     3        0    M80-BTY-BLK-L\n",
      "m+3     1        1    M80-BTY-BLK-L\n",
      "m+1     4       12    M80-BTY-BLK-S\n",
      "m+2     0        0    M80-BTY-BLK-S\n",
      "m+3     2        0    M80-BTY-BLK-S\n",
      "m+1     2        0       M80-EB-BLK\n",
      "m+2     3        0       M80-EB-BLK\n",
      "m+3     1        0       M80-EB-BLK\n",
      "m+1     0        5       M80-EG-BLK\n",
      "m+2     2        0       M80-EG-BLK\n",
      "m+3     0        0       M80-EG-BLK\n",
      "m+1     2        5      M80-SEB-BLK\n",
      "m+2     0        2      M80-SEB-BLK\n",
      "m+3     3        5      M80-SEB-BLK\n",
      "m+1     2        2      M80-SEG-ASH\n",
      "m+2     1        0      M80-SEG-ASH\n",
      "m+3     1        1      M80-SEG-ASH\n",
      "m+1     1        2      M80-SEG-BLK\n",
      "m+2     2        3      M80-SEG-BLK\n",
      "m+3     0        3      M80-SEG-BLK\n",
      "m+1     3       13  M80-TICK-V2-BLK\n",
      "m+2     4        1  M80-TICK-V2-BLK\n",
      "m+3     3        1  M80-TICK-V2-BLK\n",
      "m+1     1        2  M80-TOUR-V2-BLK\n",
      "m+2     1        3  M80-TOUR-V2-BLK\n",
      "m+3     1        0  M80-TOUR-V2-BLK\n",
      "m+1     6        5      M80-VAD-BLK\n",
      "m+2     3        5      M80-VAD-BLK\n",
      "m+3     0        3      M80-VAD-BLK\n",
      "m+1     8        0      M80-VEB-BLK\n",
      "m+2     2        0      M80-VEB-BLK\n",
      "m+3     3        2      M80-VEB-BLK\n",
      "m+1     0        4      M80-VEB-GRY\n",
      "m+2     0        5      M80-VEB-GRY\n",
      "m+3     1        3      M80-VEB-GRY\n",
      "m+1     6        9      M80-VEG-BLK\n",
      "m+2     2        2      M80-VEG-BLK\n",
      "m+3     3        3      M80-VEG-BLK\n",
      "m+1     2        0      M80-VEG-GRY\n",
      "m+2     3        0      M80-VEG-GRY\n",
      "m+3     2        0      M80-VEG-GRY\n",
      "m+1     1        0      M80-VHB-BLK\n",
      "m+2     0        0      M80-VHB-BLK\n",
      "m+3     4        4      M80-VHB-BLK\n"
     ]
    }
   ],
   "source": [
    "# items are the names of the top20 items\n",
    "test_predict = []\n",
    "mse_list = []\n",
    "results =  pd.DataFrame()\n",
    "for item in items:\n",
    "    data = prod_monthly[item]\n",
    "    train = data.iloc[:-3]\n",
    "    test  = data.iloc[-3:]\n",
    "    \n",
    "    # Select the best model using auto_arima\n",
    "    stepwise_model = auto_arima(data[0:36], start_p=1, start_q=1,\n",
    "                               max_p=2, max_q=2, m=12,\n",
    "                               start_P=0, seasonal=True,\n",
    "                               d=1, D=1, trace=False,\n",
    "                               error_action='ignore',  \n",
    "                               suppress_warnings=True, \n",
    "                               stepwise=True,\n",
    "                               parallel=True)\n",
    "    #print('aic =', stepwise_model.aic())\n",
    "    stepwise_model.fit(train)\n",
    "    forecast = stepwise_model.predict(n_periods=3)\n",
    "    adj_forecast = [ 0 if x < 0 else int(round(x)) for x in forecast ]\n",
    "    item_name = [item for x in range(3)]\n",
    "    res = pd.DataFrame(zip(np.array(test), np.array(adj_forecast), item_name), \n",
    "                       index=['m+1','m+2','m+3'], columns=['test', 'predict', 'item'])\n",
    "    results = pd.concat([results,res], axis=0)\n",
    "print(results)"
   ]
  },
  {
   "cell_type": "code",
   "execution_count": 27,
   "metadata": {
    "ExecuteTime": {
     "end_time": "2021-03-31T09:31:26.503579Z",
     "start_time": "2021-03-31T09:31:26.495617Z"
    }
   },
   "outputs": [],
   "source": [
    "results.to_csv('../data/top20predictions_last3months.csv')"
   ]
  },
  {
   "cell_type": "markdown",
   "metadata": {},
   "source": [
    "#### Walk forward validation"
   ]
  },
  {
   "cell_type": "code",
   "execution_count": 38,
   "metadata": {
    "ExecuteTime": {
     "end_time": "2021-03-31T09:55:11.224386Z",
     "start_time": "2021-03-31T09:53:43.908221Z"
    }
   },
   "outputs": [
    {
     "name": "stdout",
     "output_type": "stream",
     "text": [
      "     test  predict             item\n",
      "m+1     2        9      EFX-FLY-BLK\n",
      "m+2     2        0      EFX-FLY-BLK\n",
      "m+3     2        2      EFX-FLY-BLK\n",
      "m+1     3        3       M80-2B-BLK\n",
      "m+2     1        0       M80-2B-BLK\n",
      "m+3     1        3       M80-2B-BLK\n",
      "m+1     5        2       M80-2G-BLK\n",
      "m+2     5        0       M80-2G-BLK\n",
      "m+3     4        6       M80-2G-BLK\n",
      "m+1     7        0       M80-AC-BLK\n",
      "m+2     0        2       M80-AC-BLK\n",
      "m+3     0        0       M80-AC-BLK\n",
      "m+1     1        5       M80-AD-BLK\n",
      "m+2     3        4       M80-AD-BLK\n",
      "m+3     1        2       M80-AD-BLK\n",
      "m+1     0        2    M80-BTY-BLK-L\n",
      "m+2     3        0    M80-BTY-BLK-L\n",
      "m+3     1        3    M80-BTY-BLK-L\n",
      "m+1     4       12    M80-BTY-BLK-S\n",
      "m+2     0        0    M80-BTY-BLK-S\n",
      "m+3     2        0    M80-BTY-BLK-S\n",
      "m+1     2        0       M80-EB-BLK\n",
      "m+2     3        0       M80-EB-BLK\n",
      "m+3     1        3       M80-EB-BLK\n",
      "m+1     0       31       M80-EG-BLK\n",
      "m+2     2        0       M80-EG-BLK\n",
      "m+3     0        0       M80-EG-BLK\n",
      "m+1     2        3      M80-SEB-BLK\n",
      "m+2     0        3      M80-SEB-BLK\n",
      "m+3     3        5      M80-SEB-BLK\n",
      "m+1     2        2      M80-SEG-ASH\n",
      "m+2     1        0      M80-SEG-ASH\n",
      "m+3     1        2      M80-SEG-ASH\n",
      "m+1     1        2      M80-SEG-BLK\n",
      "m+2     2        3      M80-SEG-BLK\n",
      "m+3     0        2      M80-SEG-BLK\n",
      "m+1     3       15  M80-TICK-V2-BLK\n",
      "m+2     4        0  M80-TICK-V2-BLK\n",
      "m+3     3        2  M80-TICK-V2-BLK\n",
      "m+1     1        2  M80-TOUR-V2-BLK\n",
      "m+2     1        2  M80-TOUR-V2-BLK\n",
      "m+3     1        0  M80-TOUR-V2-BLK\n",
      "m+1     6        5      M80-VAD-BLK\n",
      "m+2     3        5      M80-VAD-BLK\n",
      "m+3     0        3      M80-VAD-BLK\n",
      "m+1     8        0      M80-VEB-BLK\n",
      "m+2     2        4      M80-VEB-BLK\n",
      "m+3     3        5      M80-VEB-BLK\n",
      "m+1     0        4      M80-VEB-GRY\n",
      "m+2     0        3      M80-VEB-GRY\n",
      "m+3     1        0      M80-VEB-GRY\n",
      "m+1     6        9      M80-VEG-BLK\n",
      "m+2     2        1      M80-VEG-BLK\n",
      "m+3     3        2      M80-VEG-BLK\n",
      "m+1     2        0      M80-VEG-GRY\n",
      "m+2     3        0      M80-VEG-GRY\n",
      "m+3     2        0      M80-VEG-GRY\n",
      "m+1     1        0      M80-VHB-BLK\n",
      "m+2     0        0      M80-VHB-BLK\n",
      "m+3     4        4      M80-VHB-BLK\n"
     ]
    }
   ],
   "source": [
    "# items are the names of the top20 items\n",
    "test_predict = []\n",
    "mse_list = []\n",
    "results =  pd.DataFrame()\n",
    "for item in items:\n",
    "    data = prod_monthly[item]\n",
    "    train = data.iloc[:-3]\n",
    "    test  = data.iloc[-3:]\n",
    "    \n",
    "    # Select the best model using auto_arima\n",
    "    history = [x for x in train]\n",
    "    forecast = []\n",
    "    for t in range(len(test)):\n",
    "        stepwise_model = auto_arima(history, start_p=1, start_q=1,\n",
    "                           max_p=2, max_q=2, m=12,\n",
    "                           start_P=0, seasonal=True,\n",
    "                           d=1, D=1, trace=False,\n",
    "                           error_action='ignore',  \n",
    "                           suppress_warnings=True, \n",
    "                           stepwise=True)\n",
    "        stepwise_model.fit(history)\n",
    "        yhat = float(stepwise_model.predict()[0])\n",
    "        if yhat < 0:\n",
    "            adj_yhat = 0\n",
    "        else:\n",
    "            adj_yhat = round(yhat)\n",
    "        forecast.append(adj_yhat)\n",
    "        history.append(test[t])\n",
    "    item_name = [item for x in range(3)]\n",
    "    res = pd.DataFrame(zip(np.array(test), np.array(forecast), item_name), \n",
    "                       index=['m+1','m+2','m+3'], columns=['test', 'predict', 'item'])\n",
    "    results = pd.concat([results,res], axis=0)\n",
    "print(results)"
   ]
  },
  {
   "cell_type": "code",
   "execution_count": 32,
   "metadata": {
    "ExecuteTime": {
     "end_time": "2021-03-31T09:49:45.261305Z",
     "start_time": "2021-03-31T09:49:45.252289Z"
    }
   },
   "outputs": [
    {
     "data": {
      "text/plain": [
       "-5.648425019897337"
      ]
     },
     "execution_count": 32,
     "metadata": {},
     "output_type": "execute_result"
    }
   ],
   "source": [
    "stepwise_model.predict()[0]"
   ]
  },
  {
   "cell_type": "code",
   "execution_count": 36,
   "metadata": {
    "ExecuteTime": {
     "end_time": "2021-03-31T09:52:00.621839Z",
     "start_time": "2021-03-31T09:52:00.613845Z"
    }
   },
   "outputs": [
    {
     "data": {
      "text/plain": [
       "8.95384725061757"
      ]
     },
     "execution_count": 36,
     "metadata": {},
     "output_type": "execute_result"
    }
   ],
   "source": [
    "float(yhat)"
   ]
  },
  {
   "cell_type": "code",
   "execution_count": null,
   "metadata": {},
   "outputs": [],
   "source": []
  }
 ],
 "metadata": {
  "anaconda-cloud": {},
  "kernelspec": {
   "display_name": "Python 3.8.1 64-bit ('powlook': conda)",
   "language": "python",
   "name": "python38164bitpowlookconda86803d4abdff44bfa4563fc8b9c6c6ad"
  },
  "language_info": {
   "codemirror_mode": {
    "name": "ipython",
    "version": 3
   },
   "file_extension": ".py",
   "mimetype": "text/x-python",
   "name": "python",
   "nbconvert_exporter": "python",
   "pygments_lexer": "ipython3",
   "version": "3.6.10"
  },
  "varInspector": {
   "cols": {
    "lenName": 16,
    "lenType": 16,
    "lenVar": 40
   },
   "kernels_config": {
    "python": {
     "delete_cmd_postfix": "",
     "delete_cmd_prefix": "del ",
     "library": "var_list.py",
     "varRefreshCmd": "print(var_dic_list())"
    },
    "r": {
     "delete_cmd_postfix": ") ",
     "delete_cmd_prefix": "rm(",
     "library": "var_list.r",
     "varRefreshCmd": "cat(var_dic_list()) "
    }
   },
   "types_to_exclude": [
    "module",
    "function",
    "builtin_function_or_method",
    "instance",
    "_Feature"
   ],
   "window_display": false
  }
 },
 "nbformat": 4,
 "nbformat_minor": 1
}
