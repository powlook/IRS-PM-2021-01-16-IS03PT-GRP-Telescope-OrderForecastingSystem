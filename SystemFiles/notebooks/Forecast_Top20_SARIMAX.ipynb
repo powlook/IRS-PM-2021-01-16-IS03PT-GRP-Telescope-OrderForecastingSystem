{
 "cells": [
  {
   "cell_type": "code",
   "execution_count": 1,
   "metadata": {
    "ExecuteTime": {
     "end_time": "2021-04-07T09:50:30.624397Z",
     "start_time": "2021-04-07T09:50:27.640366Z"
    }
   },
   "outputs": [],
   "source": [
    "# grid search sarima hyperparameters for monthly mean sales \n",
    "import time\n",
    "import pandas as pd\n",
    "from math import sqrt\n",
    "from multiprocessing import cpu_count\n",
    "from warnings import catch_warnings\n",
    "from warnings import filterwarnings\n",
    "from statsmodels.tsa.statespace.sarimax import SARIMAX\n",
    "from sklearn.metrics import mean_squared_error"
   ]
  },
  {
   "cell_type": "code",
   "execution_count": 2,
   "metadata": {
    "ExecuteTime": {
     "end_time": "2021-04-07T09:50:34.621393Z",
     "start_time": "2021-04-07T09:50:34.520363Z"
    }
   },
   "outputs": [],
   "source": [
    "# load dataset\n",
    "df = pd.read_csv('../data-processed/orderproducts_top20.csv', parse_dates=[1], infer_datetime_format=True)\n",
    "prod_monthly = pd.crosstab(df['order_date'], df['product_sku']).resample('M').sum()\n",
    "prod_monthly = prod_monthly['2018-01':'2021-03']\n",
    "items = prod_monthly.columns.values"
   ]
  },
  {
   "cell_type": "markdown",
   "metadata": {},
   "source": [
    "**Use auto_arima to find the best model since it is much faster that statsmodel gridsearch**"
   ]
  },
  {
   "cell_type": "code",
   "execution_count": 3,
   "metadata": {
    "ExecuteTime": {
     "end_time": "2021-04-07T09:50:43.750365Z",
     "start_time": "2021-04-07T09:50:40.562365Z"
    }
   },
   "outputs": [
    {
     "name": "stdout",
     "output_type": "stream",
     "text": [
      "Performing stepwise search to minimize aic\n",
      " ARIMA(1,1,1)(0,1,0)[12]             : AIC=165.938, Time=0.07 sec\n",
      " ARIMA(0,1,0)(0,1,0)[12]             : AIC=166.319, Time=0.02 sec\n",
      " ARIMA(1,1,0)(1,1,0)[12]             : AIC=165.435, Time=0.09 sec\n",
      " ARIMA(0,1,1)(0,1,1)[12]             : AIC=165.164, Time=0.15 sec\n",
      " ARIMA(0,1,1)(0,1,0)[12]             : AIC=163.954, Time=0.03 sec\n",
      " ARIMA(0,1,1)(1,1,0)[12]             : AIC=165.164, Time=0.10 sec\n",
      " ARIMA(0,1,1)(1,1,1)[12]             : AIC=167.164, Time=0.14 sec\n",
      " ARIMA(0,1,2)(0,1,0)[12]             : AIC=165.869, Time=0.08 sec\n",
      " ARIMA(1,1,0)(0,1,0)[12]             : AIC=164.449, Time=0.03 sec\n",
      " ARIMA(1,1,2)(0,1,0)[12]             : AIC=inf, Time=0.18 sec\n",
      " ARIMA(0,1,1)(0,1,0)[12] intercept   : AIC=165.952, Time=0.05 sec\n",
      "\n",
      "Best model:  ARIMA(0,1,1)(0,1,0)[12]          \n",
      "Total fit time: 0.929 seconds\n",
      "aic = 163.95356575099117\n"
     ]
    }
   ],
   "source": [
    "from pmdarima.arima import auto_arima\n",
    "\n",
    "data = prod_monthly['2018':'2020']['EFX-FLY-BLK'].values\n",
    "# Select the best model using auto_arima\n",
    "stepwise_model = auto_arima(data, start_p=1, start_q=1,\n",
    "                           max_p=3, max_q=3,\n",
    "                           start_P=0, start_Q=0,\n",
    "                           d=1, D=1, \n",
    "                           seasonal=True, m=12,\n",
    "                           trace=True,\n",
    "                           error_action='ignore',  \n",
    "                           suppress_warnings=True, \n",
    "                           stepwise=True)\n",
    "print('aic =', stepwise_model.aic())"
   ]
  },
  {
   "cell_type": "markdown",
   "metadata": {},
   "source": [
    "#### Forecast the last 3 month sales for the top 20 items"
   ]
  },
  {
   "cell_type": "code",
   "execution_count": 4,
   "metadata": {
    "ExecuteTime": {
     "end_time": "2021-04-07T09:52:07.960421Z",
     "start_time": "2021-04-07T09:51:08.221419Z"
    }
   },
   "outputs": [
    {
     "name": "stderr",
     "output_type": "stream",
     "text": [
      "C:\\Anaconda3\\envs\\powlook\\lib\\site-packages\\statsmodels\\tsa\\statespace\\sarimax.py:868: UserWarning: Too few observations to estimate starting parameters for seasonal ARMA. All parameters except for variances will be set to zeros.\n",
      "  ' zeros.' % warning_description)\n",
      "C:\\Anaconda3\\envs\\powlook\\lib\\site-packages\\statsmodels\\tsa\\statespace\\sarimax.py:868: UserWarning: Too few observations to estimate starting parameters for seasonal ARMA. All parameters except for variances will be set to zeros.\n",
      "  ' zeros.' % warning_description)\n"
     ]
    },
    {
     "name": "stdout",
     "output_type": "stream",
     "text": [
      "                item  test  predict  rmse\n",
      "m+1      EFX-FLY-BLK     2        0  3.32\n",
      "m+2      EFX-FLY-BLK     2        0    NA\n",
      "m+3      EFX-FLY-BLK     5        0    NA\n",
      "m+1       M80-2B-BLK     1        4  4.51\n",
      "m+2       M80-2B-BLK     1        7    NA\n",
      "m+3       M80-2B-BLK     1        5    NA\n",
      "m+1       M80-2G-BLK     5        3  2.16\n",
      "m+2       M80-2G-BLK     4        7    NA\n",
      "m+3       M80-2G-BLK     5        6    NA\n",
      "m+1       M80-AC-BLK     0        4  2.65\n",
      "m+2       M80-AC-BLK     0        2    NA\n",
      "m+3       M80-AC-BLK     1        2    NA\n",
      "m+1       M80-AD-BLK     3        6     3\n",
      "m+2       M80-AD-BLK     1        4    NA\n",
      "m+3       M80-AD-BLK     0        3    NA\n",
      "m+1    M80-BTY-BLK-L     3        0  1.91\n",
      "m+2    M80-BTY-BLK-L     1        0    NA\n",
      "m+3    M80-BTY-BLK-L     1        0    NA\n",
      "m+1    M80-BTY-BLK-S     0        0  1.29\n",
      "m+2    M80-BTY-BLK-S     2        0    NA\n",
      "m+3    M80-BTY-BLK-S     1        0    NA\n",
      "m+1       M80-EB-BLK     3        0  1.91\n",
      "m+2       M80-EB-BLK     1        2    NA\n",
      "m+3       M80-EB-BLK     1        0    NA\n",
      "m+1       M80-EG-BLK     2        0  2.08\n",
      "m+2       M80-EG-BLK     0        0    NA\n",
      "m+3       M80-EG-BLK     3        0    NA\n",
      "m+1      M80-SEB-BLK     0        1     1\n",
      "m+2      M80-SEB-BLK     3        2    NA\n",
      "m+3      M80-SEB-BLK     0        1    NA\n",
      "m+1      M80-SEG-ASH     1        1  2.08\n",
      "m+2      M80-SEG-ASH     1        4    NA\n",
      "m+3      M80-SEG-ASH     1        3    NA\n",
      "m+1      M80-SEG-BLK     2        4  3.11\n",
      "m+2      M80-SEG-BLK     0        5    NA\n",
      "m+3      M80-SEG-BLK     2        2    NA\n",
      "m+1  M80-TICK-V2-BLK     4        0  3.11\n",
      "m+2  M80-TICK-V2-BLK     3        0    NA\n",
      "m+3  M80-TICK-V2-BLK     2        0    NA\n",
      "m+1  M80-TOUR-V2-BLK     1        6  3.11\n",
      "m+2  M80-TOUR-V2-BLK     1        3    NA\n",
      "m+3  M80-TOUR-V2-BLK     2        2    NA\n",
      "m+1      M80-VAD-BLK     3        6  4.08\n",
      "m+2      M80-VAD-BLK     0        5    NA\n",
      "m+3      M80-VAD-BLK     3        7    NA\n",
      "m+1      M80-VEB-BLK     2        6   5.8\n",
      "m+2      M80-VEB-BLK     3        9    NA\n",
      "m+3      M80-VEB-BLK     3       10    NA\n",
      "m+1      M80-VEB-GRY     0        4  2.94\n",
      "m+2      M80-VEB-GRY     1        2    NA\n",
      "m+3      M80-VEB-GRY     0        3    NA\n",
      "m+1      M80-VEG-BLK     2       10  8.04\n",
      "m+2      M80-VEG-BLK     3       12    NA\n",
      "m+3      M80-VEG-BLK     2        9    NA\n",
      "m+1      M80-VEG-GRY     3        2  0.58\n",
      "m+2      M80-VEG-GRY     2        2    NA\n",
      "m+3      M80-VEG-GRY     2        2    NA\n",
      "m+1      M80-VHB-BLK     0        3     3\n",
      "m+2      M80-VHB-BLK     4        7    NA\n",
      "m+3      M80-VHB-BLK     0        3    NA\n"
     ]
    }
   ],
   "source": [
    "prod_monthly = pd.crosstab(df['order_date'], df['product_sku']).resample('M').sum()\n",
    "prod_monthly = prod_monthly['2018-01':'2021-03']\n",
    "items = prod_monthly.columns.values\n",
    "\n",
    "# items are the names of the top20 items\n",
    "test_predict = []\n",
    "results =  pd.DataFrame()\n",
    "trend = 'c'\n",
    "\n",
    "for item in items:\n",
    "    mse_list = []\n",
    "    params = []\n",
    "    data = prod_monthly[item]\n",
    "    train = data.iloc[:-3]\n",
    "    test  = data.iloc[-3:]\n",
    "    \n",
    "    stepwise_model = auto_arima(train, start_p=1, start_q=1,\n",
    "                           max_p=2, max_q=2, m=12,\n",
    "                           start_P=0, seasonal=True,\n",
    "                           d=1, D=1, trace=False,\n",
    "                           error_action='ignore',  \n",
    "                           suppress_warnings=True, \n",
    "                           stepwise=True)\n",
    "    \n",
    "    order, sorder = stepwise_model.order, stepwise_model.seasonal_order\n",
    "    \n",
    "    model = SARIMAX(train, order=order, seasonal_order=sorder, \n",
    "                            trend=trend, enforce_stationarity=False, enforce_invertibility=False)\n",
    "    model_fit = model.fit(disp=False)\n",
    "    forecast = model_fit.predict(len(train), len(train)+3)\n",
    "    adj_forecast = [ 0 if x < 0 else int(round(x)) for x in forecast ]\n",
    "    item_name = [item for x in range(3)]\n",
    "    params.append([order, sorder, trend])\n",
    "    rmse = round(np.sqrt(mean_squared_error(test, adj_forecast[0:3])),2)\n",
    "    res = pd.DataFrame(zip(item_name, np.array(test), np.array(adj_forecast)), \n",
    "                       index=['m+1','m+2','m+3'], columns=['item', 'test', 'predict'])\n",
    "    res['rmse'] = 'NA'\n",
    "    res.loc['m+1','rmse'] = rmse\n",
    "    results = pd.concat([results,res], axis=0)\n",
    "print(results)"
   ]
  },
  {
   "cell_type": "code",
   "execution_count": 5,
   "metadata": {
    "ExecuteTime": {
     "end_time": "2021-04-07T09:53:56.473866Z",
     "start_time": "2021-04-07T09:53:56.456862Z"
    }
   },
   "outputs": [],
   "source": [
    "results.to_csv('../data-processed/top20forecasts_SARIMA_01to03.csv')"
   ]
  },
  {
   "cell_type": "code",
   "execution_count": null,
   "metadata": {},
   "outputs": [],
   "source": []
  }
 ],
 "metadata": {
  "kernelspec": {
   "display_name": "Python 3.8.1 64-bit ('powlook': conda)",
   "language": "python",
   "name": "python38164bitpowlookconda86803d4abdff44bfa4563fc8b9c6c6ad"
  },
  "language_info": {
   "codemirror_mode": {
    "name": "ipython",
    "version": 3
   },
   "file_extension": ".py",
   "mimetype": "text/x-python",
   "name": "python",
   "nbconvert_exporter": "python",
   "pygments_lexer": "ipython3",
   "version": "3.6.10"
  },
  "varInspector": {
   "cols": {
    "lenName": 16,
    "lenType": 16,
    "lenVar": 40
   },
   "kernels_config": {
    "python": {
     "delete_cmd_postfix": "",
     "delete_cmd_prefix": "del ",
     "library": "var_list.py",
     "varRefreshCmd": "print(var_dic_list())"
    },
    "r": {
     "delete_cmd_postfix": ") ",
     "delete_cmd_prefix": "rm(",
     "library": "var_list.r",
     "varRefreshCmd": "cat(var_dic_list()) "
    }
   },
   "types_to_exclude": [
    "module",
    "function",
    "builtin_function_or_method",
    "instance",
    "_Feature"
   ],
   "window_display": false
  }
 },
 "nbformat": 4,
 "nbformat_minor": 4
}
