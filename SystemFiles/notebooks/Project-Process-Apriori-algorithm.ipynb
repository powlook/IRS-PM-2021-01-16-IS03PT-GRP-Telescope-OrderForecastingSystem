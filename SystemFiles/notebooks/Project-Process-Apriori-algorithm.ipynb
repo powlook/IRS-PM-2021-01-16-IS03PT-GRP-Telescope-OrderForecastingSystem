{
 "cells": [
  {
   "cell_type": "code",
   "execution_count": 1,
   "metadata": {},
   "outputs": [],
   "source": [
    "%run ../src/apriori-lib.py\n",
    "%run ../src/apriori-testing-v8.py"
   ]
  },
  {
   "cell_type": "code",
   "execution_count": 2,
   "metadata": {},
   "outputs": [],
   "source": [
    "# -*- coding: utf-8 -*-\n",
    "\n",
    "import os\n",
    "import numpy as np\n",
    "import pandas as pd\n",
    "from random import sample \n",
    "import matplotlib.pyplot as plt"
   ]
  },
  {
   "cell_type": "code",
   "execution_count": 3,
   "metadata": {},
   "outputs": [
    {
     "name": "stdout",
     "output_type": "stream",
     "text": [
      "119\n"
     ]
    }
   ],
   "source": [
    "# load the pagecategory view events\n",
    "trans = pd.read_csv('../data/order_after_preprocess.csv') \n",
    "# trans.columns = ['user','item']\n",
    "# print(trans.item.nunique()) # show the number of vroots\n",
    "trans.head()\n",
    "\n",
    "trans['line_items_sku'] = trans['line_items.sku'].apply(str)\n",
    "allitems = np.unique(trans.line_items_sku); print (len(allitems)) # get the distinct items title\n"
   ]
  },
  {
   "cell_type": "code",
   "execution_count": 4,
   "metadata": {},
   "outputs": [
    {
     "name": "stdout",
     "output_type": "stream",
     "text": [
      "Series([], Name: line_items.sku, dtype: object)\n"
     ]
    },
    {
     "data": {
      "text/plain": [
       "customer.id\n",
       "6.552711e+09                           [CVL-DCW-BLK, M80-SAD-ASH]\n",
       "6.552712e+09    [PFX-PB-M-BLK-BDL, PFX-PB-M-SLV-BDL, PFX-PB-M-...\n",
       "6.552716e+09                         [M80-CY22-BLK, PFX-PB-M-SLV]\n",
       "6.552716e+09    [M80-VEG-BLK, M80-VHB-BLK, M80-VEG-GRY, M80-VH...\n",
       "6.552716e+09    [M80-EG-BLK, M80-AC-BLK, M80-VHB-BLK, M80-SEB-...\n",
       "                                      ...                        \n",
       "5.053273e+12                                         [M80-2B-BLK]\n",
       "5.053724e+12                                    [M80-FLY-ULT-BLK]\n",
       "5.054049e+12                                    [M80-TOUR-V2-BLK]\n",
       "5.054276e+12                                      [M80-BTY-ASH-S]\n",
       "5.054629e+12                                    [M80-FLY-ULT-BLK]\n",
       "Name: line_items.sku, Length: 3805, dtype: object"
      ]
     },
     "execution_count": 4,
     "metadata": {},
     "output_type": "execute_result"
    }
   ],
   "source": [
    "baskets = trans.groupby('customer.id')['line_items.sku'].apply(list)  # convert transactions into baskets (a series of lists)\n",
    "print(baskets[0:30])\n",
    "baskets"
   ]
  },
  {
   "cell_type": "code",
   "execution_count": 5,
   "metadata": {},
   "outputs": [
    {
     "data": {
      "text/plain": [
       "customer.id\n",
       "6.552712e+09    [PFX-PB-M-BLK-BDL, PFX-PB-M-SLV-BDL, PFX-PB-M-...\n",
       "6.552716e+09    [M80-VEG-BLK, M80-VHB-BLK, M80-VEG-GRY, M80-VH...\n",
       "6.552716e+09    [M80-EG-BLK, M80-AC-BLK, M80-VHB-BLK, M80-SEB-...\n",
       "6.552717e+09    [M80-2B-BLK, M80-VHB-BLK, M80-VEG-BLK, M80-VHB...\n",
       "6.552717e+09    [M80-SEG-BLK, M80-TICK-V2-GRY, M80-CY24-ASH, M...\n",
       "                                      ...                        \n",
       "3.484257e+12      [PFX-PB-LP-BLK, PFX-PB-ACC-KIT, PFX-PB-ACC-KIT]\n",
       "3.519124e+12         [M80-TICK-V2-BLK, M80-AD-BLK, PFX-PB-LT-SLV]\n",
       "3.531554e+12      [M80-BTY-BLK-L, M80-FLY-ULT-BLK, M80-BTY-BLK-S]\n",
       "3.554415e+12       [M80-FLY-ULT-BLK, M80-2A-BLK, M80-TICK-V2-BLK]\n",
       "5.052595e+12        [PFX-PB-LT-BLK, M80-TICK-V2-BLK, M80-VHB-BLK]\n",
       "Name: line_items.sku, Length: 360, dtype: object"
      ]
     },
     "execution_count": 5,
     "metadata": {},
     "output_type": "execute_result"
    }
   ],
   "source": [
    "min_item_in_baskets = 1\n",
    "indexes = list(baskets.index)\n",
    "for i in indexes:    \n",
    "    if (len(baskets[i]) < min_item_in_baskets):\n",
    "        baskets = baskets.drop(labels=i)\n",
    "        # print(len(baskets[i]), baskets[i], i)\n",
    "baskets"
   ]
  },
  {
   "cell_type": "code",
   "execution_count": 6,
   "metadata": {},
   "outputs": [
    {
     "name": "stdout",
     "output_type": "stream",
     "text": [
      "['M80-VEG-BLK', 'M80-TICK-V2-BLK', 'M80-EG-BLK', 'M80-VHB-BLK', 'EFX-FLY-BLK', 'M80-2G-BLK', 'M80-VEB-BLK', 'M80-TOUR-V2-BLK', 'M80-SEG-BLK', 'M80-CLUB-V2-BLK', 'M80-EB-BLK', 'M80-BTY-BLK-L', 'M80-SEB-BLK', 'M80-SEG-ASH', 'M80-VAD-BLK', 'M80-AD-BLK', 'M80-2B-BLK', 'M80-BTY-BLK-S', 'M80-VEB-GRY', 'M80-AC-BLK']\n"
     ]
    },
    {
     "data": {
      "image/png": "[encoded data removed]",
      "text/plain": [
       "<Figure size 432x288 with 1 Axes>"
      ]
     },
     "metadata": {
      "needs_background": "light"
     },
     "output_type": "display_data"
    }
   ],
   "source": [
    "# do some simple data visualisation/data exploration\n",
    "itemfreqcnts = itemcounts(baskets) # count item frequencies\n",
    "sorted(itemfreqcnts.items(), key=lambda kv: kv[1], reverse=True) # reverse sort by frequency\n",
    "\n",
    "# display as histogram\n",
    "rankeditems = [k for k,v in sorted(itemfreqcnts.items(), key=lambda kv: kv[1], reverse=True)]\n",
    "frequencies = [v for k,v in sorted(itemfreqcnts.items(), key=lambda kv: kv[1], reverse=True)]\n",
    "topN=20\n",
    "plt.barh(rankeditems[0:topN], frequencies[0:topN], align='center', alpha=0.5)\n",
    "print(rankeditems[0:topN])"
   ]
  },
  {
   "cell_type": "code",
   "execution_count": null,
   "metadata": {},
   "outputs": [
    {
     "name": "stdout",
     "output_type": "stream",
     "text": [
      "0\n",
      "8\n"
     ]
    }
   ],
   "source": [
    "# build a set of association rules, experiment using different support and confidence parameters\n",
    "freqItemSet, rules = apriori(baskets, minSup=0.2, minConf=0.2); print(len(rules)) #\n",
    "freqItemSet, rules = apriori(baskets, minSup=0.1, minConf=0.1); print(len(rules)) #\n",
    "freqItemSet, rules = apriori(baskets, minSup=0.01, minConf=0.1); print(len(rules)) # "
   ]
  },
  {
   "cell_type": "code",
   "execution_count": null,
   "metadata": {},
   "outputs": [],
   "source": [
    "# examine the top rules and determine the number of unique items that the rules can recommend (target)\n",
    "# print(rules[0:10])\n",
    "showrules(rules, N=50)\n",
    "ruleRHSitems = RHSitems(rules); print(len(ruleRHSitems))\n",
    "ruleRHSitems # show each unqiue targeted item and number of rules that recommend that item"
   ]
  },
  {
   "cell_type": "code",
   "execution_count": null,
   "metadata": {},
   "outputs": [],
   "source": [
    "# to test the rules we first divide the baskets into training and test sets and then rebuild the ruleset\n",
    "testsize = int(len(baskets)*0.1); testsize # set the size of the test set\n",
    "testids  = sample(list(baskets.index),testsize)\n",
    "trainids = list(set(baskets.index) - set(testids))\n",
    "trainbaskets = baskets[trainids]\n",
    "testbaskets  = baskets[testids]\n",
    "\n",
    "# rebuild the ruleset using the training baskest only\n",
    "freqItemSet, rules = apriori(trainbaskets, minSup=0.01, minConf=0.1); len(rules) "
   ]
  },
  {
   "cell_type": "code",
   "execution_count": null,
   "metadata": {},
   "outputs": [],
   "source": [
    "# make recommendations for one basket (e.g. for one user at basket checkout time)\n",
    "testbasket = testbaskets.iloc[1]; print(testbasket)\n",
    "execrules_anymatch(testbasket, rules) # allows any subset of the testbasket to match a rule LHS"
   ]
  },
  {
   "cell_type": "code",
   "execution_count": null,
   "metadata": {},
   "outputs": [],
   "source": [
    "_ = rulehits_holdout_lift(testbaskets, rules, allitems, topN=3, tpb=5)"
   ]
  },
  {
   "cell_type": "code",
   "execution_count": null,
   "metadata": {},
   "outputs": [],
   "source": [
    "_ = rulehits_holdout_lift(testbaskets, rules, allitems, topN=5, tpb=5)"
   ]
  },
  {
   "cell_type": "code",
   "execution_count": null,
   "metadata": {},
   "outputs": [],
   "source": [
    "_ = rulehits_holdout_lift(testbaskets, rules, allitems, topN=7, tpb=5)"
   ]
  },
  {
   "cell_type": "code",
   "execution_count": null,
   "metadata": {},
   "outputs": [],
   "source": [
    "_ = rulehits_holdout_lift(testbaskets, rules, allitems, topN=3, tpb=7)"
   ]
  },
  {
   "cell_type": "code",
   "execution_count": null,
   "metadata": {},
   "outputs": [],
   "source": [
    "_ = rulehits_holdout_lift(testbaskets, rules, allitems, topN=3, tpb=5)"
   ]
  },
  {
   "cell_type": "code",
   "execution_count": null,
   "metadata": {},
   "outputs": [],
   "source": []
  }
 ],
 "metadata": {
  "kernelspec": {
   "display_name": "Python 3",
   "language": "python",
   "name": "python3"
  },
  "language_info": {
   "codemirror_mode": {
    "name": "ipython",
    "version": 3
   },
   "file_extension": ".py",
   "mimetype": "text/x-python",
   "name": "python",
   "nbconvert_exporter": "python",
   "pygments_lexer": "ipython3",
   "version": "3.7.5"
  }
 },
 "nbformat": 4,
 "nbformat_minor": 2
}
