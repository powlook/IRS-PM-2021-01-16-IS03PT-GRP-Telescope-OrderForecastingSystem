{
 "cells": [
  {
   "cell_type": "code",
   "execution_count": 1,
   "id": "nearby-hopkins",
   "metadata": {
    "ExecuteTime": {
     "end_time": "2021-04-04T06:35:49.545995Z",
     "start_time": "2021-04-04T06:35:45.761027Z"
    }
   },
   "outputs": [
    {
     "name": "stderr",
     "output_type": "stream",
     "text": [
      "Using TensorFlow backend.\n"
     ]
    }
   ],
   "source": [
    "# univariate lstm example\n",
    "# univariate stacked lstm example\n",
    "# univariate cnn lstm example\n",
    "import time\n",
    "import pandas as pd\n",
    "import numpy as np\n",
    "from keras.models import Sequential\n",
    "from keras.layers import LSTM\n",
    "from keras.layers import Dense\n",
    "from keras.layers import Flatten\n",
    "from keras.layers import TimeDistributed\n",
    "from keras.layers.convolutional import Conv1D\n",
    "from keras.layers.convolutional import MaxPooling1D"
   ]
  },
  {
   "cell_type": "code",
   "execution_count": 2,
   "id": "quiet-split",
   "metadata": {
    "ExecuteTime": {
     "end_time": "2021-04-04T06:37:50.841505Z",
     "start_time": "2021-04-04T06:37:50.836468Z"
    }
   },
   "outputs": [],
   "source": [
    "import numpy as np\n",
    " \n",
    "# split a univariate sequence into samples\n",
    "def split_sequence(sequence, n_steps):\n",
    "    X, y = list(), list()\n",
    "    for i in range(len(sequence)):\n",
    "        # find the end of this pattern\n",
    "        end_ix = i + n_steps\n",
    "        # check if we are beyond the sequence\n",
    "        if end_ix > len(sequence)-1:\n",
    "            break\n",
    "        # gather input and output parts of the pattern\n",
    "        seq_x, seq_y = sequence[i:end_ix], sequence[end_ix]\n",
    "        X.append(seq_x)\n",
    "        y.append(seq_y)\n",
    "    return np.array(X), np.array(y)"
   ]
  },
  {
   "cell_type": "code",
   "execution_count": 3,
   "id": "billion-penalty",
   "metadata": {
    "ExecuteTime": {
     "end_time": "2021-04-04T06:37:59.350995Z",
     "start_time": "2021-04-04T06:37:59.263779Z"
    }
   },
   "outputs": [],
   "source": [
    "df = pd.read_csv('../data-processed/orderproducts_top20.csv', parse_dates=[1], infer_datetime_format=True)\n",
    "prod_monthly = pd.crosstab(df['order_date'], df['product_sku']).resample('M').sum()\n",
    "prod_monthly = prod_monthly['2018-01':'2021-03']\n",
    "#data = prod_monthly['2018':'2020']['EFX-FLY-BLK']\n",
    "#data = prod_monthly['2018':'2020']['M80-AD-BLK']\n",
    "#raw_seq = np.array(data)\n",
    "items = prod_monthly.columns.values"
   ]
  },
  {
   "cell_type": "code",
   "execution_count": 4,
   "id": "dress-castle",
   "metadata": {
    "ExecuteTime": {
     "end_time": "2021-04-04T06:38:04.016726Z",
     "start_time": "2021-04-04T06:38:04.000721Z"
    }
   },
   "outputs": [
    {
     "data": {
      "text/plain": [
       "array(['EFX-FLY-BLK', 'M80-2B-BLK', 'M80-2G-BLK', 'M80-AC-BLK',\n",
       "       'M80-AD-BLK', 'M80-BTY-BLK-L', 'M80-BTY-BLK-S', 'M80-EB-BLK',\n",
       "       'M80-EG-BLK', 'M80-SEB-BLK', 'M80-SEG-ASH', 'M80-SEG-BLK',\n",
       "       'M80-TICK-V2-BLK', 'M80-TOUR-V2-BLK', 'M80-VAD-BLK', 'M80-VEB-BLK',\n",
       "       'M80-VEB-GRY', 'M80-VEG-BLK', 'M80-VEG-GRY', 'M80-VHB-BLK'],\n",
       "      dtype=object)"
      ]
     },
     "execution_count": 4,
     "metadata": {},
     "output_type": "execute_result"
    }
   ],
   "source": [
    "items"
   ]
  },
  {
   "cell_type": "markdown",
   "id": "tested-roommate",
   "metadata": {},
   "source": [
    "### CNN-LSTM"
   ]
  },
  {
   "cell_type": "code",
   "execution_count": 5,
   "id": "understood-hydrogen",
   "metadata": {
    "ExecuteTime": {
     "end_time": "2021-04-04T06:38:06.785627Z",
     "start_time": "2021-04-04T06:38:06.777627Z"
    }
   },
   "outputs": [],
   "source": [
    "def cnn_lstm(raw_seq):\n",
    "    n_steps = 4\n",
    "    # split into samples\n",
    "    X, y = split_sequence(raw_seq, n_steps)\n",
    "    # reshape from [samples, timesteps] into [samples, subsequences, timesteps, features]\n",
    "    n_features = 1\n",
    "    n_seq = 2\n",
    "    n_steps = 2\n",
    "    X = X.reshape((X.shape[0], n_seq, n_steps, n_features))\n",
    "\n",
    "    # define model\n",
    "    model = Sequential()\n",
    "    model.add(TimeDistributed(Conv1D(filters=64, kernel_size=1, activation='relu'), input_shape=(None, n_steps, n_features)))\n",
    "    model.add(TimeDistributed(MaxPooling1D(pool_size=2)))\n",
    "    model.add(TimeDistributed(Flatten()))\n",
    "    model.add(LSTM(50, activation='relu'))\n",
    "    model.add(Dense(1))\n",
    "    model.compile(optimizer='adam', loss='mse')\n",
    "    # fit model\n",
    "    model.fit(X, y, epochs=2000, verbose=0)\n",
    "    \n",
    "    return model"
   ]
  },
  {
   "cell_type": "code",
   "execution_count": 6,
   "id": "alive-moses",
   "metadata": {
    "ExecuteTime": {
     "end_time": "2021-04-04T06:49:51.351139Z",
     "start_time": "2021-04-04T06:38:13.385952Z"
    }
   },
   "outputs": [
    {
     "name": "stdout",
     "output_type": "stream",
     "text": [
      "WARNING:tensorflow:From C:\\Anaconda3\\lib\\site-packages\\keras\\backend\\tensorflow_backend.py:74: The name tf.get_default_graph is deprecated. Please use tf.compat.v1.get_default_graph instead.\n",
      "\n",
      "WARNING:tensorflow:From C:\\Anaconda3\\lib\\site-packages\\keras\\backend\\tensorflow_backend.py:517: The name tf.placeholder is deprecated. Please use tf.compat.v1.placeholder instead.\n",
      "\n",
      "WARNING:tensorflow:From C:\\Anaconda3\\lib\\site-packages\\keras\\backend\\tensorflow_backend.py:4138: The name tf.random_uniform is deprecated. Please use tf.random.uniform instead.\n",
      "\n",
      "WARNING:tensorflow:From C:\\Anaconda3\\lib\\site-packages\\keras\\backend\\tensorflow_backend.py:3976: The name tf.nn.max_pool is deprecated. Please use tf.nn.max_pool2d instead.\n",
      "\n",
      "WARNING:tensorflow:From C:\\Anaconda3\\lib\\site-packages\\keras\\optimizers.py:790: The name tf.train.Optimizer is deprecated. Please use tf.compat.v1.train.Optimizer instead.\n",
      "\n",
      "WARNING:tensorflow:From C:\\Anaconda3\\lib\\site-packages\\tensorflow_core\\python\\ops\\math_grad.py:1424: where (from tensorflow.python.ops.array_ops) is deprecated and will be removed in a future version.\n",
      "Instructions for updating:\n",
      "Use tf.where in 2.0, which has the same broadcast rule as np.where\n",
      "WARNING:tensorflow:From C:\\Anaconda3\\lib\\site-packages\\keras\\backend\\tensorflow_backend.py:986: The name tf.assign_add is deprecated. Please use tf.compat.v1.assign_add instead.\n",
      "\n",
      "WARNING:tensorflow:From C:\\Anaconda3\\lib\\site-packages\\keras\\backend\\tensorflow_backend.py:973: The name tf.assign is deprecated. Please use tf.compat.v1.assign instead.\n",
      "\n",
      "WARNING:tensorflow:From C:\\Anaconda3\\lib\\site-packages\\keras\\backend\\tensorflow_backend.py:2741: The name tf.Session is deprecated. Please use tf.compat.v1.Session instead.\n",
      "\n",
      "WARNING:tensorflow:From C:\\Anaconda3\\lib\\site-packages\\keras\\backend\\tensorflow_backend.py:174: The name tf.get_default_session is deprecated. Please use tf.compat.v1.get_default_session instead.\n",
      "\n",
      "WARNING:tensorflow:From C:\\Anaconda3\\lib\\site-packages\\keras\\backend\\tensorflow_backend.py:181: The name tf.ConfigProto is deprecated. Please use tf.compat.v1.ConfigProto instead.\n",
      "\n",
      "WARNING:tensorflow:From C:\\Anaconda3\\lib\\site-packages\\keras\\backend\\tensorflow_backend.py:190: The name tf.global_variables is deprecated. Please use tf.compat.v1.global_variables instead.\n",
      "\n",
      "WARNING:tensorflow:From C:\\Anaconda3\\lib\\site-packages\\keras\\backend\\tensorflow_backend.py:199: The name tf.is_variable_initialized is deprecated. Please use tf.compat.v1.is_variable_initialized instead.\n",
      "\n",
      "WARNING:tensorflow:From C:\\Anaconda3\\lib\\site-packages\\keras\\backend\\tensorflow_backend.py:206: The name tf.variables_initializer is deprecated. Please use tf.compat.v1.variables_initializer instead.\n",
      "\n",
      "     test  predict             item\n",
      "m+1     2        2      EFX-FLY-BLK\n",
      "m+2     2        2      EFX-FLY-BLK\n",
      "m+3     5        3      EFX-FLY-BLK\n",
      "m+1     1        1       M80-2B-BLK\n",
      "m+2     1        1       M80-2B-BLK\n",
      "m+3     1        1       M80-2B-BLK\n",
      "m+1     5        5       M80-2G-BLK\n",
      "m+2     4        4       M80-2G-BLK\n",
      "m+3     5        4       M80-2G-BLK\n",
      "m+1     0        0       M80-AC-BLK\n",
      "m+2     0        0       M80-AC-BLK\n",
      "m+3     1        1       M80-AC-BLK\n",
      "m+1     3        3       M80-AD-BLK\n",
      "m+2     1        2       M80-AD-BLK\n",
      "m+3     0        1       M80-AD-BLK\n",
      "m+1     3        3    M80-BTY-BLK-L\n",
      "m+2     1        1    M80-BTY-BLK-L\n",
      "m+3     1        1    M80-BTY-BLK-L\n",
      "m+1     0        1    M80-BTY-BLK-S\n",
      "m+2     2        2    M80-BTY-BLK-S\n",
      "m+3     1        3    M80-BTY-BLK-S\n",
      "m+1     3        2       M80-EB-BLK\n",
      "m+2     1        1       M80-EB-BLK\n",
      "m+3     1        2       M80-EB-BLK\n",
      "m+1     2        2       M80-EG-BLK\n",
      "m+2     0        2       M80-EG-BLK\n",
      "m+3     3        2       M80-EG-BLK\n",
      "m+1     0        0      M80-SEB-BLK\n",
      "m+2     3        1      M80-SEB-BLK\n",
      "m+3     0        0      M80-SEB-BLK\n",
      "m+1     1        1      M80-SEG-ASH\n",
      "m+2     1        1      M80-SEG-ASH\n",
      "m+3     1        1      M80-SEG-ASH\n",
      "m+1     2        1      M80-SEG-BLK\n",
      "m+2     0        0      M80-SEG-BLK\n",
      "m+3     2        1      M80-SEG-BLK\n",
      "m+1     4        4  M80-TICK-V2-BLK\n",
      "m+2     3        3  M80-TICK-V2-BLK\n",
      "m+3     2        1  M80-TICK-V2-BLK\n",
      "m+1     1        1  M80-TOUR-V2-BLK\n",
      "m+2     1        1  M80-TOUR-V2-BLK\n",
      "m+3     2        2  M80-TOUR-V2-BLK\n",
      "m+1     3        2      M80-VAD-BLK\n",
      "m+2     0        1      M80-VAD-BLK\n",
      "m+3     3        3      M80-VAD-BLK\n",
      "m+1     2        2      M80-VEB-BLK\n",
      "m+2     3        2      M80-VEB-BLK\n",
      "m+3     3        2      M80-VEB-BLK\n",
      "m+1     0        0      M80-VEB-GRY\n",
      "m+2     1        1      M80-VEB-GRY\n",
      "m+3     0        1      M80-VEB-GRY\n",
      "m+1     2        3      M80-VEG-BLK\n",
      "m+2     3        3      M80-VEG-BLK\n",
      "m+3     2        4      M80-VEG-BLK\n",
      "m+1     3        3      M80-VEG-GRY\n",
      "m+2     2        3      M80-VEG-GRY\n",
      "m+3     2        4      M80-VEG-GRY\n",
      "m+1     0        3      M80-VHB-BLK\n",
      "m+2     4        3      M80-VHB-BLK\n",
      "m+3     0        0      M80-VHB-BLK\n",
      "time taken : 697.9 secs\n"
     ]
    }
   ],
   "source": [
    "start_time = time.time()\n",
    "results = pd.DataFrame()\n",
    "for item in items:\n",
    "    raw_seq = prod_monthly[item]\n",
    "    model   = cnn_lstm(raw_seq)\n",
    "    data    = raw_seq[-7:]\n",
    "    \n",
    "    preds, y_test = [], []\n",
    "    for i in range(3):\n",
    "        X_input = np.array(data[i:i+4])\n",
    "        X_input = X_input.reshape((1, 2, 2, 1))\n",
    "        pred = float(model.predict(X_input))\n",
    "        adj_pred = 0 if pred < 0 else round(pred)\n",
    "        preds.append(adj_pred)\n",
    "        y_test.append(data[i+4])\n",
    "    item_name = [item for x in range(3)]\n",
    "    res = pd.DataFrame(zip(np.array(y_test), np.array(preds), item_name), \n",
    "                   index=['m+1','m+2','m+3'], columns=['test', 'predict', 'item'])\n",
    "    results = pd.concat([results,res], axis=0)\n",
    "print(results)\n",
    "end_time = time.time()\n",
    "print('time taken :', round(end_time-start_time,1),'secs')"
   ]
  },
  {
   "cell_type": "code",
   "execution_count": 7,
   "id": "packed-marking",
   "metadata": {
    "ExecuteTime": {
     "end_time": "2021-04-04T06:56:37.501929Z",
     "start_time": "2021-04-04T06:56:37.492963Z"
    }
   },
   "outputs": [],
   "source": [
    "results.to_csv('../data-processed/top20predictions_LSTM_01to03.csv')"
   ]
  },
  {
   "cell_type": "code",
   "execution_count": null,
   "id": "three-dating",
   "metadata": {},
   "outputs": [],
   "source": []
  }
 ],
 "metadata": {
  "kernelspec": {
   "display_name": "Python 3.7.4 64-bit ('base': conda)",
   "language": "python",
   "name": "python37464bitbasecondac7c525efd837426e925e1862e4ad2101"
  },
  "varInspector": {
   "cols": {
    "lenName": 16,
    "lenType": 16,
    "lenVar": 40
   },
   "kernels_config": {
    "python": {
     "delete_cmd_postfix": "",
     "delete_cmd_prefix": "del ",
     "library": "var_list.py",
     "varRefreshCmd": "print(var_dic_list())"
    },
    "r": {
     "delete_cmd_postfix": ") ",
     "delete_cmd_prefix": "rm(",
     "library": "var_list.r",
     "varRefreshCmd": "cat(var_dic_list()) "
    }
   },
   "types_to_exclude": [
    "module",
    "function",
    "builtin_function_or_method",
    "instance",
    "_Feature"
   ],
   "window_display": false
  }
 },
 "nbformat": 4,
 "nbformat_minor": 5
}
