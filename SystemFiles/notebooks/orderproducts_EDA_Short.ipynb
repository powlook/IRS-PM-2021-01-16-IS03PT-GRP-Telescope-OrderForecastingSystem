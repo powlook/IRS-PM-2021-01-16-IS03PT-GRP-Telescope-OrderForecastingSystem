{
 "cells": [
  {
   "cell_type": "code",
   "execution_count": 1,
   "metadata": {
    "ExecuteTime": {
     "end_time": "2021-03-16T11:27:54.077258Z",
     "start_time": "2021-03-16T11:27:53.163242Z"
    }
   },
   "outputs": [],
   "source": [
    "import pandas as pd\n",
    "import numpy as np\n",
    "from datetime import datetime, date\n",
    "import matplotlib.pyplot as plt\n",
    "import seaborn as sns"
   ]
  },
  {
   "cell_type": "code",
   "execution_count": 2,
   "metadata": {
    "ExecuteTime": {
     "end_time": "2021-03-16T11:27:54.777062Z",
     "start_time": "2021-03-16T11:27:54.729848Z"
    }
   },
   "outputs": [],
   "source": [
    "orderproducts = pd.read_csv('../data/orderproducts.csv', parse_dates=[1,11], infer_datetime_format=True)"
   ]
  },
  {
   "cell_type": "code",
   "execution_count": 3,
   "metadata": {
    "ExecuteTime": {
     "end_time": "2021-03-16T11:27:55.264879Z",
     "start_time": "2021-03-16T11:27:55.256844Z"
    }
   },
   "outputs": [],
   "source": [
    "products = pd.read_csv('../data/products.csv')"
   ]
  },
  {
   "cell_type": "code",
   "execution_count": 4,
   "metadata": {
    "ExecuteTime": {
     "end_time": "2021-03-16T11:27:56.069503Z",
     "start_time": "2021-03-16T11:27:56.058509Z"
    }
   },
   "outputs": [
    {
     "name": "stdout",
     "output_type": "stream",
     "text": [
      "<class 'pandas.core.frame.DataFrame'>\n",
      "RangeIndex: 7560 entries, 0 to 7559\n",
      "Data columns (total 12 columns):\n",
      " #   Column              Non-Null Count  Dtype              \n",
      "---  ------              --------------  -----              \n",
      " 0   order_id            7560 non-null   int64              \n",
      " 1   order_created_at    7560 non-null   datetime64[ns, UTC]\n",
      " 2   order_total_price   3791 non-null   float64            \n",
      " 3   order_status        7189 non-null   object             \n",
      " 4   order_discounts     7560 non-null   object             \n",
      " 5   product_title       7560 non-null   object             \n",
      " 6   product_sku         7551 non-null   object             \n",
      " 7   product_quantity    7560 non-null   int64              \n",
      " 8   product_discount    7560 non-null   float64            \n",
      " 9   product_category    7152 non-null   object             \n",
      " 10  product_deparments  0 non-null      float64            \n",
      " 11  product_created_at  7152 non-null   datetime64[ns, UTC]\n",
      "dtypes: datetime64[ns, UTC](2), float64(3), int64(2), object(5)\n",
      "memory usage: 708.9+ KB\n"
     ]
    }
   ],
   "source": [
    "orderproducts.info()"
   ]
  },
  {
   "cell_type": "code",
   "execution_count": 5,
   "metadata": {
    "ExecuteTime": {
     "end_time": "2021-03-16T11:28:00.470895Z",
     "start_time": "2021-03-16T11:28:00.446863Z"
    },
    "scrolled": false
   },
   "outputs": [
    {
     "data": {
      "text/html": [
       "<div>\n",
       "<style scoped>\n",
       "    .dataframe tbody tr th:only-of-type {\n",
       "        vertical-align: middle;\n",
       "    }\n",
       "\n",
       "    .dataframe tbody tr th {\n",
       "        vertical-align: top;\n",
       "    }\n",
       "\n",
       "    .dataframe thead th {\n",
       "        text-align: right;\n",
       "    }\n",
       "</style>\n",
       "<table border=\"1\" class=\"dataframe\">\n",
       "  <thead>\n",
       "    <tr style=\"text-align: right;\">\n",
       "      <th></th>\n",
       "      <th>order_id</th>\n",
       "      <th>order_created_at</th>\n",
       "      <th>order_total_price</th>\n",
       "      <th>order_status</th>\n",
       "      <th>order_discounts</th>\n",
       "      <th>product_title</th>\n",
       "      <th>product_sku</th>\n",
       "      <th>product_quantity</th>\n",
       "      <th>product_discount</th>\n",
       "      <th>product_category</th>\n",
       "      <th>product_deparments</th>\n",
       "      <th>product_created_at</th>\n",
       "    </tr>\n",
       "  </thead>\n",
       "  <tbody>\n",
       "    <tr>\n",
       "      <th>0</th>\n",
       "      <td>20570</td>\n",
       "      <td>2018-01-01 17:24:47+00:00</td>\n",
       "      <td>449.97</td>\n",
       "      <td>fulfilled</td>\n",
       "      <td>yes</td>\n",
       "      <td>Vertigo™ Semi-Hollow</td>\n",
       "      <td>M80-VHB-BLK</td>\n",
       "      <td>1</td>\n",
       "      <td>0.00</td>\n",
       "      <td>Electric Guitar Cases &amp; Gig Bags</td>\n",
       "      <td>NaN</td>\n",
       "      <td>2017-10-26 02:57:14+00:00</td>\n",
       "    </tr>\n",
       "    <tr>\n",
       "      <th>1</th>\n",
       "      <td>20570</td>\n",
       "      <td>2018-01-01 17:24:47+00:00</td>\n",
       "      <td>449.97</td>\n",
       "      <td>fulfilled</td>\n",
       "      <td>yes</td>\n",
       "      <td>The Tick™ 2.0 Black</td>\n",
       "      <td>M80-TICK-V2-BLK</td>\n",
       "      <td>1</td>\n",
       "      <td>0.00</td>\n",
       "      <td>Pedals &amp; Pedalboards Cases &amp; Gig Bags</td>\n",
       "      <td>NaN</td>\n",
       "      <td>2017-10-26 02:57:14+00:00</td>\n",
       "    </tr>\n",
       "    <tr>\n",
       "      <th>2</th>\n",
       "      <td>20570</td>\n",
       "      <td>2018-01-01 17:24:47+00:00</td>\n",
       "      <td>449.97</td>\n",
       "      <td>fulfilled</td>\n",
       "      <td>yes</td>\n",
       "      <td>Pedalboard Lite (Silver)</td>\n",
       "      <td>PFX-PB-LT-SLV</td>\n",
       "      <td>1</td>\n",
       "      <td>0.00</td>\n",
       "      <td>Pedalboards</td>\n",
       "      <td>NaN</td>\n",
       "      <td>2017-10-26 02:57:14+00:00</td>\n",
       "    </tr>\n",
       "    <tr>\n",
       "      <th>3</th>\n",
       "      <td>20556</td>\n",
       "      <td>2018-01-02 10:56:19+00:00</td>\n",
       "      <td>249.99</td>\n",
       "      <td>fulfilled</td>\n",
       "      <td>yes</td>\n",
       "      <td>Vertigo™ Semi-Hollow</td>\n",
       "      <td>M80-VHB-BLK</td>\n",
       "      <td>1</td>\n",
       "      <td>0.00</td>\n",
       "      <td>Electric Guitar Cases &amp; Gig Bags</td>\n",
       "      <td>NaN</td>\n",
       "      <td>2017-10-26 02:57:14+00:00</td>\n",
       "    </tr>\n",
       "    <tr>\n",
       "      <th>4</th>\n",
       "      <td>20554</td>\n",
       "      <td>2018-01-02 11:45:26+00:00</td>\n",
       "      <td>NaN</td>\n",
       "      <td>fulfilled</td>\n",
       "      <td>no</td>\n",
       "      <td>The FlyBy</td>\n",
       "      <td>EFX-FLY-BLK</td>\n",
       "      <td>1</td>\n",
       "      <td>229.99</td>\n",
       "      <td>DJ Equipment Cases &amp; Gig Bags</td>\n",
       "      <td>NaN</td>\n",
       "      <td>2017-10-26 02:57:14+00:00</td>\n",
       "    </tr>\n",
       "  </tbody>\n",
       "</table>\n",
       "</div>"
      ],
      "text/plain": [
       "   order_id          order_created_at  order_total_price order_status  \\\n",
       "0     20570 2018-01-01 17:24:47+00:00             449.97    fulfilled   \n",
       "1     20570 2018-01-01 17:24:47+00:00             449.97    fulfilled   \n",
       "2     20570 2018-01-01 17:24:47+00:00             449.97    fulfilled   \n",
       "3     20556 2018-01-02 10:56:19+00:00             249.99    fulfilled   \n",
       "4     20554 2018-01-02 11:45:26+00:00                NaN    fulfilled   \n",
       "\n",
       "  order_discounts             product_title      product_sku  \\\n",
       "0             yes      Vertigo™ Semi-Hollow      M80-VHB-BLK   \n",
       "1             yes       The Tick™ 2.0 Black  M80-TICK-V2-BLK   \n",
       "2             yes  Pedalboard Lite (Silver)    PFX-PB-LT-SLV   \n",
       "3             yes      Vertigo™ Semi-Hollow      M80-VHB-BLK   \n",
       "4              no                 The FlyBy      EFX-FLY-BLK   \n",
       "\n",
       "   product_quantity  product_discount                       product_category  \\\n",
       "0                 1              0.00       Electric Guitar Cases & Gig Bags   \n",
       "1                 1              0.00  Pedals & Pedalboards Cases & Gig Bags   \n",
       "2                 1              0.00                            Pedalboards   \n",
       "3                 1              0.00       Electric Guitar Cases & Gig Bags   \n",
       "4                 1            229.99          DJ Equipment Cases & Gig Bags   \n",
       "\n",
       "   product_deparments        product_created_at  \n",
       "0                 NaN 2017-10-26 02:57:14+00:00  \n",
       "1                 NaN 2017-10-26 02:57:14+00:00  \n",
       "2                 NaN 2017-10-26 02:57:14+00:00  \n",
       "3                 NaN 2017-10-26 02:57:14+00:00  \n",
       "4                 NaN 2017-10-26 02:57:14+00:00  "
      ]
     },
     "execution_count": 5,
     "metadata": {},
     "output_type": "execute_result"
    }
   ],
   "source": [
    "orderproducts.head()"
   ]
  },
  {
   "cell_type": "code",
   "execution_count": 6,
   "metadata": {
    "ExecuteTime": {
     "end_time": "2021-03-16T11:28:01.528537Z",
     "start_time": "2021-03-16T11:28:01.510535Z"
    }
   },
   "outputs": [
    {
     "data": {
      "text/html": [
       "<div>\n",
       "<style scoped>\n",
       "    .dataframe tbody tr th:only-of-type {\n",
       "        vertical-align: middle;\n",
       "    }\n",
       "\n",
       "    .dataframe tbody tr th {\n",
       "        vertical-align: top;\n",
       "    }\n",
       "\n",
       "    .dataframe thead th {\n",
       "        text-align: right;\n",
       "    }\n",
       "</style>\n",
       "<table border=\"1\" class=\"dataframe\">\n",
       "  <thead>\n",
       "    <tr style=\"text-align: right;\">\n",
       "      <th></th>\n",
       "      <th>id</th>\n",
       "      <th>sku</th>\n",
       "      <th>price_usd</th>\n",
       "      <th>category</th>\n",
       "      <th>tags</th>\n",
       "      <th>created_at</th>\n",
       "    </tr>\n",
       "  </thead>\n",
       "  <tbody>\n",
       "    <tr>\n",
       "      <th>0</th>\n",
       "      <td>33184</td>\n",
       "      <td>M80-AD-BLK</td>\n",
       "      <td>229.99</td>\n",
       "      <td>Acoustic Guitar Cases &amp; Gig Bags</td>\n",
       "      <td>Cases &amp; Gig Bags</td>\n",
       "      <td>2017-10-26T02:57:14.000Z</td>\n",
       "    </tr>\n",
       "    <tr>\n",
       "      <th>1</th>\n",
       "      <td>33186</td>\n",
       "      <td>M80-VEG-BLK</td>\n",
       "      <td>249.99</td>\n",
       "      <td>Electric Guitar Cases &amp; Gig Bags</td>\n",
       "      <td>Cases &amp; Gig Bags</td>\n",
       "      <td>2017-10-26T02:57:14.000Z</td>\n",
       "    </tr>\n",
       "    <tr>\n",
       "      <th>2</th>\n",
       "      <td>33187</td>\n",
       "      <td>M80-EG-BLK</td>\n",
       "      <td>229.99</td>\n",
       "      <td>Electric Guitar Cases &amp; Gig Bags</td>\n",
       "      <td>Cases &amp; Gig Bags</td>\n",
       "      <td>2017-10-26T02:57:14.000Z</td>\n",
       "    </tr>\n",
       "    <tr>\n",
       "      <th>3</th>\n",
       "      <td>34589</td>\n",
       "      <td>M80-VEG-GRY</td>\n",
       "      <td>249.99</td>\n",
       "      <td>Electric Guitar Cases &amp; Gig Bags</td>\n",
       "      <td>Cases &amp; Gig Bags</td>\n",
       "      <td>2017-10-26T02:57:14.000Z</td>\n",
       "    </tr>\n",
       "    <tr>\n",
       "      <th>4</th>\n",
       "      <td>34590</td>\n",
       "      <td>M80-VEB-BLK</td>\n",
       "      <td>249.99</td>\n",
       "      <td>Bass Guitar Cases &amp; Gig Bags</td>\n",
       "      <td>Cases &amp; Gig Bags</td>\n",
       "      <td>2017-10-26T02:57:14.000Z</td>\n",
       "    </tr>\n",
       "  </tbody>\n",
       "</table>\n",
       "</div>"
      ],
      "text/plain": [
       "      id          sku  price_usd                          category  \\\n",
       "0  33184   M80-AD-BLK     229.99  Acoustic Guitar Cases & Gig Bags   \n",
       "1  33186  M80-VEG-BLK     249.99  Electric Guitar Cases & Gig Bags   \n",
       "2  33187   M80-EG-BLK     229.99  Electric Guitar Cases & Gig Bags   \n",
       "3  34589  M80-VEG-GRY     249.99  Electric Guitar Cases & Gig Bags   \n",
       "4  34590  M80-VEB-BLK     249.99      Bass Guitar Cases & Gig Bags   \n",
       "\n",
       "               tags                created_at  \n",
       "0  Cases & Gig Bags  2017-10-26T02:57:14.000Z  \n",
       "1  Cases & Gig Bags  2017-10-26T02:57:14.000Z  \n",
       "2  Cases & Gig Bags  2017-10-26T02:57:14.000Z  \n",
       "3  Cases & Gig Bags  2017-10-26T02:57:14.000Z  \n",
       "4  Cases & Gig Bags  2017-10-26T02:57:14.000Z  "
      ]
     },
     "execution_count": 6,
     "metadata": {},
     "output_type": "execute_result"
    }
   ],
   "source": [
    "products.head()"
   ]
  },
  {
   "cell_type": "code",
   "execution_count": null,
   "metadata": {},
   "outputs": [],
   "source": []
  }
 ],
 "metadata": {
  "kernelspec": {
   "display_name": "Python 3",
   "language": "python",
   "name": "python3"
  },
  "language_info": {
   "codemirror_mode": {
    "name": "ipython",
    "version": 3
   },
   "file_extension": ".py",
   "mimetype": "text/x-python",
   "name": "python",
   "nbconvert_exporter": "python",
   "pygments_lexer": "ipython3",
   "version": "3.8.5"
  },
  "varInspector": {
   "cols": {
    "lenName": 16,
    "lenType": 16,
    "lenVar": 40
   },
   "kernels_config": {
    "python": {
     "delete_cmd_postfix": "",
     "delete_cmd_prefix": "del ",
     "library": "var_list.py",
     "varRefreshCmd": "print(var_dic_list())"
    },
    "r": {
     "delete_cmd_postfix": ") ",
     "delete_cmd_prefix": "rm(",
     "library": "var_list.r",
     "varRefreshCmd": "cat(var_dic_list()) "
    }
   },
   "types_to_exclude": [
    "module",
    "function",
    "builtin_function_or_method",
    "instance",
    "_Feature"
   ],
   "window_display": false
  }
 },
 "nbformat": 4,
 "nbformat_minor": 2
}
