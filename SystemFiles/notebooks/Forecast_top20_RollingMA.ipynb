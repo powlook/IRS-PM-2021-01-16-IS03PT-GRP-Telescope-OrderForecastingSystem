{
 "cells": [
  {
   "cell_type": "code",
   "execution_count": 1,
   "metadata": {
    "ExecuteTime": {
     "end_time": "2021-04-05T08:31:24.464580Z",
     "start_time": "2021-04-05T08:31:24.003568Z"
    }
   },
   "outputs": [],
   "source": [
    "%matplotlib inline\n",
    "from datetime import datetime\n",
    "import matplotlib\n",
    "import matplotlib.pyplot as plt\n",
    "import numpy as np\n",
    "import pandas as pd"
   ]
  },
  {
   "cell_type": "markdown",
   "metadata": {
    "nbpresent": {
     "id": "d13da4fe-988f-4931-ac85-94b88fdf5a5c"
    }
   },
   "source": [
    "#### Load top20products sales dataset"
   ]
  },
  {
   "cell_type": "code",
   "execution_count": 2,
   "metadata": {
    "ExecuteTime": {
     "end_time": "2021-04-05T08:31:25.749357Z",
     "start_time": "2021-04-05T08:31:25.649395Z"
    },
    "nbpresent": {
     "id": "ab62c237-c818-4345-82df-40941025361e"
    }
   },
   "outputs": [
    {
     "data": {
      "text/html": [
       "<div>\n",
       "<style scoped>\n",
       "    .dataframe tbody tr th:only-of-type {\n",
       "        vertical-align: middle;\n",
       "    }\n",
       "\n",
       "    .dataframe tbody tr th {\n",
       "        vertical-align: top;\n",
       "    }\n",
       "\n",
       "    .dataframe thead th {\n",
       "        text-align: right;\n",
       "    }\n",
       "</style>\n",
       "<table border=\"1\" class=\"dataframe\">\n",
       "  <thead>\n",
       "    <tr style=\"text-align: right;\">\n",
       "      <th>product_sku</th>\n",
       "      <th>EFX-FLY-BLK</th>\n",
       "      <th>M80-2B-BLK</th>\n",
       "      <th>M80-2G-BLK</th>\n",
       "      <th>M80-AC-BLK</th>\n",
       "      <th>M80-AD-BLK</th>\n",
       "      <th>M80-BTY-BLK-L</th>\n",
       "      <th>M80-BTY-BLK-S</th>\n",
       "      <th>M80-EB-BLK</th>\n",
       "      <th>M80-EG-BLK</th>\n",
       "      <th>M80-SEB-BLK</th>\n",
       "      <th>M80-SEG-ASH</th>\n",
       "      <th>M80-SEG-BLK</th>\n",
       "      <th>M80-TICK-V2-BLK</th>\n",
       "      <th>M80-TOUR-V2-BLK</th>\n",
       "      <th>M80-VAD-BLK</th>\n",
       "      <th>M80-VEB-BLK</th>\n",
       "      <th>M80-VEB-GRY</th>\n",
       "      <th>M80-VEG-BLK</th>\n",
       "      <th>M80-VEG-GRY</th>\n",
       "      <th>M80-VHB-BLK</th>\n",
       "    </tr>\n",
       "    <tr>\n",
       "      <th>order_date</th>\n",
       "      <th></th>\n",
       "      <th></th>\n",
       "      <th></th>\n",
       "      <th></th>\n",
       "      <th></th>\n",
       "      <th></th>\n",
       "      <th></th>\n",
       "      <th></th>\n",
       "      <th></th>\n",
       "      <th></th>\n",
       "      <th></th>\n",
       "      <th></th>\n",
       "      <th></th>\n",
       "      <th></th>\n",
       "      <th></th>\n",
       "      <th></th>\n",
       "      <th></th>\n",
       "      <th></th>\n",
       "      <th></th>\n",
       "      <th></th>\n",
       "    </tr>\n",
       "  </thead>\n",
       "  <tbody>\n",
       "    <tr>\n",
       "      <th>2018-01-31</th>\n",
       "      <td>16</td>\n",
       "      <td>12</td>\n",
       "      <td>22</td>\n",
       "      <td>12</td>\n",
       "      <td>15</td>\n",
       "      <td>11</td>\n",
       "      <td>8</td>\n",
       "      <td>11</td>\n",
       "      <td>17</td>\n",
       "      <td>27</td>\n",
       "      <td>12</td>\n",
       "      <td>15</td>\n",
       "      <td>25</td>\n",
       "      <td>16</td>\n",
       "      <td>14</td>\n",
       "      <td>8</td>\n",
       "      <td>15</td>\n",
       "      <td>33</td>\n",
       "      <td>5</td>\n",
       "      <td>18</td>\n",
       "    </tr>\n",
       "    <tr>\n",
       "      <th>2018-02-28</th>\n",
       "      <td>24</td>\n",
       "      <td>9</td>\n",
       "      <td>13</td>\n",
       "      <td>10</td>\n",
       "      <td>5</td>\n",
       "      <td>12</td>\n",
       "      <td>3</td>\n",
       "      <td>22</td>\n",
       "      <td>24</td>\n",
       "      <td>14</td>\n",
       "      <td>15</td>\n",
       "      <td>13</td>\n",
       "      <td>24</td>\n",
       "      <td>22</td>\n",
       "      <td>6</td>\n",
       "      <td>6</td>\n",
       "      <td>12</td>\n",
       "      <td>7</td>\n",
       "      <td>3</td>\n",
       "      <td>7</td>\n",
       "    </tr>\n",
       "    <tr>\n",
       "      <th>2018-03-31</th>\n",
       "      <td>21</td>\n",
       "      <td>6</td>\n",
       "      <td>7</td>\n",
       "      <td>0</td>\n",
       "      <td>16</td>\n",
       "      <td>14</td>\n",
       "      <td>6</td>\n",
       "      <td>13</td>\n",
       "      <td>14</td>\n",
       "      <td>2</td>\n",
       "      <td>4</td>\n",
       "      <td>11</td>\n",
       "      <td>16</td>\n",
       "      <td>14</td>\n",
       "      <td>6</td>\n",
       "      <td>14</td>\n",
       "      <td>5</td>\n",
       "      <td>6</td>\n",
       "      <td>9</td>\n",
       "      <td>18</td>\n",
       "    </tr>\n",
       "    <tr>\n",
       "      <th>2018-04-30</th>\n",
       "      <td>39</td>\n",
       "      <td>25</td>\n",
       "      <td>37</td>\n",
       "      <td>22</td>\n",
       "      <td>22</td>\n",
       "      <td>26</td>\n",
       "      <td>20</td>\n",
       "      <td>26</td>\n",
       "      <td>35</td>\n",
       "      <td>28</td>\n",
       "      <td>31</td>\n",
       "      <td>31</td>\n",
       "      <td>35</td>\n",
       "      <td>19</td>\n",
       "      <td>25</td>\n",
       "      <td>35</td>\n",
       "      <td>17</td>\n",
       "      <td>100</td>\n",
       "      <td>29</td>\n",
       "      <td>38</td>\n",
       "    </tr>\n",
       "    <tr>\n",
       "      <th>2018-05-31</th>\n",
       "      <td>27</td>\n",
       "      <td>10</td>\n",
       "      <td>23</td>\n",
       "      <td>11</td>\n",
       "      <td>17</td>\n",
       "      <td>14</td>\n",
       "      <td>6</td>\n",
       "      <td>13</td>\n",
       "      <td>21</td>\n",
       "      <td>10</td>\n",
       "      <td>14</td>\n",
       "      <td>13</td>\n",
       "      <td>18</td>\n",
       "      <td>18</td>\n",
       "      <td>9</td>\n",
       "      <td>17</td>\n",
       "      <td>12</td>\n",
       "      <td>19</td>\n",
       "      <td>4</td>\n",
       "      <td>14</td>\n",
       "    </tr>\n",
       "  </tbody>\n",
       "</table>\n",
       "</div>"
      ],
      "text/plain": [
       "product_sku  EFX-FLY-BLK  M80-2B-BLK  M80-2G-BLK  M80-AC-BLK  M80-AD-BLK  \\\n",
       "order_date                                                                 \n",
       "2018-01-31            16          12          22          12          15   \n",
       "2018-02-28            24           9          13          10           5   \n",
       "2018-03-31            21           6           7           0          16   \n",
       "2018-04-30            39          25          37          22          22   \n",
       "2018-05-31            27          10          23          11          17   \n",
       "\n",
       "product_sku  M80-BTY-BLK-L  M80-BTY-BLK-S  M80-EB-BLK  M80-EG-BLK  \\\n",
       "order_date                                                          \n",
       "2018-01-31              11              8          11          17   \n",
       "2018-02-28              12              3          22          24   \n",
       "2018-03-31              14              6          13          14   \n",
       "2018-04-30              26             20          26          35   \n",
       "2018-05-31              14              6          13          21   \n",
       "\n",
       "product_sku  M80-SEB-BLK  M80-SEG-ASH  M80-SEG-BLK  M80-TICK-V2-BLK  \\\n",
       "order_date                                                            \n",
       "2018-01-31            27           12           15               25   \n",
       "2018-02-28            14           15           13               24   \n",
       "2018-03-31             2            4           11               16   \n",
       "2018-04-30            28           31           31               35   \n",
       "2018-05-31            10           14           13               18   \n",
       "\n",
       "product_sku  M80-TOUR-V2-BLK  M80-VAD-BLK  M80-VEB-BLK  M80-VEB-GRY  \\\n",
       "order_date                                                            \n",
       "2018-01-31                16           14            8           15   \n",
       "2018-02-28                22            6            6           12   \n",
       "2018-03-31                14            6           14            5   \n",
       "2018-04-30                19           25           35           17   \n",
       "2018-05-31                18            9           17           12   \n",
       "\n",
       "product_sku  M80-VEG-BLK  M80-VEG-GRY  M80-VHB-BLK  \n",
       "order_date                                          \n",
       "2018-01-31            33            5           18  \n",
       "2018-02-28             7            3            7  \n",
       "2018-03-31             6            9           18  \n",
       "2018-04-30           100           29           38  \n",
       "2018-05-31            19            4           14  "
      ]
     },
     "execution_count": 2,
     "metadata": {},
     "output_type": "execute_result"
    }
   ],
   "source": [
    "# load data and convert to datetime\n",
    "df = pd.read_csv('../data-processed/orderproducts_top20.csv', parse_dates=[1], infer_datetime_format=True)\n",
    "prod_monthly = pd.crosstab(df['order_date'], df['product_sku']).resample('M').sum()  # resample data to monthly numbers\n",
    "prod_monthly = prod_monthly['2018-01':'2021-03'] \n",
    "prod_monthly.head()"
   ]
  },
  {
   "cell_type": "markdown",
   "metadata": {},
   "source": [
    "#### To analyse one timeseries - ['EFX-FLY-BLK']"
   ]
  },
  {
   "cell_type": "code",
   "execution_count": 3,
   "metadata": {
    "ExecuteTime": {
     "end_time": "2021-04-05T08:31:29.314725Z",
     "start_time": "2021-04-05T08:31:29.302714Z"
    }
   },
   "outputs": [
    {
     "data": {
      "text/html": [
       "<div>\n",
       "<style scoped>\n",
       "    .dataframe tbody tr th:only-of-type {\n",
       "        vertical-align: middle;\n",
       "    }\n",
       "\n",
       "    .dataframe tbody tr th {\n",
       "        vertical-align: top;\n",
       "    }\n",
       "\n",
       "    .dataframe thead th {\n",
       "        text-align: right;\n",
       "    }\n",
       "</style>\n",
       "<table border=\"1\" class=\"dataframe\">\n",
       "  <thead>\n",
       "    <tr style=\"text-align: right;\">\n",
       "      <th>product_sku</th>\n",
       "      <th>EFX-FLY-BLK</th>\n",
       "    </tr>\n",
       "  </thead>\n",
       "  <tbody>\n",
       "    <tr>\n",
       "      <th>count</th>\n",
       "      <td>39.000000</td>\n",
       "    </tr>\n",
       "    <tr>\n",
       "      <th>mean</th>\n",
       "      <td>11.743590</td>\n",
       "    </tr>\n",
       "    <tr>\n",
       "      <th>std</th>\n",
       "      <td>9.962345</td>\n",
       "    </tr>\n",
       "    <tr>\n",
       "      <th>min</th>\n",
       "      <td>0.000000</td>\n",
       "    </tr>\n",
       "    <tr>\n",
       "      <th>25%</th>\n",
       "      <td>4.500000</td>\n",
       "    </tr>\n",
       "    <tr>\n",
       "      <th>50%</th>\n",
       "      <td>9.000000</td>\n",
       "    </tr>\n",
       "    <tr>\n",
       "      <th>75%</th>\n",
       "      <td>14.000000</td>\n",
       "    </tr>\n",
       "    <tr>\n",
       "      <th>max</th>\n",
       "      <td>39.000000</td>\n",
       "    </tr>\n",
       "  </tbody>\n",
       "</table>\n",
       "</div>"
      ],
      "text/plain": [
       "product_sku  EFX-FLY-BLK\n",
       "count          39.000000\n",
       "mean           11.743590\n",
       "std             9.962345\n",
       "min             0.000000\n",
       "25%             4.500000\n",
       "50%             9.000000\n",
       "75%            14.000000\n",
       "max            39.000000"
      ]
     },
     "execution_count": 3,
     "metadata": {},
     "output_type": "execute_result"
    }
   ],
   "source": [
    "monthly_temp = prod_monthly[['EFX-FLY-BLK']]\n",
    "monthly_temp.describe()"
   ]
  },
  {
   "cell_type": "code",
   "execution_count": 4,
   "metadata": {
    "ExecuteTime": {
     "end_time": "2021-04-05T08:31:30.774735Z",
     "start_time": "2021-04-05T08:31:30.520775Z"
    },
    "scrolled": true
   },
   "outputs": [
    {
     "data": {
      "text/plain": [
       "<AxesSubplot:xlabel='order_date'>"
      ]
     },
     "execution_count": 4,
     "metadata": {},
     "output_type": "execute_result"
    },
    {
     "data": {
      "image/png": "[encoded data removed]",
      "text/plain": [
       "<Figure size 1008x288 with 1 Axes>"
      ]
     },
     "metadata": {
      "needs_background": "light"
     },
     "output_type": "display_data"
    }
   ],
   "source": [
    "# Plot series\n",
    "plt.rcParams['figure.figsize'] = [14, 4]\n",
    "monthly_temp.plot(grid=True)"
   ]
  },
  {
   "cell_type": "markdown",
   "metadata": {
    "nbpresent": {
     "id": "5883bb95-161b-4f1c-b56d-6741e1736ffb"
    }
   },
   "source": [
    "Are these datasets stationary? We can look at a few things per the list above:\n",
    "- including a visual check (there is a downward trend for the monthly figures, weekly number maybe too small to assess), \n",
    "- a standard deviation check on various differences (smallest one is usually most stationary), \n",
    "- the formal Dickey-Fuller test."
   ]
  },
  {
   "cell_type": "code",
   "execution_count": 5,
   "metadata": {
    "ExecuteTime": {
     "end_time": "2021-04-05T08:31:33.889863Z",
     "start_time": "2021-04-05T08:31:33.466754Z"
    },
    "nbpresent": {
     "id": "318b7e80-f2a6-4d35-8278-8b8d304011ef"
    }
   },
   "outputs": [],
   "source": [
    "# define Dickey-Fuller Test (DFT) function\n",
    "import statsmodels.tsa.stattools as ts\n",
    "def dftest(timeseries):\n",
    "    dftest = ts.adfuller(timeseries, autolag='AIC')\n",
    "    dfoutput = pd.Series(dftest[0:4], \n",
    "                         index=['Test Statistic','p-value','Lags Used','Observations Used'])\n",
    "    for key,value in dftest[4].items():\n",
    "        dfoutput['Critical Value (%s)'%key] = value\n",
    "    print(dfoutput)\n",
    "    #Determing rolling statistics\n",
    "    rolmean = timeseries.rolling(window=12).mean()\n",
    "    rolstd = timeseries.rolling(window=12).std()\n",
    "\n",
    "    #Plot rolling statistics:\n",
    "    orig = plt.plot(timeseries, color='blue',label='Original')\n",
    "    mean = plt.plot(rolmean, color='red', label='Rolling Mean')\n",
    "    std = plt.plot(rolstd, color='black', label = 'Rolling Std')\n",
    "    plt.legend(loc='best')\n",
    "    plt.title('Rolling Mean and Standard Deviation')\n",
    "    plt.grid()\n",
    "    plt.show(block=False)"
   ]
  },
  {
   "cell_type": "code",
   "execution_count": 6,
   "metadata": {
    "ExecuteTime": {
     "end_time": "2021-04-05T08:31:35.210021Z",
     "start_time": "2021-04-05T08:31:35.008062Z"
    }
   },
   "outputs": [
    {
     "name": "stdout",
     "output_type": "stream",
     "text": [
      "Test Statistic          -3.170695\n",
      "p-value                  0.021745\n",
      "Lags Used                5.000000\n",
      "Observations Used       33.000000\n",
      "Critical Value (1%)     -3.646135\n",
      "Critical Value (5%)     -2.954127\n",
      "Critical Value (10%)    -2.615968\n",
      "dtype: float64\n"
     ]
    },
    {
     "data": {
      "image/png": "[encoded data removed]",
      "text/plain": [
       "<Figure size 1008x288 with 1 Axes>"
      ]
     },
     "metadata": {
      "needs_background": "light"
     },
     "output_type": "display_data"
    }
   ],
   "source": [
    "plt.rcParams['figure.figsize'] = [14, 4]\n",
    "# run DFT on monthly\n",
    "dftest(monthly_temp['EFX-FLY-BLK'])\n",
    "# p-value allows us to reject a unit root: data is stationary"
   ]
  },
  {
   "cell_type": "markdown",
   "metadata": {},
   "source": [
    "The t-statistics is greater that 1% critical value and p-value is less than 0.05. However the rolling mean is sliding which means there is a downward trend for this series."
   ]
  },
  {
   "cell_type": "markdown",
   "metadata": {},
   "source": [
    "- The t-statistics of -10.6 is less than 1% CF\n",
    "- The p-value of 5.4e-19 is less than 0,05\n",
    "- The rolling means is almost at 0 which shows no trends in the series\n",
    "We can therefore reject the null hypothesis as non-stationary (i.e. the data is stationary)."
   ]
  },
  {
   "cell_type": "markdown",
   "metadata": {
    "ExecuteTime": {
     "end_time": "2021-03-24T07:14:25.468092Z",
     "start_time": "2021-03-24T07:14:25.451094Z"
    }
   },
   "source": [
    "#### Forecasting with Rolling Moving Average on one item"
   ]
  },
  {
   "cell_type": "code",
   "execution_count": 7,
   "metadata": {
    "ExecuteTime": {
     "end_time": "2021-04-05T08:31:49.596868Z",
     "start_time": "2021-04-05T08:31:49.591870Z"
    }
   },
   "outputs": [],
   "source": [
    "def moving_average(observations, window=3, forecast=False):\n",
    "    '''returns the smoothed version of an array of observations.'''\n",
    "    cumulative_sum = np.cumsum(observations, dtype=float)\n",
    "    cumulative_sum[window:] = cumulative_sum[window:] - cumulative_sum[:-window]\n",
    "    if forecast:\n",
    "        return np.insert(cumulative_sum[window - 1:] / window, 0, np.zeros(3))  # insert np.zeros(3) from index 0\n",
    "    else:\n",
    "        return cumulative_sum[window - 1:] / window"
   ]
  },
  {
   "cell_type": "code",
   "execution_count": 8,
   "metadata": {
    "ExecuteTime": {
     "end_time": "2021-04-05T08:31:50.232083Z",
     "start_time": "2021-04-05T08:31:50.215085Z"
    }
   },
   "outputs": [],
   "source": [
    "data  = prod_monthly['EFX-FLY-BLK']\n",
    "train = data[:-3]\n",
    "test  = data[-3:]\n",
    "mth_yr = data.index\n",
    "period = 3\n",
    "\n",
    "smoothed_trend = moving_average(np.array(data), window=3, forecast=True)\n",
    "forecast = np.empty(3)\n",
    "forecast.fill(round(np.array(train[-3:]).mean()))"
   ]
  },
  {
   "cell_type": "code",
   "execution_count": 9,
   "metadata": {
    "ExecuteTime": {
     "end_time": "2021-04-05T08:31:51.228119Z",
     "start_time": "2021-04-05T08:31:51.040930Z"
    }
   },
   "outputs": [
    {
     "data": {
      "image/png": "[encoded data removed]",
      "text/plain": [
       "<Figure size 1008x288 with 1 Axes>"
      ]
     },
     "metadata": {
      "needs_background": "light"
     },
     "output_type": "display_data"
    }
   ],
   "source": [
    "plt.plot(mth_yr, data, 'g', label='Monthly Sales Data')\n",
    "plt.plot(mth_yr[:-3], smoothed_trend[:-4], 'r', label=\"Moving Average\")\n",
    "plt.plot(mth_yr[-3:], forecast, 'r--', label=\"Forecast\")\n",
    "plt.title('Rolling 3 months Moving Average')\n",
    "plt.legend();"
   ]
  },
  {
   "cell_type": "markdown",
   "metadata": {},
   "source": [
    "#### Forecast the last 3 month sales for the top 20 items"
   ]
  },
  {
   "cell_type": "code",
   "execution_count": 10,
   "metadata": {
    "ExecuteTime": {
     "end_time": "2021-04-05T08:33:17.525791Z",
     "start_time": "2021-04-05T08:33:17.402791Z"
    }
   },
   "outputs": [
    {
     "name": "stdout",
     "output_type": "stream",
     "text": [
      "     test  adj_forecast             item\n",
      "m+1     2             3      EFX-FLY-BLK\n",
      "m+2     2             3      EFX-FLY-BLK\n",
      "m+3     5             3      EFX-FLY-BLK\n",
      "m+1     1             3       M80-2B-BLK\n",
      "m+2     1             3       M80-2B-BLK\n",
      "m+3     1             3       M80-2B-BLK\n",
      "m+1     5             4       M80-2G-BLK\n",
      "m+2     4             4       M80-2G-BLK\n",
      "m+3     5             4       M80-2G-BLK\n",
      "m+1     0             3       M80-AC-BLK\n",
      "m+2     0             3       M80-AC-BLK\n",
      "m+3     1             3       M80-AC-BLK\n",
      "m+1     3             2       M80-AD-BLK\n",
      "m+2     1             2       M80-AD-BLK\n",
      "m+3     0             2       M80-AD-BLK\n",
      "m+1     3             1    M80-BTY-BLK-L\n",
      "m+2     1             1    M80-BTY-BLK-L\n",
      "m+3     1             1    M80-BTY-BLK-L\n",
      "m+1     0             2    M80-BTY-BLK-S\n",
      "m+2     2             2    M80-BTY-BLK-S\n",
      "m+3     1             2    M80-BTY-BLK-S\n",
      "m+1     3             0       M80-EB-BLK\n",
      "m+2     1             0       M80-EB-BLK\n",
      "m+3     1             0       M80-EB-BLK\n",
      "m+1     2             0       M80-EG-BLK\n",
      "m+2     0             0       M80-EG-BLK\n",
      "m+3     3             0       M80-EG-BLK\n",
      "m+1     0             1      M80-SEB-BLK\n",
      "m+2     3             1      M80-SEB-BLK\n",
      "m+3     0             1      M80-SEB-BLK\n",
      "m+1     1             1      M80-SEG-ASH\n",
      "m+2     1             1      M80-SEG-ASH\n",
      "m+3     1             1      M80-SEG-ASH\n",
      "m+1     2             1      M80-SEG-BLK\n",
      "m+2     0             1      M80-SEG-BLK\n",
      "m+3     2             1      M80-SEG-BLK\n",
      "m+1     4             1  M80-TICK-V2-BLK\n",
      "m+2     3             1  M80-TICK-V2-BLK\n",
      "m+3     2             1  M80-TICK-V2-BLK\n",
      "m+1     1             0  M80-TOUR-V2-BLK\n",
      "m+2     1             0  M80-TOUR-V2-BLK\n",
      "m+3     2             0  M80-TOUR-V2-BLK\n",
      "m+1     3             3      M80-VAD-BLK\n",
      "m+2     0             3      M80-VAD-BLK\n",
      "m+3     3             3      M80-VAD-BLK\n",
      "m+1     2             4      M80-VEB-BLK\n",
      "m+2     3             4      M80-VEB-BLK\n",
      "m+3     3             4      M80-VEB-BLK\n",
      "m+1     0             1      M80-VEB-GRY\n",
      "m+2     1             1      M80-VEB-GRY\n",
      "m+3     0             1      M80-VEB-GRY\n",
      "m+1     2             4      M80-VEG-BLK\n",
      "m+2     3             4      M80-VEG-BLK\n",
      "m+3     2             4      M80-VEG-BLK\n",
      "m+1     3             1      M80-VEG-GRY\n",
      "m+2     2             1      M80-VEG-GRY\n",
      "m+3     2             1      M80-VEG-GRY\n",
      "m+1     0             1      M80-VHB-BLK\n",
      "m+2     4             1      M80-VHB-BLK\n",
      "m+3     0             1      M80-VHB-BLK\n"
     ]
    }
   ],
   "source": [
    "prod_monthly = pd.crosstab(df['order_date'], df['product_sku']).resample('M').sum()\n",
    "prod_monthly = prod_monthly['2018-01':'2021-03']\n",
    "items = prod_monthly.columns.values\n",
    "\n",
    "# items are the names of the top20 items\n",
    "test_predict = []\n",
    "mse_list = []\n",
    "results =  pd.DataFrame()\n",
    "\n",
    "for item in items:\n",
    "    data = prod_monthly[item]\n",
    "    train = np.array(data.iloc[:-3])\n",
    "    test  = np.array(data.iloc[-3:])\n",
    "    mth_yr = data.index\n",
    "    forecast = np.empty(3)\n",
    "    forecast.fill(int(np.array(train[-3:]).mean()))    \n",
    "    adj_forecast = [ 0 if x < 0 else int(round(x)) for x in list(forecast) ]\n",
    "    item_name = [item for x in range(3)]\n",
    "    res = pd.DataFrame(zip(test, adj_forecast, item_name), \n",
    "                       index=['m+1','m+2','m+3'], columns=['test', 'adj_forecast', 'item'])\n",
    "    results = pd.concat([results,res], axis=0)\n",
    "print(results)"
   ]
  },
  {
   "cell_type": "code",
   "execution_count": 11,
   "metadata": {
    "ExecuteTime": {
     "end_time": "2021-04-05T08:33:24.088572Z",
     "start_time": "2021-04-05T08:33:24.069580Z"
    }
   },
   "outputs": [],
   "source": [
    "results.to_csv('../data-processed/top20forecasts_RollingMA_01to03.csv')"
   ]
  },
  {
   "cell_type": "code",
   "execution_count": null,
   "metadata": {},
   "outputs": [],
   "source": []
  }
 ],
 "metadata": {
  "anaconda-cloud": {},
  "kernelspec": {
   "display_name": "Python 3",
   "language": "python",
   "name": "python3"
  },
  "language_info": {
   "codemirror_mode": {
    "name": "ipython",
    "version": 3
   },
   "file_extension": ".py",
   "mimetype": "text/x-python",
   "name": "python",
   "nbconvert_exporter": "python",
   "pygments_lexer": "ipython3",
   "version": "3.7.4"
  },
  "toc": {
   "colors": {
    "hover_highlight": "#DAA520",
    "navigate_num": "#000000",
    "navigate_text": "#333333",
    "running_highlight": "#FF0000",
    "selected_highlight": "#FFD700",
    "sidebar_border": "#EEEEEE",
    "wrapper_background": "#FFFFFF"
   },
   "moveMenuLeft": false,
   "nav_menu": {
    "height": "311px",
    "width": "412px"
   },
   "navigate_menu": true,
   "number_sections": false,
   "sideBar": false,
   "threshold": "3",
   "toc_cell": false,
   "toc_position": {
    "height": "22px",
    "left": "1105px",
    "right": "20px",
    "top": "-1px",
    "width": "22px"
   },
   "toc_section_display": "block",
   "toc_window_display": true,
   "widenNotebook": false
  },
  "varInspector": {
   "cols": {
    "lenName": 16,
    "lenType": 16,
    "lenVar": 40
   },
   "kernels_config": {
    "python": {
     "delete_cmd_postfix": "",
     "delete_cmd_prefix": "del ",
     "library": "var_list.py",
     "varRefreshCmd": "print(var_dic_list())"
    },
    "r": {
     "delete_cmd_postfix": ") ",
     "delete_cmd_prefix": "rm(",
     "library": "var_list.r",
     "varRefreshCmd": "cat(var_dic_list()) "
    }
   },
   "types_to_exclude": [
    "module",
    "function",
    "builtin_function_or_method",
    "instance",
    "_Feature"
   ],
   "window_display": false
  }
 },
 "nbformat": 4,
 "nbformat_minor": 2
}
