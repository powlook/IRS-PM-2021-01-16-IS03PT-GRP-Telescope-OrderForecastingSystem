{
 "cells": [
  {
   "cell_type": "markdown",
   "metadata": {
    "ExecuteTime": {
     "end_time": "2021-03-16T10:58:42.389862Z",
     "start_time": "2021-03-16T10:58:42.387839Z"
    }
   },
   "source": [
    "### Import libraries"
   ]
  },
  {
   "cell_type": "code",
   "execution_count": 1,
   "metadata": {
    "ExecuteTime": {
     "end_time": "2021-03-17T16:43:42.388642Z",
     "start_time": "2021-03-17T16:43:41.446549Z"
    }
   },
   "outputs": [],
   "source": [
    "import numpy as np\n",
    "import pandas as pd\n",
    "import matplotlib.pyplot as plt\n",
    "from sklearn.model_selection import train_test_split\n",
    "from sklearn.compose import ColumnTransformer\n",
    "from sklearn.pipeline import Pipeline\n",
    "from sklearn.impute import SimpleImputer\n",
    "from sklearn.preprocessing import LabelEncoder, OneHotEncoder, OrdinalEncoder, StandardScaler, MinMaxScaler"
   ]
  },
  {
   "cell_type": "code",
   "execution_count": 2,
   "metadata": {
    "ExecuteTime": {
     "end_time": "2021-03-17T16:48:12.676668Z",
     "start_time": "2021-03-17T16:48:12.654678Z"
    }
   },
   "outputs": [],
   "source": [
    "# Import classifiers\n",
    "from sklearn.linear_model import LinearRegression, Ridge, SGDRegressor\n",
    "from sklearn.tree import DecisionTreeRegressor"
   ]
  },
  {
   "cell_type": "markdown",
   "metadata": {
    "ExecuteTime": {
     "end_time": "2021-03-16T10:59:13.799104Z",
     "start_time": "2021-03-16T10:59:13.796113Z"
    }
   },
   "source": [
    "### Import data"
   ]
  },
  {
   "cell_type": "code",
   "execution_count": 3,
   "metadata": {
    "ExecuteTime": {
     "end_time": "2021-03-17T16:48:15.735378Z",
     "start_time": "2021-03-17T16:48:15.709233Z"
    }
   },
   "outputs": [],
   "source": [
    "data = pd.read_csv('../data/orderproducts_top20.csv', parse_dates=[1], infer_datetime_format=True)"
   ]
  },
  {
   "cell_type": "code",
   "execution_count": 4,
   "metadata": {
    "ExecuteTime": {
     "end_time": "2021-03-17T16:48:16.305683Z",
     "start_time": "2021-03-17T16:48:16.295683Z"
    }
   },
   "outputs": [
    {
     "name": "stdout",
     "output_type": "stream",
     "text": [
      "<class 'pandas.core.frame.DataFrame'>\n",
      "RangeIndex: 4321 entries, 0 to 4320\n",
      "Data columns (total 13 columns):\n",
      " #   Column             Non-Null Count  Dtype         \n",
      "---  ------             --------------  -----         \n",
      " 0   order_id           4321 non-null   int64         \n",
      " 1   order_date         4321 non-null   datetime64[ns]\n",
      " 2   order_total_price  1904 non-null   float64       \n",
      " 3   product_price      4321 non-null   float64       \n",
      " 4   order_discounts    4321 non-null   object        \n",
      " 5   product_discount   4321 non-null   float64       \n",
      " 6   order_status       4138 non-null   object        \n",
      " 7   product_title      4321 non-null   object        \n",
      " 8   product_sku        4321 non-null   object        \n",
      " 9   product_quantity   4321 non-null   int64         \n",
      " 10  product_category   4321 non-null   object        \n",
      " 11  weekdays           4321 non-null   int64         \n",
      " 12  sch_holidays       4321 non-null   object        \n",
      "dtypes: datetime64[ns](1), float64(3), int64(3), object(6)\n",
      "memory usage: 439.0+ KB\n"
     ]
    }
   ],
   "source": [
    "data.info()"
   ]
  },
  {
   "cell_type": "code",
   "execution_count": 5,
   "metadata": {
    "ExecuteTime": {
     "end_time": "2021-03-17T16:48:24.895522Z",
     "start_time": "2021-03-17T16:48:24.889527Z"
    }
   },
   "outputs": [
    {
     "data": {
      "text/plain": [
       "Index(['order_id', 'order_date', 'order_total_price', 'product_price',\n",
       "       'order_discounts', 'product_discount', 'order_status', 'product_title',\n",
       "       'product_sku', 'product_quantity', 'product_category', 'weekdays',\n",
       "       'sch_holidays'],\n",
       "      dtype='object')"
      ]
     },
     "execution_count": 5,
     "metadata": {},
     "output_type": "execute_result"
    }
   ],
   "source": [
    "data.columns"
   ]
  },
  {
   "cell_type": "code",
   "execution_count": 7,
   "metadata": {
    "ExecuteTime": {
     "end_time": "2021-03-17T16:49:05.441139Z",
     "start_time": "2021-03-17T16:49:05.436141Z"
    }
   },
   "outputs": [],
   "source": [
    "df = data[['order_date', 'product_sku', 'product_quantity'\n",
    "         ]]"
   ]
  },
  {
   "cell_type": "code",
   "execution_count": 8,
   "metadata": {
    "ExecuteTime": {
     "end_time": "2021-03-17T16:49:11.290913Z",
     "start_time": "2021-03-17T16:49:11.241558Z"
    }
   },
   "outputs": [],
   "source": [
    "prod_weekly = pd.crosstab(df['order_date'], df['product_sku']).resample('W').sum()"
   ]
  },
  {
   "cell_type": "code",
   "execution_count": 11,
   "metadata": {
    "ExecuteTime": {
     "end_time": "2021-03-17T16:49:27.135887Z",
     "start_time": "2021-03-17T16:49:27.130884Z"
    }
   },
   "outputs": [],
   "source": [
    "prod_weekly['week'] = [x.week for x in prod_weekly.index]"
   ]
  },
  {
   "cell_type": "code",
   "execution_count": 12,
   "metadata": {
    "ExecuteTime": {
     "end_time": "2021-03-17T16:49:34.385731Z",
     "start_time": "2021-03-17T16:49:34.381730Z"
    }
   },
   "outputs": [],
   "source": [
    "prod_weekly['sch_holidays'] = ['Sch Holidays' if x.month in [6,11,12] else 'Non Holidays' for x in prod_weekly.index ]"
   ]
  },
  {
   "cell_type": "code",
   "execution_count": 13,
   "metadata": {
    "ExecuteTime": {
     "end_time": "2021-03-17T16:49:49.858636Z",
     "start_time": "2021-03-17T16:49:49.830634Z"
    },
    "scrolled": true
   },
   "outputs": [
    {
     "data": {
      "text/html": [
       "<div>\n",
       "<style scoped>\n",
       "    .dataframe tbody tr th:only-of-type {\n",
       "        vertical-align: middle;\n",
       "    }\n",
       "\n",
       "    .dataframe tbody tr th {\n",
       "        vertical-align: top;\n",
       "    }\n",
       "\n",
       "    .dataframe thead th {\n",
       "        text-align: right;\n",
       "    }\n",
       "</style>\n",
       "<table border=\"1\" class=\"dataframe\">\n",
       "  <thead>\n",
       "    <tr style=\"text-align: right;\">\n",
       "      <th>product_sku</th>\n",
       "      <th>EFX-FLY-BLK</th>\n",
       "      <th>M80-2B-BLK</th>\n",
       "      <th>M80-2G-BLK</th>\n",
       "      <th>M80-AC-BLK</th>\n",
       "      <th>M80-AD-BLK</th>\n",
       "      <th>M80-BTY-BLK-L</th>\n",
       "      <th>M80-BTY-BLK-S</th>\n",
       "      <th>M80-EB-BLK</th>\n",
       "      <th>M80-EG-BLK</th>\n",
       "      <th>M80-SEB-BLK</th>\n",
       "      <th>...</th>\n",
       "      <th>M80-TOUR-V2-BLK</th>\n",
       "      <th>M80-VAD-BLK</th>\n",
       "      <th>M80-VEB-BLK</th>\n",
       "      <th>M80-VEB-GRY</th>\n",
       "      <th>M80-VEG-BLK</th>\n",
       "      <th>M80-VEG-GRY</th>\n",
       "      <th>M80-VHB-BLK</th>\n",
       "      <th>month</th>\n",
       "      <th>week</th>\n",
       "      <th>sch_holidays</th>\n",
       "    </tr>\n",
       "    <tr>\n",
       "      <th>order_date</th>\n",
       "      <th></th>\n",
       "      <th></th>\n",
       "      <th></th>\n",
       "      <th></th>\n",
       "      <th></th>\n",
       "      <th></th>\n",
       "      <th></th>\n",
       "      <th></th>\n",
       "      <th></th>\n",
       "      <th></th>\n",
       "      <th></th>\n",
       "      <th></th>\n",
       "      <th></th>\n",
       "      <th></th>\n",
       "      <th></th>\n",
       "      <th></th>\n",
       "      <th></th>\n",
       "      <th></th>\n",
       "      <th></th>\n",
       "      <th></th>\n",
       "      <th></th>\n",
       "    </tr>\n",
       "  </thead>\n",
       "  <tbody>\n",
       "    <tr>\n",
       "      <th>2017-12-31</th>\n",
       "      <td>1</td>\n",
       "      <td>0</td>\n",
       "      <td>0</td>\n",
       "      <td>0</td>\n",
       "      <td>0</td>\n",
       "      <td>0</td>\n",
       "      <td>0</td>\n",
       "      <td>0</td>\n",
       "      <td>0</td>\n",
       "      <td>0</td>\n",
       "      <td>...</td>\n",
       "      <td>0</td>\n",
       "      <td>0</td>\n",
       "      <td>0</td>\n",
       "      <td>0</td>\n",
       "      <td>0</td>\n",
       "      <td>0</td>\n",
       "      <td>0</td>\n",
       "      <td>12</td>\n",
       "      <td>52</td>\n",
       "      <td>Sch Holidays</td>\n",
       "    </tr>\n",
       "    <tr>\n",
       "      <th>2018-01-07</th>\n",
       "      <td>8</td>\n",
       "      <td>3</td>\n",
       "      <td>3</td>\n",
       "      <td>2</td>\n",
       "      <td>6</td>\n",
       "      <td>2</td>\n",
       "      <td>1</td>\n",
       "      <td>3</td>\n",
       "      <td>4</td>\n",
       "      <td>1</td>\n",
       "      <td>...</td>\n",
       "      <td>0</td>\n",
       "      <td>3</td>\n",
       "      <td>1</td>\n",
       "      <td>4</td>\n",
       "      <td>9</td>\n",
       "      <td>4</td>\n",
       "      <td>4</td>\n",
       "      <td>1</td>\n",
       "      <td>1</td>\n",
       "      <td>Non Holidays</td>\n",
       "    </tr>\n",
       "    <tr>\n",
       "      <th>2018-01-14</th>\n",
       "      <td>6</td>\n",
       "      <td>1</td>\n",
       "      <td>7</td>\n",
       "      <td>2</td>\n",
       "      <td>3</td>\n",
       "      <td>6</td>\n",
       "      <td>6</td>\n",
       "      <td>4</td>\n",
       "      <td>4</td>\n",
       "      <td>12</td>\n",
       "      <td>...</td>\n",
       "      <td>6</td>\n",
       "      <td>1</td>\n",
       "      <td>3</td>\n",
       "      <td>4</td>\n",
       "      <td>8</td>\n",
       "      <td>0</td>\n",
       "      <td>6</td>\n",
       "      <td>1</td>\n",
       "      <td>2</td>\n",
       "      <td>Non Holidays</td>\n",
       "    </tr>\n",
       "    <tr>\n",
       "      <th>2018-01-21</th>\n",
       "      <td>2</td>\n",
       "      <td>1</td>\n",
       "      <td>6</td>\n",
       "      <td>2</td>\n",
       "      <td>4</td>\n",
       "      <td>3</td>\n",
       "      <td>0</td>\n",
       "      <td>3</td>\n",
       "      <td>4</td>\n",
       "      <td>8</td>\n",
       "      <td>...</td>\n",
       "      <td>7</td>\n",
       "      <td>5</td>\n",
       "      <td>3</td>\n",
       "      <td>4</td>\n",
       "      <td>8</td>\n",
       "      <td>1</td>\n",
       "      <td>4</td>\n",
       "      <td>1</td>\n",
       "      <td>3</td>\n",
       "      <td>Non Holidays</td>\n",
       "    </tr>\n",
       "    <tr>\n",
       "      <th>2018-01-28</th>\n",
       "      <td>0</td>\n",
       "      <td>6</td>\n",
       "      <td>4</td>\n",
       "      <td>3</td>\n",
       "      <td>0</td>\n",
       "      <td>0</td>\n",
       "      <td>1</td>\n",
       "      <td>1</td>\n",
       "      <td>4</td>\n",
       "      <td>5</td>\n",
       "      <td>...</td>\n",
       "      <td>3</td>\n",
       "      <td>3</td>\n",
       "      <td>1</td>\n",
       "      <td>2</td>\n",
       "      <td>7</td>\n",
       "      <td>0</td>\n",
       "      <td>4</td>\n",
       "      <td>1</td>\n",
       "      <td>4</td>\n",
       "      <td>Non Holidays</td>\n",
       "    </tr>\n",
       "    <tr>\n",
       "      <th>...</th>\n",
       "      <td>...</td>\n",
       "      <td>...</td>\n",
       "      <td>...</td>\n",
       "      <td>...</td>\n",
       "      <td>...</td>\n",
       "      <td>...</td>\n",
       "      <td>...</td>\n",
       "      <td>...</td>\n",
       "      <td>...</td>\n",
       "      <td>...</td>\n",
       "      <td>...</td>\n",
       "      <td>...</td>\n",
       "      <td>...</td>\n",
       "      <td>...</td>\n",
       "      <td>...</td>\n",
       "      <td>...</td>\n",
       "      <td>...</td>\n",
       "      <td>...</td>\n",
       "      <td>...</td>\n",
       "      <td>...</td>\n",
       "      <td>...</td>\n",
       "    </tr>\n",
       "    <tr>\n",
       "      <th>2021-02-14</th>\n",
       "      <td>0</td>\n",
       "      <td>0</td>\n",
       "      <td>0</td>\n",
       "      <td>0</td>\n",
       "      <td>0</td>\n",
       "      <td>0</td>\n",
       "      <td>0</td>\n",
       "      <td>0</td>\n",
       "      <td>0</td>\n",
       "      <td>1</td>\n",
       "      <td>...</td>\n",
       "      <td>1</td>\n",
       "      <td>0</td>\n",
       "      <td>0</td>\n",
       "      <td>0</td>\n",
       "      <td>2</td>\n",
       "      <td>2</td>\n",
       "      <td>1</td>\n",
       "      <td>2</td>\n",
       "      <td>6</td>\n",
       "      <td>Non Holidays</td>\n",
       "    </tr>\n",
       "    <tr>\n",
       "      <th>2021-02-21</th>\n",
       "      <td>0</td>\n",
       "      <td>0</td>\n",
       "      <td>0</td>\n",
       "      <td>0</td>\n",
       "      <td>0</td>\n",
       "      <td>0</td>\n",
       "      <td>0</td>\n",
       "      <td>1</td>\n",
       "      <td>0</td>\n",
       "      <td>0</td>\n",
       "      <td>...</td>\n",
       "      <td>0</td>\n",
       "      <td>0</td>\n",
       "      <td>1</td>\n",
       "      <td>0</td>\n",
       "      <td>0</td>\n",
       "      <td>0</td>\n",
       "      <td>1</td>\n",
       "      <td>2</td>\n",
       "      <td>7</td>\n",
       "      <td>Non Holidays</td>\n",
       "    </tr>\n",
       "    <tr>\n",
       "      <th>2021-02-28</th>\n",
       "      <td>0</td>\n",
       "      <td>1</td>\n",
       "      <td>1</td>\n",
       "      <td>0</td>\n",
       "      <td>0</td>\n",
       "      <td>1</td>\n",
       "      <td>0</td>\n",
       "      <td>0</td>\n",
       "      <td>0</td>\n",
       "      <td>1</td>\n",
       "      <td>...</td>\n",
       "      <td>0</td>\n",
       "      <td>0</td>\n",
       "      <td>1</td>\n",
       "      <td>1</td>\n",
       "      <td>0</td>\n",
       "      <td>0</td>\n",
       "      <td>1</td>\n",
       "      <td>2</td>\n",
       "      <td>8</td>\n",
       "      <td>Non Holidays</td>\n",
       "    </tr>\n",
       "    <tr>\n",
       "      <th>2021-03-07</th>\n",
       "      <td>2</td>\n",
       "      <td>0</td>\n",
       "      <td>0</td>\n",
       "      <td>1</td>\n",
       "      <td>0</td>\n",
       "      <td>0</td>\n",
       "      <td>0</td>\n",
       "      <td>1</td>\n",
       "      <td>1</td>\n",
       "      <td>0</td>\n",
       "      <td>...</td>\n",
       "      <td>1</td>\n",
       "      <td>0</td>\n",
       "      <td>1</td>\n",
       "      <td>0</td>\n",
       "      <td>1</td>\n",
       "      <td>0</td>\n",
       "      <td>0</td>\n",
       "      <td>3</td>\n",
       "      <td>9</td>\n",
       "      <td>Non Holidays</td>\n",
       "    </tr>\n",
       "    <tr>\n",
       "      <th>2021-03-14</th>\n",
       "      <td>3</td>\n",
       "      <td>0</td>\n",
       "      <td>1</td>\n",
       "      <td>0</td>\n",
       "      <td>0</td>\n",
       "      <td>0</td>\n",
       "      <td>0</td>\n",
       "      <td>0</td>\n",
       "      <td>0</td>\n",
       "      <td>0</td>\n",
       "      <td>...</td>\n",
       "      <td>0</td>\n",
       "      <td>0</td>\n",
       "      <td>0</td>\n",
       "      <td>0</td>\n",
       "      <td>0</td>\n",
       "      <td>0</td>\n",
       "      <td>0</td>\n",
       "      <td>3</td>\n",
       "      <td>10</td>\n",
       "      <td>Non Holidays</td>\n",
       "    </tr>\n",
       "  </tbody>\n",
       "</table>\n",
       "<p>168 rows × 23 columns</p>\n",
       "</div>"
      ],
      "text/plain": [
       "product_sku  EFX-FLY-BLK  M80-2B-BLK  M80-2G-BLK  M80-AC-BLK  M80-AD-BLK  \\\n",
       "order_date                                                                 \n",
       "2017-12-31             1           0           0           0           0   \n",
       "2018-01-07             8           3           3           2           6   \n",
       "2018-01-14             6           1           7           2           3   \n",
       "2018-01-21             2           1           6           2           4   \n",
       "2018-01-28             0           6           4           3           0   \n",
       "...                  ...         ...         ...         ...         ...   \n",
       "2021-02-14             0           0           0           0           0   \n",
       "2021-02-21             0           0           0           0           0   \n",
       "2021-02-28             0           1           1           0           0   \n",
       "2021-03-07             2           0           0           1           0   \n",
       "2021-03-14             3           0           1           0           0   \n",
       "\n",
       "product_sku  M80-BTY-BLK-L  M80-BTY-BLK-S  M80-EB-BLK  M80-EG-BLK  \\\n",
       "order_date                                                          \n",
       "2017-12-31               0              0           0           0   \n",
       "2018-01-07               2              1           3           4   \n",
       "2018-01-14               6              6           4           4   \n",
       "2018-01-21               3              0           3           4   \n",
       "2018-01-28               0              1           1           4   \n",
       "...                    ...            ...         ...         ...   \n",
       "2021-02-14               0              0           0           0   \n",
       "2021-02-21               0              0           1           0   \n",
       "2021-02-28               1              0           0           0   \n",
       "2021-03-07               0              0           1           1   \n",
       "2021-03-14               0              0           0           0   \n",
       "\n",
       "product_sku  M80-SEB-BLK  ...  M80-TOUR-V2-BLK  M80-VAD-BLK  M80-VEB-BLK  \\\n",
       "order_date                ...                                              \n",
       "2017-12-31             0  ...                0            0            0   \n",
       "2018-01-07             1  ...                0            3            1   \n",
       "2018-01-14            12  ...                6            1            3   \n",
       "2018-01-21             8  ...                7            5            3   \n",
       "2018-01-28             5  ...                3            3            1   \n",
       "...                  ...  ...              ...          ...          ...   \n",
       "2021-02-14             1  ...                1            0            0   \n",
       "2021-02-21             0  ...                0            0            1   \n",
       "2021-02-28             1  ...                0            0            1   \n",
       "2021-03-07             0  ...                1            0            1   \n",
       "2021-03-14             0  ...                0            0            0   \n",
       "\n",
       "product_sku  M80-VEB-GRY  M80-VEG-BLK  M80-VEG-GRY  M80-VHB-BLK  month  week  \\\n",
       "order_date                                                                     \n",
       "2017-12-31             0            0            0            0     12    52   \n",
       "2018-01-07             4            9            4            4      1     1   \n",
       "2018-01-14             4            8            0            6      1     2   \n",
       "2018-01-21             4            8            1            4      1     3   \n",
       "2018-01-28             2            7            0            4      1     4   \n",
       "...                  ...          ...          ...          ...    ...   ...   \n",
       "2021-02-14             0            2            2            1      2     6   \n",
       "2021-02-21             0            0            0            1      2     7   \n",
       "2021-02-28             1            0            0            1      2     8   \n",
       "2021-03-07             0            1            0            0      3     9   \n",
       "2021-03-14             0            0            0            0      3    10   \n",
       "\n",
       "product_sku  sch_holidays  \n",
       "order_date                 \n",
       "2017-12-31   Sch Holidays  \n",
       "2018-01-07   Non Holidays  \n",
       "2018-01-14   Non Holidays  \n",
       "2018-01-21   Non Holidays  \n",
       "2018-01-28   Non Holidays  \n",
       "...                   ...  \n",
       "2021-02-14   Non Holidays  \n",
       "2021-02-21   Non Holidays  \n",
       "2021-02-28   Non Holidays  \n",
       "2021-03-07   Non Holidays  \n",
       "2021-03-14   Non Holidays  \n",
       "\n",
       "[168 rows x 23 columns]"
      ]
     },
     "execution_count": 13,
     "metadata": {},
     "output_type": "execute_result"
    }
   ],
   "source": [
    "prod_weekly"
   ]
  },
  {
   "cell_type": "code",
   "execution_count": 14,
   "metadata": {
    "ExecuteTime": {
     "end_time": "2021-03-17T16:50:27.345424Z",
     "start_time": "2021-03-17T16:50:27.338422Z"
    }
   },
   "outputs": [],
   "source": [
    "df_EFXFLYBLK = prod_weekly['2018':'2020'][['week', 'sch_holidays', 'EFX-FLY-BLK']].reset_index()"
   ]
  },
  {
   "cell_type": "code",
   "execution_count": 15,
   "metadata": {
    "ExecuteTime": {
     "end_time": "2021-03-17T16:50:28.257423Z",
     "start_time": "2021-03-17T16:50:28.245421Z"
    }
   },
   "outputs": [
    {
     "data": {
      "text/html": [
       "<div>\n",
       "<style scoped>\n",
       "    .dataframe tbody tr th:only-of-type {\n",
       "        vertical-align: middle;\n",
       "    }\n",
       "\n",
       "    .dataframe tbody tr th {\n",
       "        vertical-align: top;\n",
       "    }\n",
       "\n",
       "    .dataframe thead th {\n",
       "        text-align: right;\n",
       "    }\n",
       "</style>\n",
       "<table border=\"1\" class=\"dataframe\">\n",
       "  <thead>\n",
       "    <tr style=\"text-align: right;\">\n",
       "      <th>product_sku</th>\n",
       "      <th>order_date</th>\n",
       "      <th>week</th>\n",
       "      <th>sch_holidays</th>\n",
       "      <th>EFX-FLY-BLK</th>\n",
       "    </tr>\n",
       "  </thead>\n",
       "  <tbody>\n",
       "    <tr>\n",
       "      <th>0</th>\n",
       "      <td>2018-01-07</td>\n",
       "      <td>1</td>\n",
       "      <td>Non Holidays</td>\n",
       "      <td>8</td>\n",
       "    </tr>\n",
       "    <tr>\n",
       "      <th>1</th>\n",
       "      <td>2018-01-14</td>\n",
       "      <td>2</td>\n",
       "      <td>Non Holidays</td>\n",
       "      <td>6</td>\n",
       "    </tr>\n",
       "    <tr>\n",
       "      <th>2</th>\n",
       "      <td>2018-01-21</td>\n",
       "      <td>3</td>\n",
       "      <td>Non Holidays</td>\n",
       "      <td>2</td>\n",
       "    </tr>\n",
       "    <tr>\n",
       "      <th>3</th>\n",
       "      <td>2018-01-28</td>\n",
       "      <td>4</td>\n",
       "      <td>Non Holidays</td>\n",
       "      <td>0</td>\n",
       "    </tr>\n",
       "    <tr>\n",
       "      <th>4</th>\n",
       "      <td>2018-02-04</td>\n",
       "      <td>5</td>\n",
       "      <td>Non Holidays</td>\n",
       "      <td>0</td>\n",
       "    </tr>\n",
       "    <tr>\n",
       "      <th>...</th>\n",
       "      <td>...</td>\n",
       "      <td>...</td>\n",
       "      <td>...</td>\n",
       "      <td>...</td>\n",
       "    </tr>\n",
       "    <tr>\n",
       "      <th>151</th>\n",
       "      <td>2020-11-29</td>\n",
       "      <td>48</td>\n",
       "      <td>Sch Holidays</td>\n",
       "      <td>0</td>\n",
       "    </tr>\n",
       "    <tr>\n",
       "      <th>152</th>\n",
       "      <td>2020-12-06</td>\n",
       "      <td>49</td>\n",
       "      <td>Sch Holidays</td>\n",
       "      <td>3</td>\n",
       "    </tr>\n",
       "    <tr>\n",
       "      <th>153</th>\n",
       "      <td>2020-12-13</td>\n",
       "      <td>50</td>\n",
       "      <td>Sch Holidays</td>\n",
       "      <td>0</td>\n",
       "    </tr>\n",
       "    <tr>\n",
       "      <th>154</th>\n",
       "      <td>2020-12-20</td>\n",
       "      <td>51</td>\n",
       "      <td>Sch Holidays</td>\n",
       "      <td>0</td>\n",
       "    </tr>\n",
       "    <tr>\n",
       "      <th>155</th>\n",
       "      <td>2020-12-27</td>\n",
       "      <td>52</td>\n",
       "      <td>Sch Holidays</td>\n",
       "      <td>0</td>\n",
       "    </tr>\n",
       "  </tbody>\n",
       "</table>\n",
       "<p>156 rows × 4 columns</p>\n",
       "</div>"
      ],
      "text/plain": [
       "product_sku order_date  week  sch_holidays  EFX-FLY-BLK\n",
       "0           2018-01-07     1  Non Holidays            8\n",
       "1           2018-01-14     2  Non Holidays            6\n",
       "2           2018-01-21     3  Non Holidays            2\n",
       "3           2018-01-28     4  Non Holidays            0\n",
       "4           2018-02-04     5  Non Holidays            0\n",
       "..                 ...   ...           ...          ...\n",
       "151         2020-11-29    48  Sch Holidays            0\n",
       "152         2020-12-06    49  Sch Holidays            3\n",
       "153         2020-12-13    50  Sch Holidays            0\n",
       "154         2020-12-20    51  Sch Holidays            0\n",
       "155         2020-12-27    52  Sch Holidays            0\n",
       "\n",
       "[156 rows x 4 columns]"
      ]
     },
     "execution_count": 15,
     "metadata": {},
     "output_type": "execute_result"
    }
   ],
   "source": [
    "df_EFXFLYBLK"
   ]
  },
  {
   "cell_type": "markdown",
   "metadata": {
    "ExecuteTime": {
     "end_time": "2021-03-16T10:59:29.847914Z",
     "start_time": "2021-03-16T10:59:29.844939Z"
    }
   },
   "source": [
    "### Data Pre-processing"
   ]
  },
  {
   "cell_type": "code",
   "execution_count": 16,
   "metadata": {
    "ExecuteTime": {
     "end_time": "2021-03-17T16:50:45.088198Z",
     "start_time": "2021-03-17T16:50:45.082169Z"
    }
   },
   "outputs": [],
   "source": [
    "X = df_EFXFLYBLK.drop(['EFX-FLY-BLK','order_date'], axis=1)\n",
    "Y = df_EFXFLYBLK['EFX-FLY-BLK']"
   ]
  },
  {
   "cell_type": "code",
   "execution_count": 17,
   "metadata": {
    "ExecuteTime": {
     "end_time": "2021-03-17T16:50:52.331756Z",
     "start_time": "2021-03-17T16:50:52.321716Z"
    }
   },
   "outputs": [
    {
     "data": {
      "text/html": [
       "<div>\n",
       "<style scoped>\n",
       "    .dataframe tbody tr th:only-of-type {\n",
       "        vertical-align: middle;\n",
       "    }\n",
       "\n",
       "    .dataframe tbody tr th {\n",
       "        vertical-align: top;\n",
       "    }\n",
       "\n",
       "    .dataframe thead th {\n",
       "        text-align: right;\n",
       "    }\n",
       "</style>\n",
       "<table border=\"1\" class=\"dataframe\">\n",
       "  <thead>\n",
       "    <tr style=\"text-align: right;\">\n",
       "      <th>product_sku</th>\n",
       "      <th>week</th>\n",
       "      <th>sch_holidays</th>\n",
       "    </tr>\n",
       "  </thead>\n",
       "  <tbody>\n",
       "    <tr>\n",
       "      <th>0</th>\n",
       "      <td>1</td>\n",
       "      <td>Non Holidays</td>\n",
       "    </tr>\n",
       "    <tr>\n",
       "      <th>1</th>\n",
       "      <td>2</td>\n",
       "      <td>Non Holidays</td>\n",
       "    </tr>\n",
       "    <tr>\n",
       "      <th>2</th>\n",
       "      <td>3</td>\n",
       "      <td>Non Holidays</td>\n",
       "    </tr>\n",
       "    <tr>\n",
       "      <th>3</th>\n",
       "      <td>4</td>\n",
       "      <td>Non Holidays</td>\n",
       "    </tr>\n",
       "    <tr>\n",
       "      <th>4</th>\n",
       "      <td>5</td>\n",
       "      <td>Non Holidays</td>\n",
       "    </tr>\n",
       "    <tr>\n",
       "      <th>...</th>\n",
       "      <td>...</td>\n",
       "      <td>...</td>\n",
       "    </tr>\n",
       "    <tr>\n",
       "      <th>151</th>\n",
       "      <td>48</td>\n",
       "      <td>Sch Holidays</td>\n",
       "    </tr>\n",
       "    <tr>\n",
       "      <th>152</th>\n",
       "      <td>49</td>\n",
       "      <td>Sch Holidays</td>\n",
       "    </tr>\n",
       "    <tr>\n",
       "      <th>153</th>\n",
       "      <td>50</td>\n",
       "      <td>Sch Holidays</td>\n",
       "    </tr>\n",
       "    <tr>\n",
       "      <th>154</th>\n",
       "      <td>51</td>\n",
       "      <td>Sch Holidays</td>\n",
       "    </tr>\n",
       "    <tr>\n",
       "      <th>155</th>\n",
       "      <td>52</td>\n",
       "      <td>Sch Holidays</td>\n",
       "    </tr>\n",
       "  </tbody>\n",
       "</table>\n",
       "<p>156 rows × 2 columns</p>\n",
       "</div>"
      ],
      "text/plain": [
       "product_sku  week  sch_holidays\n",
       "0               1  Non Holidays\n",
       "1               2  Non Holidays\n",
       "2               3  Non Holidays\n",
       "3               4  Non Holidays\n",
       "4               5  Non Holidays\n",
       "..            ...           ...\n",
       "151            48  Sch Holidays\n",
       "152            49  Sch Holidays\n",
       "153            50  Sch Holidays\n",
       "154            51  Sch Holidays\n",
       "155            52  Sch Holidays\n",
       "\n",
       "[156 rows x 2 columns]"
      ]
     },
     "execution_count": 17,
     "metadata": {},
     "output_type": "execute_result"
    }
   ],
   "source": [
    "X"
   ]
  },
  {
   "cell_type": "code",
   "execution_count": 18,
   "metadata": {
    "ExecuteTime": {
     "end_time": "2021-03-17T16:51:00.776529Z",
     "start_time": "2021-03-17T16:51:00.767517Z"
    }
   },
   "outputs": [
    {
     "data": {
      "text/plain": [
       "0     8\n",
       "1     6\n",
       "2     2\n",
       "3     0\n",
       "4     0\n",
       "5     3\n",
       "6     7\n",
       "7    11\n",
       "8     6\n",
       "9     8\n",
       "Name: EFX-FLY-BLK, dtype: int64"
      ]
     },
     "execution_count": 18,
     "metadata": {},
     "output_type": "execute_result"
    }
   ],
   "source": [
    "Y[0:10]"
   ]
  },
  {
   "cell_type": "code",
   "execution_count": 19,
   "metadata": {
    "ExecuteTime": {
     "end_time": "2021-03-17T16:52:31.553852Z",
     "start_time": "2021-03-17T16:52:31.526852Z"
    }
   },
   "outputs": [],
   "source": [
    "# Build a preprocessing step for numeric features\n",
    "numerical_cols = []\n",
    "\n",
    "# Build a preprocessing step for nominal features\n",
    "nominal_cols = ['sch_holidays', 'week']\n",
    "for col in nominal_cols: \n",
    "    X[col] = X[col].astype('category')\n",
    "\n",
    "# Test/train split the data\n",
    "X_train, X_test, y_train, y_test = train_test_split(X, Y, test_size=1/5, \\\n",
    "                                                    random_state=1)\n",
    "    \n",
    "# Preprocessing for numerical data\n",
    "## StandardScaler removes the mean and standardise it to between -1 to 1\n",
    "numerical_transformer = Pipeline(steps=[\n",
    "    ('imputer', SimpleImputer(strategy='mean')),\n",
    "    ('Scaler' , StandardScaler())                      \n",
    "    ])  \n",
    "\n",
    "# Preprocessing for nominal data\n",
    "nominal_transformer = Pipeline(steps=[\n",
    "    ('imputer', SimpleImputer(strategy='most_frequent')),\n",
    "    ('onehot', OneHotEncoder(handle_unknown='ignore'))\n",
    "    ])\n",
    "\n",
    "preprocessor = ColumnTransformer(\n",
    "    transformers=[\n",
    "        ('nom', nominal_transformer, nominal_cols),\n",
    "        ('num', numerical_transformer, numerical_cols)\n",
    "        ])  \n",
    "    \n",
    "# Transform the Training and Test sets to numpy arrays\n",
    "X_train = preprocessor.fit_transform(X_train)\n",
    "X_test  = preprocessor.transform(X_test)\n",
    "features = list(preprocessor.transformers_[0][1]['onehot'].get_feature_names(nominal_cols)) + numerical_cols     "
   ]
  },
  {
   "cell_type": "code",
   "execution_count": 20,
   "metadata": {
    "ExecuteTime": {
     "end_time": "2021-03-17T16:52:35.333516Z",
     "start_time": "2021-03-17T16:52:35.329517Z"
    }
   },
   "outputs": [
    {
     "name": "stdout",
     "output_type": "stream",
     "text": [
      "(124, 53)\n",
      "(32, 53)\n",
      "['sch_holidays_Non Holidays', 'sch_holidays_Sch Holidays', 'week_1', 'week_2', 'week_3', 'week_4', 'week_5', 'week_6', 'week_7', 'week_8', 'week_9', 'week_10', 'week_11', 'week_12', 'week_13', 'week_14', 'week_15', 'week_16', 'week_17', 'week_18', 'week_19', 'week_20', 'week_21', 'week_22', 'week_23', 'week_24', 'week_25', 'week_26', 'week_27', 'week_28', 'week_29', 'week_30', 'week_31', 'week_32', 'week_33', 'week_34', 'week_35', 'week_36', 'week_37', 'week_38', 'week_39', 'week_40', 'week_41', 'week_42', 'week_44', 'week_45', 'week_46', 'week_47', 'week_48', 'week_49', 'week_50', 'week_51', 'week_52']\n"
     ]
    }
   ],
   "source": [
    "print(X_train.shape)\n",
    "print(X_test.shape)\n",
    "print(features)"
   ]
  },
  {
   "cell_type": "code",
   "execution_count": 22,
   "metadata": {
    "ExecuteTime": {
     "end_time": "2021-03-17T16:53:52.053807Z",
     "start_time": "2021-03-17T16:53:52.042802Z"
    }
   },
   "outputs": [
    {
     "name": "stdout",
     "output_type": "stream",
     "text": [
      "Score in training set: 0.278\n",
      "Score in test set: -1.152\n"
     ]
    }
   ],
   "source": [
    "lgreg=LinearRegression()\n",
    "lgreg.fit(X_train, y_train)\n",
    "\n",
    "print('Score in training set: {:.3f}'.format(lgreg.score(X_train, y_train)))\n",
    "print('Score in test set: {:.3f}'.format(lgreg.score(X_test, y_test)))"
   ]
  },
  {
   "cell_type": "code",
   "execution_count": null,
   "metadata": {},
   "outputs": [],
   "source": []
  },
  {
   "cell_type": "code",
   "execution_count": null,
   "metadata": {},
   "outputs": [],
   "source": []
  },
  {
   "cell_type": "code",
   "execution_count": null,
   "metadata": {},
   "outputs": [],
   "source": []
  }
 ],
 "metadata": {
  "kernelspec": {
   "display_name": "Python 3",
   "language": "python",
   "name": "python3"
  },
  "language_info": {
   "codemirror_mode": {
    "name": "ipython",
    "version": 3
   },
   "file_extension": ".py",
   "mimetype": "text/x-python",
   "name": "python",
   "nbconvert_exporter": "python",
   "pygments_lexer": "ipython3",
   "version": "3.7.5"
  },
  "varInspector": {
   "cols": {
    "lenName": 16,
    "lenType": 16,
    "lenVar": 40
   },
   "kernels_config": {
    "python": {
     "delete_cmd_postfix": "",
     "delete_cmd_prefix": "del ",
     "library": "var_list.py",
     "varRefreshCmd": "print(var_dic_list())"
    },
    "r": {
     "delete_cmd_postfix": ") ",
     "delete_cmd_prefix": "rm(",
     "library": "var_list.r",
     "varRefreshCmd": "cat(var_dic_list()) "
    }
   },
   "types_to_exclude": [
    "module",
    "function",
    "builtin_function_or_method",
    "instance",
    "_Feature"
   ],
   "window_display": false
  }
 },
 "nbformat": 4,
 "nbformat_minor": 2
}
