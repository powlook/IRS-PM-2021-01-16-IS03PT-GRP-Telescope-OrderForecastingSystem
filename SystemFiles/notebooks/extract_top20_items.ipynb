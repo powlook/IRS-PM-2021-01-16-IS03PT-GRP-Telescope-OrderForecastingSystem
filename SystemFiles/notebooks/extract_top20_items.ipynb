{
 "cells": [
  {
   "cell_type": "code",
   "execution_count": 1,
   "metadata": {
    "ExecuteTime": {
     "end_time": "2021-04-03T03:38:49.010008Z",
     "start_time": "2021-04-03T03:38:48.736869Z"
    }
   },
   "outputs": [],
   "source": [
    "import pandas as pd\n",
    "import numpy as np\n",
    "from datetime import datetime, date"
   ]
  },
  {
   "cell_type": "code",
   "execution_count": 2,
   "metadata": {
    "ExecuteTime": {
     "end_time": "2021-04-03T03:38:49.588595Z",
     "start_time": "2021-04-03T03:38:49.520389Z"
    }
   },
   "outputs": [],
   "source": [
    "orderproducts = pd.read_csv('../data-raw/orderproducts.csv', parse_dates=[1,11], infer_datetime_format=True)"
   ]
  },
  {
   "cell_type": "code",
   "execution_count": 3,
   "metadata": {
    "ExecuteTime": {
     "end_time": "2021-04-03T03:38:50.137015Z",
     "start_time": "2021-04-03T03:38:50.122016Z"
    }
   },
   "outputs": [],
   "source": [
    "products = pd.read_csv('../data-raw/products.csv')"
   ]
  },
  {
   "cell_type": "code",
   "execution_count": 4,
   "metadata": {
    "ExecuteTime": {
     "end_time": "2021-04-03T03:38:50.765756Z",
     "start_time": "2021-04-03T03:38:50.757756Z"
    }
   },
   "outputs": [],
   "source": [
    "# remove duplicated sku names\n",
    "products = products.drop_duplicates(subset = ['sku'], keep='first')"
   ]
  },
  {
   "cell_type": "code",
   "execution_count": 5,
   "metadata": {
    "ExecuteTime": {
     "end_time": "2021-04-03T03:38:51.394166Z",
     "start_time": "2021-04-03T03:38:51.374166Z"
    }
   },
   "outputs": [],
   "source": [
    "# Create date field, remove time details\n",
    "orderproducts['order_date'] = [x.date() for x in orderproducts['order_created_at']]  # remove time, display only date\n",
    "orderproducts['order_date'] = pd.to_datetime(orderproducts['order_date'])"
   ]
  },
  {
   "cell_type": "code",
   "execution_count": 6,
   "metadata": {
    "ExecuteTime": {
     "end_time": "2021-04-03T03:38:54.539833Z",
     "start_time": "2021-04-03T03:38:52.140631Z"
    }
   },
   "outputs": [],
   "source": [
    "# Extract the product price for individual item in the list\n",
    "arr, emp = [], []\n",
    "for i, row  in orderproducts.iterrows():\n",
    "    if row.product_sku in list(products.sku):\n",
    "        arr.append(float(products.loc[products['sku'] == row.product_sku, 'price_usd'].values))\n",
    "    else:\n",
    "        emp.append(row.product_sku)\n",
    "        arr.append(0)\n",
    "orderproducts['product_price'] = pd.DataFrame(arr)"
   ]
  },
  {
   "cell_type": "code",
   "execution_count": 7,
   "metadata": {
    "ExecuteTime": {
     "end_time": "2021-04-03T03:38:54.617592Z",
     "start_time": "2021-04-03T03:38:54.604592Z"
    }
   },
   "outputs": [
    {
     "name": "stdout",
     "output_type": "stream",
     "text": [
      "['STICKER', 'SRB-L-BLK', nan, 'CPN-BAG-STRAP-DPS-BLK', 'SRB-L-BLK', 'STICKER', 'SRB-L-BLK', 'SRB-L-BLK', 'CPN-BAG-STRAP-DPS-BLK', nan, nan, 'B-M80-AC-BLK', 'CPN-BAG-STRAP-DPS-BLK', '50-K61-FOAM', 'B-M80-SAD-BLK', 'B-M80-EB-BLK', nan, 'B-M80-VEG-GRY', 'B-M80-EB-BLK', nan, nan, nan, nan, nan]\n"
     ]
    }
   ],
   "source": [
    "# list of product skus that is not listed in products.csv\n",
    "print(emp)"
   ]
  },
  {
   "cell_type": "code",
   "execution_count": 8,
   "metadata": {
    "ExecuteTime": {
     "end_time": "2021-04-03T03:38:55.969251Z",
     "start_time": "2021-04-03T03:38:55.956254Z"
    }
   },
   "outputs": [],
   "source": [
    "orderproducts = orderproducts[['order_id', 'order_date', 'order_total_price', 'product_price', 'order_discounts',\n",
    "                               'product_discount', 'order_status', 'product_title', 'product_sku', 'product_quantity',\n",
    "                               'product_category']]"
   ]
  },
  {
   "cell_type": "code",
   "execution_count": 9,
   "metadata": {
    "ExecuteTime": {
     "end_time": "2021-04-03T03:38:56.594492Z",
     "start_time": "2021-04-03T03:38:56.582492Z"
    }
   },
   "outputs": [],
   "source": [
    "product_sku = orderproducts.groupby(['product_sku'])['product_quantity'].agg(['sum']).sort_values('sum', ascending=False).reset_index()"
   ]
  },
  {
   "cell_type": "code",
   "execution_count": 10,
   "metadata": {
    "ExecuteTime": {
     "end_time": "2021-04-03T03:38:59.043408Z",
     "start_time": "2021-04-03T03:38:59.028412Z"
    }
   },
   "outputs": [],
   "source": [
    "top_20 = list(product_sku['product_sku'].values)[0:20]"
   ]
  },
  {
   "cell_type": "code",
   "execution_count": 11,
   "metadata": {
    "ExecuteTime": {
     "end_time": "2021-04-03T03:39:01.704790Z",
     "start_time": "2021-04-03T03:39:01.684787Z"
    }
   },
   "outputs": [
    {
     "data": {
      "text/plain": [
       "['M80-TICK-V2-BLK',\n",
       " 'M80-VEG-BLK',\n",
       " 'EFX-FLY-BLK',\n",
       " 'M80-EG-BLK',\n",
       " 'M80-BTY-BLK-L',\n",
       " 'M80-2G-BLK',\n",
       " 'M80-VEB-BLK',\n",
       " 'M80-BTY-BLK-S',\n",
       " 'M80-EB-BLK',\n",
       " 'M80-AD-BLK',\n",
       " 'M80-SEG-BLK',\n",
       " 'M80-VAD-BLK',\n",
       " 'M80-SEG-ASH',\n",
       " 'M80-VHB-BLK',\n",
       " 'M80-TOUR-V2-BLK',\n",
       " 'M80-2B-BLK',\n",
       " 'M80-AC-BLK',\n",
       " 'M80-VEB-GRY',\n",
       " 'M80-VEG-GRY',\n",
       " 'M80-SEB-BLK']"
      ]
     },
     "execution_count": 11,
     "metadata": {},
     "output_type": "execute_result"
    }
   ],
   "source": [
    "top_20"
   ]
  },
  {
   "cell_type": "code",
   "execution_count": 12,
   "metadata": {
    "ExecuteTime": {
     "end_time": "2021-04-03T03:39:06.410615Z",
     "start_time": "2021-04-03T03:39:06.390614Z"
    }
   },
   "outputs": [],
   "source": [
    "# filter orders where product_sku is in top 20 list\n",
    "df = orderproducts[orderproducts['product_sku'].isin(top_20)]"
   ]
  },
  {
   "cell_type": "code",
   "execution_count": 13,
   "metadata": {
    "ExecuteTime": {
     "end_time": "2021-04-03T03:39:06.974623Z",
     "start_time": "2021-04-03T03:39:06.906281Z"
    }
   },
   "outputs": [],
   "source": [
    "df.to_csv('../data-processed/orderproducts_top20.csv', index=False)"
   ]
  }
 ],
 "metadata": {
  "kernelspec": {
   "display_name": "Python 3",
   "language": "python",
   "name": "python3"
  },
  "language_info": {
   "codemirror_mode": {
    "name": "ipython",
    "version": 3
   },
   "file_extension": ".py",
   "mimetype": "text/x-python",
   "name": "python",
   "nbconvert_exporter": "python",
   "pygments_lexer": "ipython3",
   "version": "3.7.4"
  },
  "varInspector": {
   "cols": {
    "lenName": 16,
    "lenType": 16,
    "lenVar": 40
   },
   "kernels_config": {
    "python": {
     "delete_cmd_postfix": "",
     "delete_cmd_prefix": "del ",
     "library": "var_list.py",
     "varRefreshCmd": "print(var_dic_list())"
    },
    "r": {
     "delete_cmd_postfix": ") ",
     "delete_cmd_prefix": "rm(",
     "library": "var_list.r",
     "varRefreshCmd": "cat(var_dic_list()) "
    }
   },
   "types_to_exclude": [
    "module",
    "function",
    "builtin_function_or_method",
    "instance",
    "_Feature"
   ],
   "window_display": false
  }
 },
 "nbformat": 4,
 "nbformat_minor": 2
}
