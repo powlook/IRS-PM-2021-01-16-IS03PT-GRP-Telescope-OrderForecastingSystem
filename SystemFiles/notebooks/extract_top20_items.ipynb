{
 "cells": [
  {
   "cell_type": "code",
   "execution_count": 21,
   "metadata": {
    "ExecuteTime": {
     "end_time": "2021-04-03T16:28:14.151353Z",
     "start_time": "2021-04-03T16:28:14.131353Z"
    }
   },
   "outputs": [],
   "source": [
    "import pandas as pd\n",
    "import numpy as np\n",
    "from datetime import datetime, date"
   ]
  },
  {
   "cell_type": "code",
   "execution_count": 26,
   "metadata": {
    "ExecuteTime": {
     "end_time": "2021-04-03T16:33:59.078094Z",
     "start_time": "2021-04-03T16:33:59.022872Z"
    }
   },
   "outputs": [],
   "source": [
    "orderproducts = pd.read_csv('../data-raw/orderproducts.csv', parse_dates=[1,11], infer_datetime_format=True)\n",
    "#orderproducts = pd.read_csv('../data-raw/orderproducts.csv')"
   ]
  },
  {
   "cell_type": "code",
   "execution_count": 27,
   "metadata": {
    "ExecuteTime": {
     "end_time": "2021-04-03T16:34:02.820479Z",
     "start_time": "2021-04-03T16:34:02.804482Z"
    }
   },
   "outputs": [],
   "source": [
    "products = pd.read_csv('../data-raw/products.csv')"
   ]
  },
  {
   "cell_type": "code",
   "execution_count": 28,
   "metadata": {
    "ExecuteTime": {
     "end_time": "2021-04-03T16:34:03.593514Z",
     "start_time": "2021-04-03T16:34:03.579511Z"
    }
   },
   "outputs": [],
   "source": [
    "# remove duplicated sku names\n",
    "products = products.drop_duplicates(subset = ['sku'], keep='first')"
   ]
  },
  {
   "cell_type": "code",
   "execution_count": 29,
   "metadata": {
    "ExecuteTime": {
     "end_time": "2021-04-03T16:34:04.688105Z",
     "start_time": "2021-04-03T16:34:04.601962Z"
    }
   },
   "outputs": [],
   "source": [
    "# Create date field, remove time details\n",
    "orderproducts['order_date'] = [x.date() for x in orderproducts['order_created_at']]  # remove time, display only date\n",
    "orderproducts['order_date'] = pd.to_datetime(orderproducts['order_date'])"
   ]
  },
  {
   "cell_type": "code",
   "execution_count": 30,
   "metadata": {
    "ExecuteTime": {
     "end_time": "2021-04-03T16:34:07.796045Z",
     "start_time": "2021-04-03T16:34:05.397047Z"
    }
   },
   "outputs": [],
   "source": [
    "# Extract the product price for individual item in the list\n",
    "arr, emp = [], []\n",
    "for i, row  in orderproducts.iterrows():\n",
    "    if row.product_sku in list(products.sku):\n",
    "        arr.append(float(products.loc[products['sku'] == row.product_sku, 'price_usd'].values))\n",
    "    else:\n",
    "        emp.append(row.product_sku)\n",
    "        arr.append(0)\n",
    "orderproducts['product_price'] = pd.DataFrame(arr)"
   ]
  },
  {
   "cell_type": "code",
   "execution_count": 32,
   "metadata": {
    "ExecuteTime": {
     "end_time": "2021-04-03T16:34:20.704489Z",
     "start_time": "2021-04-03T16:34:20.684489Z"
    },
    "scrolled": true
   },
   "outputs": [
    {
     "name": "stdout",
     "output_type": "stream",
     "text": [
      "{nan, 'SRB-L-BLK', 'B-M80-VEG-GRY', 'B-M80-EB-BLK', '50-K61-FOAM', 'STICKER', 'B-M80-AC-BLK', 'CPN-BAG-STRAP-DPS-BLK', 'B-M80-SAD-BLK'}\n"
     ]
    }
   ],
   "source": [
    "# list of product skus that is not listed in products.csv\n",
    "print(set(emp))"
   ]
  },
  {
   "cell_type": "code",
   "execution_count": 33,
   "metadata": {
    "ExecuteTime": {
     "end_time": "2021-04-03T16:34:27.097161Z",
     "start_time": "2021-04-03T16:34:27.075164Z"
    }
   },
   "outputs": [],
   "source": [
    "orderproducts = orderproducts[['order_id', 'order_date', 'order_total_price', 'product_price', 'order_discounts',\n",
    "                               'product_discount', 'order_status', 'product_title', 'product_sku', 'product_quantity',\n",
    "                               'product_category']]"
   ]
  },
  {
   "cell_type": "code",
   "execution_count": 34,
   "metadata": {
    "ExecuteTime": {
     "end_time": "2021-04-03T16:34:28.401916Z",
     "start_time": "2021-04-03T16:34:28.381918Z"
    }
   },
   "outputs": [],
   "source": [
    "product_sku = orderproducts.groupby(['product_sku'])['product_quantity'].agg(['sum']).sort_values('sum', ascending=False).reset_index()"
   ]
  },
  {
   "cell_type": "code",
   "execution_count": 35,
   "metadata": {
    "ExecuteTime": {
     "end_time": "2021-04-03T16:34:31.984971Z",
     "start_time": "2021-04-03T16:34:31.971970Z"
    }
   },
   "outputs": [],
   "source": [
    "top_20 = list(product_sku['product_sku'].values)[0:20]"
   ]
  },
  {
   "cell_type": "code",
   "execution_count": 36,
   "metadata": {
    "ExecuteTime": {
     "end_time": "2021-04-03T16:34:32.630527Z",
     "start_time": "2021-04-03T16:34:32.618530Z"
    }
   },
   "outputs": [
    {
     "data": {
      "text/plain": [
       "['M80-TICK-V2-BLK',\n",
       " 'M80-VEG-BLK',\n",
       " 'EFX-FLY-BLK',\n",
       " 'M80-EG-BLK',\n",
       " 'M80-BTY-BLK-L',\n",
       " 'M80-2G-BLK',\n",
       " 'M80-VEB-BLK',\n",
       " 'M80-BTY-BLK-S',\n",
       " 'M80-EB-BLK',\n",
       " 'M80-AD-BLK',\n",
       " 'M80-SEG-BLK',\n",
       " 'M80-VAD-BLK',\n",
       " 'M80-SEG-ASH',\n",
       " 'M80-VHB-BLK',\n",
       " 'M80-TOUR-V2-BLK',\n",
       " 'M80-2B-BLK',\n",
       " 'M80-AC-BLK',\n",
       " 'M80-VEG-GRY',\n",
       " 'M80-VEB-GRY',\n",
       " 'M80-SEB-BLK']"
      ]
     },
     "execution_count": 36,
     "metadata": {},
     "output_type": "execute_result"
    }
   ],
   "source": [
    "top_20"
   ]
  },
  {
   "cell_type": "code",
   "execution_count": 37,
   "metadata": {
    "ExecuteTime": {
     "end_time": "2021-04-03T16:34:43.866072Z",
     "start_time": "2021-04-03T16:34:43.847056Z"
    }
   },
   "outputs": [],
   "source": [
    "# filter orders where product_sku is in top 20 list\n",
    "df = orderproducts[orderproducts['product_sku'].isin(top_20)]"
   ]
  },
  {
   "cell_type": "code",
   "execution_count": 38,
   "metadata": {
    "ExecuteTime": {
     "end_time": "2021-04-03T16:34:49.716280Z",
     "start_time": "2021-04-03T16:34:49.626277Z"
    }
   },
   "outputs": [],
   "source": [
    "df.to_csv('../data-processed/orderproducts_top20.csv', index=False)"
   ]
  },
  {
   "cell_type": "code",
   "execution_count": null,
   "metadata": {},
   "outputs": [],
   "source": []
  }
 ],
 "metadata": {
  "kernelspec": {
   "display_name": "Python 3",
   "language": "python",
   "name": "python3"
  },
  "language_info": {
   "codemirror_mode": {
    "name": "ipython",
    "version": 3
   },
   "file_extension": ".py",
   "mimetype": "text/x-python",
   "name": "python",
   "nbconvert_exporter": "python",
   "pygments_lexer": "ipython3",
   "version": "3.7.4"
  },
  "varInspector": {
   "cols": {
    "lenName": 16,
    "lenType": 16,
    "lenVar": 40
   },
   "kernels_config": {
    "python": {
     "delete_cmd_postfix": "",
     "delete_cmd_prefix": "del ",
     "library": "var_list.py",
     "varRefreshCmd": "print(var_dic_list())"
    },
    "r": {
     "delete_cmd_postfix": ") ",
     "delete_cmd_prefix": "rm(",
     "library": "var_list.r",
     "varRefreshCmd": "cat(var_dic_list()) "
    }
   },
   "types_to_exclude": [
    "module",
    "function",
    "builtin_function_or_method",
    "instance",
    "_Feature"
   ],
   "window_display": false
  }
 },
 "nbformat": 4,
 "nbformat_minor": 2
}
